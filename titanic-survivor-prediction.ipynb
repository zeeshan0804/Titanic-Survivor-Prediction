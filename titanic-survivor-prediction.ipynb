{
 "cells": [
  {
   "cell_type": "code",
   "execution_count": 1,
   "id": "24e810ce",
   "metadata": {
    "execution": {
     "iopub.execute_input": "2023-06-27T22:02:41.144280Z",
     "iopub.status.busy": "2023-06-27T22:02:41.143454Z",
     "iopub.status.idle": "2023-06-27T22:02:41.157434Z",
     "shell.execute_reply": "2023-06-27T22:02:41.156269Z"
    },
    "id": "03bzgt0_2GZh",
    "papermill": {
     "duration": 0.035989,
     "end_time": "2023-06-27T22:02:41.159674",
     "exception": false,
     "start_time": "2023-06-27T22:02:41.123685",
     "status": "completed"
    },
    "tags": []
   },
   "outputs": [
    {
     "name": "stdout",
     "output_type": "stream",
     "text": [
      "/kaggle/input/titanic/train.csv\n",
      "/kaggle/input/titanic/test.csv\n",
      "/kaggle/input/titanic/gender_submission.csv\n"
     ]
    }
   ],
   "source": [
    "# This Python 3 environment comes with many helpful analytics libraries installed\n",
    "# It is defined by the kaggle/python Docker image: https://github.com/kaggle/docker-python\n",
    "# For example, here's several helpful packages to load\n",
    "\n",
    "import numpy as np # linear algebra\n",
    "import pandas as pd # data processing, CSV file I/O (e.g. pd.read_csv)\n",
    "\n",
    "# Input data files are available in the read-only \"../input/\" directory\n",
    "# For example, running this (by clicking run or pressing Shift+Enter) will list all files under the input directory\n",
    "\n",
    "import os\n",
    "for dirname, _, filenames in os.walk('/kaggle/input'):\n",
    "    for filename in filenames:\n",
    "        print(os.path.join(dirname, filename))\n",
    "\n",
    "# You can write up to 20GB to the current directory (/kaggle/working/) that gets preserved as output when you create a version using \"Save & Run All\"\n",
    "# You can also write temporary files to /kaggle/temp/, but they won't be saved outside of the current session"
   ]
  },
  {
   "cell_type": "code",
   "execution_count": 2,
   "id": "ba5072ee",
   "metadata": {
    "execution": {
     "iopub.execute_input": "2023-06-27T22:02:41.197288Z",
     "iopub.status.busy": "2023-06-27T22:02:41.196678Z",
     "iopub.status.idle": "2023-06-27T22:02:42.517934Z",
     "shell.execute_reply": "2023-06-27T22:02:42.516676Z"
    },
    "id": "GMzlPhvF0H1n",
    "papermill": {
     "duration": 1.342487,
     "end_time": "2023-06-27T22:02:42.520619",
     "exception": false,
     "start_time": "2023-06-27T22:02:41.178132",
     "status": "completed"
    },
    "tags": []
   },
   "outputs": [],
   "source": [
    "import pandas as pd\n",
    "import numpy as np\n",
    "import matplotlib.pyplot as plt\n",
    "import seaborn as sns\n",
    "\n",
    "%matplotlib inline"
   ]
  },
  {
   "cell_type": "code",
   "execution_count": 3,
   "id": "2216f9d2",
   "metadata": {
    "execution": {
     "iopub.execute_input": "2023-06-27T22:02:42.557826Z",
     "iopub.status.busy": "2023-06-27T22:02:42.557466Z",
     "iopub.status.idle": "2023-06-27T22:02:42.619361Z",
     "shell.execute_reply": "2023-06-27T22:02:42.618352Z"
    },
    "id": "MiBY_J-40H1p",
    "outputId": "d69297bf-f87b-492b-8803-db18c013f51d",
    "papermill": {
     "duration": 0.083215,
     "end_time": "2023-06-27T22:02:42.621471",
     "exception": false,
     "start_time": "2023-06-27T22:02:42.538256",
     "status": "completed"
    },
    "tags": []
   },
   "outputs": [
    {
     "data": {
      "text/html": [
       "<div>\n",
       "<style scoped>\n",
       "    .dataframe tbody tr th:only-of-type {\n",
       "        vertical-align: middle;\n",
       "    }\n",
       "\n",
       "    .dataframe tbody tr th {\n",
       "        vertical-align: top;\n",
       "    }\n",
       "\n",
       "    .dataframe thead th {\n",
       "        text-align: right;\n",
       "    }\n",
       "</style>\n",
       "<table border=\"1\" class=\"dataframe\">\n",
       "  <thead>\n",
       "    <tr style=\"text-align: right;\">\n",
       "      <th></th>\n",
       "      <th>PassengerId</th>\n",
       "      <th>Survived</th>\n",
       "      <th>Pclass</th>\n",
       "      <th>Name</th>\n",
       "      <th>Sex</th>\n",
       "      <th>Age</th>\n",
       "      <th>SibSp</th>\n",
       "      <th>Parch</th>\n",
       "      <th>Ticket</th>\n",
       "      <th>Fare</th>\n",
       "      <th>Cabin</th>\n",
       "      <th>Embarked</th>\n",
       "    </tr>\n",
       "  </thead>\n",
       "  <tbody>\n",
       "    <tr>\n",
       "      <th>0</th>\n",
       "      <td>1</td>\n",
       "      <td>0</td>\n",
       "      <td>3</td>\n",
       "      <td>Braund, Mr. Owen Harris</td>\n",
       "      <td>male</td>\n",
       "      <td>22.0</td>\n",
       "      <td>1</td>\n",
       "      <td>0</td>\n",
       "      <td>A/5 21171</td>\n",
       "      <td>7.2500</td>\n",
       "      <td>NaN</td>\n",
       "      <td>S</td>\n",
       "    </tr>\n",
       "    <tr>\n",
       "      <th>1</th>\n",
       "      <td>2</td>\n",
       "      <td>1</td>\n",
       "      <td>1</td>\n",
       "      <td>Cumings, Mrs. John Bradley (Florence Briggs Th...</td>\n",
       "      <td>female</td>\n",
       "      <td>38.0</td>\n",
       "      <td>1</td>\n",
       "      <td>0</td>\n",
       "      <td>PC 17599</td>\n",
       "      <td>71.2833</td>\n",
       "      <td>C85</td>\n",
       "      <td>C</td>\n",
       "    </tr>\n",
       "    <tr>\n",
       "      <th>2</th>\n",
       "      <td>3</td>\n",
       "      <td>1</td>\n",
       "      <td>3</td>\n",
       "      <td>Heikkinen, Miss. Laina</td>\n",
       "      <td>female</td>\n",
       "      <td>26.0</td>\n",
       "      <td>0</td>\n",
       "      <td>0</td>\n",
       "      <td>STON/O2. 3101282</td>\n",
       "      <td>7.9250</td>\n",
       "      <td>NaN</td>\n",
       "      <td>S</td>\n",
       "    </tr>\n",
       "    <tr>\n",
       "      <th>3</th>\n",
       "      <td>4</td>\n",
       "      <td>1</td>\n",
       "      <td>1</td>\n",
       "      <td>Futrelle, Mrs. Jacques Heath (Lily May Peel)</td>\n",
       "      <td>female</td>\n",
       "      <td>35.0</td>\n",
       "      <td>1</td>\n",
       "      <td>0</td>\n",
       "      <td>113803</td>\n",
       "      <td>53.1000</td>\n",
       "      <td>C123</td>\n",
       "      <td>S</td>\n",
       "    </tr>\n",
       "    <tr>\n",
       "      <th>4</th>\n",
       "      <td>5</td>\n",
       "      <td>0</td>\n",
       "      <td>3</td>\n",
       "      <td>Allen, Mr. William Henry</td>\n",
       "      <td>male</td>\n",
       "      <td>35.0</td>\n",
       "      <td>0</td>\n",
       "      <td>0</td>\n",
       "      <td>373450</td>\n",
       "      <td>8.0500</td>\n",
       "      <td>NaN</td>\n",
       "      <td>S</td>\n",
       "    </tr>\n",
       "  </tbody>\n",
       "</table>\n",
       "</div>"
      ],
      "text/plain": [
       "   PassengerId  Survived  Pclass  \\\n",
       "0            1         0       3   \n",
       "1            2         1       1   \n",
       "2            3         1       3   \n",
       "3            4         1       1   \n",
       "4            5         0       3   \n",
       "\n",
       "                                                Name     Sex   Age  SibSp  \\\n",
       "0                            Braund, Mr. Owen Harris    male  22.0      1   \n",
       "1  Cumings, Mrs. John Bradley (Florence Briggs Th...  female  38.0      1   \n",
       "2                             Heikkinen, Miss. Laina  female  26.0      0   \n",
       "3       Futrelle, Mrs. Jacques Heath (Lily May Peel)  female  35.0      1   \n",
       "4                           Allen, Mr. William Henry    male  35.0      0   \n",
       "\n",
       "   Parch            Ticket     Fare Cabin Embarked  \n",
       "0      0         A/5 21171   7.2500   NaN        S  \n",
       "1      0          PC 17599  71.2833   C85        C  \n",
       "2      0  STON/O2. 3101282   7.9250   NaN        S  \n",
       "3      0            113803  53.1000  C123        S  \n",
       "4      0            373450   8.0500   NaN        S  "
      ]
     },
     "execution_count": 3,
     "metadata": {},
     "output_type": "execute_result"
    }
   ],
   "source": [
    "train = pd.read_csv('/kaggle/input/titanic/train.csv')\n",
    "test = pd.read_csv('/kaggle/input/titanic/test.csv')\n",
    "gs = pd.read_csv('/kaggle/input/titanic/gender_submission.csv')\n",
    "train.head()"
   ]
  },
  {
   "cell_type": "code",
   "execution_count": 4,
   "id": "fe76364d",
   "metadata": {
    "execution": {
     "iopub.execute_input": "2023-06-27T22:02:42.658666Z",
     "iopub.status.busy": "2023-06-27T22:02:42.658291Z",
     "iopub.status.idle": "2023-06-27T22:02:42.673502Z",
     "shell.execute_reply": "2023-06-27T22:02:42.672444Z"
    },
    "id": "au6O07m40H1p",
    "outputId": "99f67492-45e2-40d2-e729-f27cc86b6fa8",
    "papermill": {
     "duration": 0.036318,
     "end_time": "2023-06-27T22:02:42.675587",
     "exception": false,
     "start_time": "2023-06-27T22:02:42.639269",
     "status": "completed"
    },
    "tags": []
   },
   "outputs": [
    {
     "data": {
      "text/html": [
       "<div>\n",
       "<style scoped>\n",
       "    .dataframe tbody tr th:only-of-type {\n",
       "        vertical-align: middle;\n",
       "    }\n",
       "\n",
       "    .dataframe tbody tr th {\n",
       "        vertical-align: top;\n",
       "    }\n",
       "\n",
       "    .dataframe thead th {\n",
       "        text-align: right;\n",
       "    }\n",
       "</style>\n",
       "<table border=\"1\" class=\"dataframe\">\n",
       "  <thead>\n",
       "    <tr style=\"text-align: right;\">\n",
       "      <th></th>\n",
       "      <th>PassengerId</th>\n",
       "      <th>Pclass</th>\n",
       "      <th>Name</th>\n",
       "      <th>Sex</th>\n",
       "      <th>Age</th>\n",
       "      <th>SibSp</th>\n",
       "      <th>Parch</th>\n",
       "      <th>Ticket</th>\n",
       "      <th>Fare</th>\n",
       "      <th>Cabin</th>\n",
       "      <th>Embarked</th>\n",
       "    </tr>\n",
       "  </thead>\n",
       "  <tbody>\n",
       "    <tr>\n",
       "      <th>0</th>\n",
       "      <td>892</td>\n",
       "      <td>3</td>\n",
       "      <td>Kelly, Mr. James</td>\n",
       "      <td>male</td>\n",
       "      <td>34.5</td>\n",
       "      <td>0</td>\n",
       "      <td>0</td>\n",
       "      <td>330911</td>\n",
       "      <td>7.8292</td>\n",
       "      <td>NaN</td>\n",
       "      <td>Q</td>\n",
       "    </tr>\n",
       "    <tr>\n",
       "      <th>1</th>\n",
       "      <td>893</td>\n",
       "      <td>3</td>\n",
       "      <td>Wilkes, Mrs. James (Ellen Needs)</td>\n",
       "      <td>female</td>\n",
       "      <td>47.0</td>\n",
       "      <td>1</td>\n",
       "      <td>0</td>\n",
       "      <td>363272</td>\n",
       "      <td>7.0000</td>\n",
       "      <td>NaN</td>\n",
       "      <td>S</td>\n",
       "    </tr>\n",
       "    <tr>\n",
       "      <th>2</th>\n",
       "      <td>894</td>\n",
       "      <td>2</td>\n",
       "      <td>Myles, Mr. Thomas Francis</td>\n",
       "      <td>male</td>\n",
       "      <td>62.0</td>\n",
       "      <td>0</td>\n",
       "      <td>0</td>\n",
       "      <td>240276</td>\n",
       "      <td>9.6875</td>\n",
       "      <td>NaN</td>\n",
       "      <td>Q</td>\n",
       "    </tr>\n",
       "    <tr>\n",
       "      <th>3</th>\n",
       "      <td>895</td>\n",
       "      <td>3</td>\n",
       "      <td>Wirz, Mr. Albert</td>\n",
       "      <td>male</td>\n",
       "      <td>27.0</td>\n",
       "      <td>0</td>\n",
       "      <td>0</td>\n",
       "      <td>315154</td>\n",
       "      <td>8.6625</td>\n",
       "      <td>NaN</td>\n",
       "      <td>S</td>\n",
       "    </tr>\n",
       "    <tr>\n",
       "      <th>4</th>\n",
       "      <td>896</td>\n",
       "      <td>3</td>\n",
       "      <td>Hirvonen, Mrs. Alexander (Helga E Lindqvist)</td>\n",
       "      <td>female</td>\n",
       "      <td>22.0</td>\n",
       "      <td>1</td>\n",
       "      <td>1</td>\n",
       "      <td>3101298</td>\n",
       "      <td>12.2875</td>\n",
       "      <td>NaN</td>\n",
       "      <td>S</td>\n",
       "    </tr>\n",
       "  </tbody>\n",
       "</table>\n",
       "</div>"
      ],
      "text/plain": [
       "   PassengerId  Pclass                                          Name     Sex  \\\n",
       "0          892       3                              Kelly, Mr. James    male   \n",
       "1          893       3              Wilkes, Mrs. James (Ellen Needs)  female   \n",
       "2          894       2                     Myles, Mr. Thomas Francis    male   \n",
       "3          895       3                              Wirz, Mr. Albert    male   \n",
       "4          896       3  Hirvonen, Mrs. Alexander (Helga E Lindqvist)  female   \n",
       "\n",
       "    Age  SibSp  Parch   Ticket     Fare Cabin Embarked  \n",
       "0  34.5      0      0   330911   7.8292   NaN        Q  \n",
       "1  47.0      1      0   363272   7.0000   NaN        S  \n",
       "2  62.0      0      0   240276   9.6875   NaN        Q  \n",
       "3  27.0      0      0   315154   8.6625   NaN        S  \n",
       "4  22.0      1      1  3101298  12.2875   NaN        S  "
      ]
     },
     "execution_count": 4,
     "metadata": {},
     "output_type": "execute_result"
    }
   ],
   "source": [
    "test.head()"
   ]
  },
  {
   "cell_type": "code",
   "execution_count": 5,
   "id": "fe6060c1",
   "metadata": {
    "execution": {
     "iopub.execute_input": "2023-06-27T22:02:42.713608Z",
     "iopub.status.busy": "2023-06-27T22:02:42.712995Z",
     "iopub.status.idle": "2023-06-27T22:02:42.736988Z",
     "shell.execute_reply": "2023-06-27T22:02:42.735753Z"
    },
    "id": "r3w36-yq0H1p",
    "outputId": "64896bdb-0b6b-4752-9c28-57a792a3fb5c",
    "papermill": {
     "duration": 0.045823,
     "end_time": "2023-06-27T22:02:42.739455",
     "exception": false,
     "start_time": "2023-06-27T22:02:42.693632",
     "status": "completed"
    },
    "tags": []
   },
   "outputs": [
    {
     "name": "stdout",
     "output_type": "stream",
     "text": [
      "<class 'pandas.core.frame.DataFrame'>\n",
      "RangeIndex: 891 entries, 0 to 890\n",
      "Data columns (total 12 columns):\n",
      " #   Column       Non-Null Count  Dtype  \n",
      "---  ------       --------------  -----  \n",
      " 0   PassengerId  891 non-null    int64  \n",
      " 1   Survived     891 non-null    int64  \n",
      " 2   Pclass       891 non-null    int64  \n",
      " 3   Name         891 non-null    object \n",
      " 4   Sex          891 non-null    object \n",
      " 5   Age          714 non-null    float64\n",
      " 6   SibSp        891 non-null    int64  \n",
      " 7   Parch        891 non-null    int64  \n",
      " 8   Ticket       891 non-null    object \n",
      " 9   Fare         891 non-null    float64\n",
      " 10  Cabin        204 non-null    object \n",
      " 11  Embarked     889 non-null    object \n",
      "dtypes: float64(2), int64(5), object(5)\n",
      "memory usage: 83.7+ KB\n"
     ]
    }
   ],
   "source": [
    "train.info()"
   ]
  },
  {
   "cell_type": "markdown",
   "id": "6731b073",
   "metadata": {
    "id": "-DOrqyLz0H1p",
    "papermill": {
     "duration": 0.018447,
     "end_time": "2023-06-27T22:02:42.776285",
     "exception": false,
     "start_time": "2023-06-27T22:02:42.757838",
     "status": "completed"
    },
    "tags": []
   },
   "source": [
    "# **Feature Engineering**"
   ]
  },
  {
   "cell_type": "code",
   "execution_count": 6,
   "id": "5e0836f1",
   "metadata": {
    "execution": {
     "iopub.execute_input": "2023-06-27T22:02:42.814568Z",
     "iopub.status.busy": "2023-06-27T22:02:42.813808Z",
     "iopub.status.idle": "2023-06-27T22:02:43.072521Z",
     "shell.execute_reply": "2023-06-27T22:02:43.071431Z"
    },
    "id": "R_pHjKhg0H1q",
    "outputId": "0cf2bb47-29e4-4aff-cc8e-b298bb95ce4d",
    "papermill": {
     "duration": 0.280248,
     "end_time": "2023-06-27T22:02:43.074779",
     "exception": false,
     "start_time": "2023-06-27T22:02:42.794531",
     "status": "completed"
    },
    "tags": []
   },
   "outputs": [
    {
     "data": {
      "text/plain": [
       "<Axes: >"
      ]
     },
     "execution_count": 6,
     "metadata": {},
     "output_type": "execute_result"
    },
    {
     "data": {
      "image/png": "[encoded data removed]",
      "text/plain": [
       "<Figure size 640x480 with 1 Axes>"
      ]
     },
     "metadata": {},
     "output_type": "display_data"
    }
   ],
   "source": [
    "sns.heatmap(train.isnull(),yticklabels=False, cbar=False, cmap='viridis')"
   ]
  },
  {
   "cell_type": "code",
   "execution_count": 7,
   "id": "8a6dc0e2",
   "metadata": {
    "execution": {
     "iopub.execute_input": "2023-06-27T22:02:43.114753Z",
     "iopub.status.busy": "2023-06-27T22:02:43.114136Z",
     "iopub.status.idle": "2023-06-27T22:02:43.382697Z",
     "shell.execute_reply": "2023-06-27T22:02:43.381656Z"
    },
    "id": "hNpYHBJF0H1q",
    "outputId": "1de739c5-23f9-4b8e-b209-ce609f275922",
    "papermill": {
     "duration": 0.291176,
     "end_time": "2023-06-27T22:02:43.384888",
     "exception": false,
     "start_time": "2023-06-27T22:02:43.093712",
     "status": "completed"
    },
    "tags": []
   },
   "outputs": [
    {
     "data": {
      "text/plain": [
       "<Axes: xlabel='Survived', ylabel='count'>"
      ]
     },
     "execution_count": 7,
     "metadata": {},
     "output_type": "execute_result"
    },
    {
     "data": {
      "image/png": "[encoded data removed]",
      "text/plain": [
       "<Figure size 640x480 with 1 Axes>"
      ]
     },
     "metadata": {},
     "output_type": "display_data"
    }
   ],
   "source": [
    "sns.set_style('whitegrid')\n",
    "sns.countplot(x='Survived',hue='Sex', data=train)"
   ]
  },
  {
   "cell_type": "code",
   "execution_count": 8,
   "id": "f3a3da3f",
   "metadata": {
    "execution": {
     "iopub.execute_input": "2023-06-27T22:02:43.424719Z",
     "iopub.status.busy": "2023-06-27T22:02:43.424042Z",
     "iopub.status.idle": "2023-06-27T22:02:43.726976Z",
     "shell.execute_reply": "2023-06-27T22:02:43.725930Z"
    },
    "id": "r5Lz_oMl0H1q",
    "outputId": "c44194a1-3258-4fc9-c566-a9fad0a4bf75",
    "papermill": {
     "duration": 0.325427,
     "end_time": "2023-06-27T22:02:43.729239",
     "exception": false,
     "start_time": "2023-06-27T22:02:43.403812",
     "status": "completed"
    },
    "tags": []
   },
   "outputs": [
    {
     "data": {
      "text/plain": [
       "<Axes: xlabel='Survived', ylabel='count'>"
      ]
     },
     "execution_count": 8,
     "metadata": {},
     "output_type": "execute_result"
    },
    {
     "data": {
      "image/png": "[encoded data removed]",
      "text/plain": [
       "<Figure size 640x480 with 1 Axes>"
      ]
     },
     "metadata": {},
     "output_type": "display_data"
    }
   ],
   "source": [
    "sns.set_style('whitegrid')\n",
    "sns.countplot(x='Survived',hue='Pclass', data=train)"
   ]
  },
  {
   "cell_type": "code",
   "execution_count": 9,
   "id": "b2a1a39b",
   "metadata": {
    "execution": {
     "iopub.execute_input": "2023-06-27T22:02:43.770120Z",
     "iopub.status.busy": "2023-06-27T22:02:43.769658Z",
     "iopub.status.idle": "2023-06-27T22:02:43.792634Z",
     "shell.execute_reply": "2023-06-27T22:02:43.791783Z"
    },
    "id": "Efs1d1YY0H1r",
    "outputId": "0f06a50d-29fb-430f-b8b8-fdc8d77cf864",
    "papermill": {
     "duration": 0.045754,
     "end_time": "2023-06-27T22:02:43.794747",
     "exception": false,
     "start_time": "2023-06-27T22:02:43.748993",
     "status": "completed"
    },
    "tags": []
   },
   "outputs": [
    {
     "data": {
      "text/html": [
       "<div>\n",
       "<style scoped>\n",
       "    .dataframe tbody tr th:only-of-type {\n",
       "        vertical-align: middle;\n",
       "    }\n",
       "\n",
       "    .dataframe tbody tr th {\n",
       "        vertical-align: top;\n",
       "    }\n",
       "\n",
       "    .dataframe thead th {\n",
       "        text-align: right;\n",
       "    }\n",
       "</style>\n",
       "<table border=\"1\" class=\"dataframe\">\n",
       "  <thead>\n",
       "    <tr style=\"text-align: right;\">\n",
       "      <th></th>\n",
       "      <th>Name</th>\n",
       "      <th>Sex</th>\n",
       "      <th>Ticket</th>\n",
       "      <th>Cabin</th>\n",
       "      <th>Embarked</th>\n",
       "    </tr>\n",
       "  </thead>\n",
       "  <tbody>\n",
       "    <tr>\n",
       "      <th>count</th>\n",
       "      <td>891</td>\n",
       "      <td>891</td>\n",
       "      <td>891</td>\n",
       "      <td>204</td>\n",
       "      <td>889</td>\n",
       "    </tr>\n",
       "    <tr>\n",
       "      <th>unique</th>\n",
       "      <td>891</td>\n",
       "      <td>2</td>\n",
       "      <td>681</td>\n",
       "      <td>147</td>\n",
       "      <td>3</td>\n",
       "    </tr>\n",
       "    <tr>\n",
       "      <th>top</th>\n",
       "      <td>Braund, Mr. Owen Harris</td>\n",
       "      <td>male</td>\n",
       "      <td>347082</td>\n",
       "      <td>B96 B98</td>\n",
       "      <td>S</td>\n",
       "    </tr>\n",
       "    <tr>\n",
       "      <th>freq</th>\n",
       "      <td>1</td>\n",
       "      <td>577</td>\n",
       "      <td>7</td>\n",
       "      <td>4</td>\n",
       "      <td>644</td>\n",
       "    </tr>\n",
       "  </tbody>\n",
       "</table>\n",
       "</div>"
      ],
      "text/plain": [
       "                           Name   Sex  Ticket    Cabin Embarked\n",
       "count                       891   891     891      204      889\n",
       "unique                      891     2     681      147        3\n",
       "top     Braund, Mr. Owen Harris  male  347082  B96 B98        S\n",
       "freq                          1   577       7        4      644"
      ]
     },
     "execution_count": 9,
     "metadata": {},
     "output_type": "execute_result"
    }
   ],
   "source": [
    "train.describe(include=object)"
   ]
  },
  {
   "cell_type": "code",
   "execution_count": 10,
   "id": "adfbcb4f",
   "metadata": {
    "execution": {
     "iopub.execute_input": "2023-06-27T22:02:43.835624Z",
     "iopub.status.busy": "2023-06-27T22:02:43.834988Z",
     "iopub.status.idle": "2023-06-27T22:02:43.852430Z",
     "shell.execute_reply": "2023-06-27T22:02:43.851428Z"
    },
    "id": "3-cVCW8_0H1r",
    "outputId": "3828ec92-55da-4c41-c99a-f5f9ec88c1eb",
    "papermill": {
     "duration": 0.040398,
     "end_time": "2023-06-27T22:02:43.854626",
     "exception": false,
     "start_time": "2023-06-27T22:02:43.814228",
     "status": "completed"
    },
    "tags": []
   },
   "outputs": [
    {
     "name": "stderr",
     "output_type": "stream",
     "text": [
      "/tmp/ipykernel_20/4265813472.py:1: FutureWarning: The default value of numeric_only in DataFrameGroupBy.mean is deprecated. In a future version, numeric_only will default to False. Either specify numeric_only or select only columns which should be valid for the function.\n",
      "  tm = train.groupby(\"Survived\").mean()\n"
     ]
    },
    {
     "data": {
      "text/html": [
       "<div>\n",
       "<style scoped>\n",
       "    .dataframe tbody tr th:only-of-type {\n",
       "        vertical-align: middle;\n",
       "    }\n",
       "\n",
       "    .dataframe tbody tr th {\n",
       "        vertical-align: top;\n",
       "    }\n",
       "\n",
       "    .dataframe thead th {\n",
       "        text-align: right;\n",
       "    }\n",
       "</style>\n",
       "<table border=\"1\" class=\"dataframe\">\n",
       "  <thead>\n",
       "    <tr style=\"text-align: right;\">\n",
       "      <th></th>\n",
       "      <th>PassengerId</th>\n",
       "      <th>Pclass</th>\n",
       "      <th>Age</th>\n",
       "      <th>SibSp</th>\n",
       "      <th>Parch</th>\n",
       "      <th>Fare</th>\n",
       "    </tr>\n",
       "    <tr>\n",
       "      <th>Survived</th>\n",
       "      <th></th>\n",
       "      <th></th>\n",
       "      <th></th>\n",
       "      <th></th>\n",
       "      <th></th>\n",
       "      <th></th>\n",
       "    </tr>\n",
       "  </thead>\n",
       "  <tbody>\n",
       "    <tr>\n",
       "      <th>0</th>\n",
       "      <td>447.016393</td>\n",
       "      <td>2.531876</td>\n",
       "      <td>30.626179</td>\n",
       "      <td>0.553734</td>\n",
       "      <td>0.329690</td>\n",
       "      <td>22.117887</td>\n",
       "    </tr>\n",
       "    <tr>\n",
       "      <th>1</th>\n",
       "      <td>444.368421</td>\n",
       "      <td>1.950292</td>\n",
       "      <td>28.343690</td>\n",
       "      <td>0.473684</td>\n",
       "      <td>0.464912</td>\n",
       "      <td>48.395408</td>\n",
       "    </tr>\n",
       "  </tbody>\n",
       "</table>\n",
       "</div>"
      ],
      "text/plain": [
       "          PassengerId    Pclass        Age     SibSp     Parch       Fare\n",
       "Survived                                                                 \n",
       "0          447.016393  2.531876  30.626179  0.553734  0.329690  22.117887\n",
       "1          444.368421  1.950292  28.343690  0.473684  0.464912  48.395408"
      ]
     },
     "execution_count": 10,
     "metadata": {},
     "output_type": "execute_result"
    }
   ],
   "source": [
    "tm = train.groupby(\"Survived\").mean()\n",
    "tm"
   ]
  },
  {
   "cell_type": "code",
   "execution_count": 11,
   "id": "a871e7ec",
   "metadata": {
    "execution": {
     "iopub.execute_input": "2023-06-27T22:02:43.896152Z",
     "iopub.status.busy": "2023-06-27T22:02:43.894926Z",
     "iopub.status.idle": "2023-06-27T22:02:43.905021Z",
     "shell.execute_reply": "2023-06-27T22:02:43.903949Z"
    },
    "id": "2GzPsW720H1r",
    "outputId": "1de63ec3-3fe9-4316-c47e-8a2dd3f4f432",
    "papermill": {
     "duration": 0.033025,
     "end_time": "2023-06-27T22:02:43.907174",
     "exception": false,
     "start_time": "2023-06-27T22:02:43.874149",
     "status": "completed"
    },
    "tags": []
   },
   "outputs": [
    {
     "data": {
      "text/plain": [
       "PassengerId    0.002971\n",
       "Pclass         0.129755\n",
       "Age            0.038706\n",
       "SibSp          0.077914\n",
       "Parch          0.170176\n",
       "Fare           0.372661\n",
       "dtype: float64"
      ]
     },
     "execution_count": 11,
     "metadata": {},
     "output_type": "execute_result"
    }
   ],
   "source": [
    "v1 = tm.iloc[0,:]\n",
    "v2 = tm.iloc[1,:]\n",
    "abs((v2-v1)/(v1+v2))"
   ]
  },
  {
   "cell_type": "code",
   "execution_count": 12,
   "id": "a4aee0e8",
   "metadata": {
    "execution": {
     "iopub.execute_input": "2023-06-27T22:02:43.949641Z",
     "iopub.status.busy": "2023-06-27T22:02:43.948931Z",
     "iopub.status.idle": "2023-06-27T22:02:43.965985Z",
     "shell.execute_reply": "2023-06-27T22:02:43.964949Z"
    },
    "id": "7yCE6K0T0H1r",
    "papermill": {
     "duration": 0.040296,
     "end_time": "2023-06-27T22:02:43.967857",
     "exception": false,
     "start_time": "2023-06-27T22:02:43.927561",
     "status": "completed"
    },
    "tags": []
   },
   "outputs": [],
   "source": [
    "# print(train[\"Name\"].head())\n",
    "\n",
    "# def get_title(name):\n",
    "#     if '.' in name:\n",
    "#         return name.split(',')[1].split('.')[0].strip()\n",
    "#     else:\n",
    "#         return 'Unknown'\n",
    "\n",
    "# def title_map(title):\n",
    "#     if title in ['Mr']:\n",
    "#         return 1\n",
    "#     elif title in ['Master']:\n",
    "#         return 3\n",
    "#     elif title in ['Ms', 'Mlle', 'Miss']:\n",
    "#         return 4\n",
    "#     elif title in ['Mme', 'Mrs']:\n",
    "#         return 5\n",
    "#     else:\n",
    "#         return 2\n",
    "\n",
    "# train['title'] = train['Name'].apply(get_title).apply(title_map)\n",
    "# test['title'] = test['Name'].apply(get_title).apply(title_map)\n",
    "\n",
    "train['title']  =train.Name.str.split(', ').str[1].str.split('. ').str[0]\n",
    "train['title'].value_counts()\n",
    "\n",
    "train.loc[train.title.eq('Mrs'), 'title'] = 'Mrs'\n",
    "train.loc[train.title.eq('Mr'), 'title'] = 'Mr'\n",
    "\n",
    "train.loc[train.title.isin(['Miss','Ms']),'title'] = 'Miss'\n",
    "train.loc[train.title.eq('Master'),'title'] = 'Master'\n",
    "\n",
    "train.loc[~train.title.isin(['Mrs','Mr','Miss','Master']),'title'] = 'Celeb'"
   ]
  },
  {
   "cell_type": "code",
   "execution_count": 13,
   "id": "5aa0e3b0",
   "metadata": {
    "execution": {
     "iopub.execute_input": "2023-06-27T22:02:44.019408Z",
     "iopub.status.busy": "2023-06-27T22:02:44.018266Z",
     "iopub.status.idle": "2023-06-27T22:02:44.035767Z",
     "shell.execute_reply": "2023-06-27T22:02:44.034698Z"
    },
    "id": "Q9_-Yfub0H1s",
    "papermill": {
     "duration": 0.047614,
     "end_time": "2023-06-27T22:02:44.038225",
     "exception": false,
     "start_time": "2023-06-27T22:02:43.990611",
     "status": "completed"
    },
    "tags": []
   },
   "outputs": [],
   "source": [
    "test['title']  =test.Name.str.split(', ').str[1].str.split('. ').str[0]\n",
    "test['title'].value_counts()\n",
    "\n",
    "test.loc[test.title.eq('Mrs'), 'title'] = 'Mrs'\n",
    "test.loc[test.title.eq('Mr'), 'title'] = 'Mr'\n",
    "\n",
    "test.loc[test.title.isin(['Miss','Ms']),'title'] = 'Miss'\n",
    "test.loc[test.title.eq('Master'),'title'] = 'Master'\n",
    "\n",
    "test.loc[~test.title.isin(['Mrs','Mr','Miss','Master']),'title'] = 'Celeb'"
   ]
  },
  {
   "cell_type": "code",
   "execution_count": 14,
   "id": "25e0510e",
   "metadata": {
    "execution": {
     "iopub.execute_input": "2023-06-27T22:02:44.085274Z",
     "iopub.status.busy": "2023-06-27T22:02:44.084574Z",
     "iopub.status.idle": "2023-06-27T22:02:44.106479Z",
     "shell.execute_reply": "2023-06-27T22:02:44.105397Z"
    },
    "id": "E7QhSc0q0H1s",
    "outputId": "1bfadab9-adc2-48f1-d8c2-d1fa0468cd28",
    "papermill": {
     "duration": 0.050171,
     "end_time": "2023-06-27T22:02:44.109227",
     "exception": false,
     "start_time": "2023-06-27T22:02:44.059056",
     "status": "completed"
    },
    "tags": []
   },
   "outputs": [
    {
     "name": "stdout",
     "output_type": "stream",
     "text": [
      "<class 'pandas.core.frame.DataFrame'>\n",
      "RangeIndex: 891 entries, 0 to 890\n",
      "Data columns (total 11 columns):\n",
      " #   Column    Non-Null Count  Dtype  \n",
      "---  ------    --------------  -----  \n",
      " 0   Survived  891 non-null    int64  \n",
      " 1   Pclass    891 non-null    int64  \n",
      " 2   Sex       891 non-null    object \n",
      " 3   Age       714 non-null    float64\n",
      " 4   SibSp     891 non-null    int64  \n",
      " 5   Parch     891 non-null    int64  \n",
      " 6   Ticket    891 non-null    object \n",
      " 7   Fare      891 non-null    float64\n",
      " 8   Cabin     204 non-null    object \n",
      " 9   Embarked  889 non-null    object \n",
      " 10  title     891 non-null    object \n",
      "dtypes: float64(2), int64(4), object(5)\n",
      "memory usage: 76.7+ KB\n",
      "<class 'pandas.core.frame.DataFrame'>\n",
      "RangeIndex: 418 entries, 0 to 417\n",
      "Data columns (total 10 columns):\n",
      " #   Column    Non-Null Count  Dtype  \n",
      "---  ------    --------------  -----  \n",
      " 0   Pclass    418 non-null    int64  \n",
      " 1   Sex       418 non-null    object \n",
      " 2   Age       332 non-null    float64\n",
      " 3   SibSp     418 non-null    int64  \n",
      " 4   Parch     418 non-null    int64  \n",
      " 5   Ticket    418 non-null    object \n",
      " 6   Fare      417 non-null    float64\n",
      " 7   Cabin     91 non-null     object \n",
      " 8   Embarked  418 non-null    object \n",
      " 9   title     418 non-null    object \n",
      "dtypes: float64(2), int64(3), object(5)\n",
      "memory usage: 32.8+ KB\n"
     ]
    }
   ],
   "source": [
    "train = train.drop([\"PassengerId\", \"Name\"], axis = \"columns\")\n",
    "train.info()\n",
    "test = test.drop([\"PassengerId\", \"Name\"], axis = \"columns\")\n",
    "test.info()"
   ]
  },
  {
   "cell_type": "code",
   "execution_count": 15,
   "id": "e5fa66af",
   "metadata": {
    "execution": {
     "iopub.execute_input": "2023-06-27T22:02:44.157359Z",
     "iopub.status.busy": "2023-06-27T22:02:44.156101Z",
     "iopub.status.idle": "2023-06-27T22:02:44.182306Z",
     "shell.execute_reply": "2023-06-27T22:02:44.181432Z"
    },
    "id": "zWW9JItN0H1s",
    "outputId": "22ae4c7b-2f23-4109-cfc4-ec8e105e030c",
    "papermill": {
     "duration": 0.05055,
     "end_time": "2023-06-27T22:02:44.185176",
     "exception": false,
     "start_time": "2023-06-27T22:02:44.134626",
     "status": "completed"
    },
    "tags": []
   },
   "outputs": [
    {
     "name": "stdout",
     "output_type": "stream",
     "text": [
      "<class 'pandas.core.frame.DataFrame'>\n",
      "RangeIndex: 891 entries, 0 to 890\n",
      "Data columns (total 11 columns):\n",
      " #   Column    Non-Null Count  Dtype  \n",
      "---  ------    --------------  -----  \n",
      " 0   Survived  891 non-null    int64  \n",
      " 1   Pclass    891 non-null    int64  \n",
      " 2   Sex       891 non-null    int64  \n",
      " 3   Age       714 non-null    float64\n",
      " 4   SibSp     891 non-null    int64  \n",
      " 5   Parch     891 non-null    int64  \n",
      " 6   Ticket    891 non-null    object \n",
      " 7   Fare      891 non-null    float64\n",
      " 8   Cabin     204 non-null    object \n",
      " 9   Embarked  889 non-null    object \n",
      " 10  title     891 non-null    object \n",
      "dtypes: float64(2), int64(5), object(4)\n",
      "memory usage: 76.7+ KB\n",
      "<class 'pandas.core.frame.DataFrame'>\n",
      "RangeIndex: 418 entries, 0 to 417\n",
      "Data columns (total 10 columns):\n",
      " #   Column    Non-Null Count  Dtype  \n",
      "---  ------    --------------  -----  \n",
      " 0   Pclass    418 non-null    int64  \n",
      " 1   Sex       418 non-null    int64  \n",
      " 2   Age       332 non-null    float64\n",
      " 3   SibSp     418 non-null    int64  \n",
      " 4   Parch     418 non-null    int64  \n",
      " 5   Ticket    418 non-null    object \n",
      " 6   Fare      417 non-null    float64\n",
      " 7   Cabin     91 non-null     object \n",
      " 8   Embarked  418 non-null    object \n",
      " 9   title     418 non-null    object \n",
      "dtypes: float64(2), int64(4), object(4)\n",
      "memory usage: 32.8+ KB\n"
     ]
    }
   ],
   "source": [
    "train[\"Sex\"] = train[\"Sex\"].replace([\"male\", \"female\"], [0, 1])\n",
    "train.info()\n",
    "test[\"Sex\"] = test[\"Sex\"].replace([\"male\", \"female\"], [0, 1])\n",
    "test.info()"
   ]
  },
  {
   "cell_type": "code",
   "execution_count": 16,
   "id": "e9e246ee",
   "metadata": {
    "execution": {
     "iopub.execute_input": "2023-06-27T22:02:44.239729Z",
     "iopub.status.busy": "2023-06-27T22:02:44.238793Z",
     "iopub.status.idle": "2023-06-27T22:02:44.243619Z",
     "shell.execute_reply": "2023-06-27T22:02:44.242505Z"
    },
    "id": "238TwUBX0H1t",
    "papermill": {
     "duration": 0.031322,
     "end_time": "2023-06-27T22:02:44.245718",
     "exception": false,
     "start_time": "2023-06-27T22:02:44.214396",
     "status": "completed"
    },
    "tags": []
   },
   "outputs": [],
   "source": [
    "# train[\"Cabin\"] = train[\"Cabin\"].isna()\n",
    "# train.info()\n",
    "# test[\"Cabin\"] = test[\"Cabin\"].isna()\n",
    "# test.info()"
   ]
  },
  {
   "cell_type": "code",
   "execution_count": 17,
   "id": "438b6da5",
   "metadata": {
    "execution": {
     "iopub.execute_input": "2023-06-27T22:02:44.289697Z",
     "iopub.status.busy": "2023-06-27T22:02:44.288838Z",
     "iopub.status.idle": "2023-06-27T22:02:44.307579Z",
     "shell.execute_reply": "2023-06-27T22:02:44.306706Z"
    },
    "id": "9I6vYWV90H1t",
    "papermill": {
     "duration": 0.043646,
     "end_time": "2023-06-27T22:02:44.310588",
     "exception": false,
     "start_time": "2023-06-27T22:02:44.266942",
     "status": "completed"
    },
    "tags": []
   },
   "outputs": [],
   "source": [
    "def dum(df,x):\n",
    "    dum1 = pd.get_dummies(df[x], drop_first=True)\n",
    "    df = pd.concat([df,dum1],axis=1)\n",
    "    df.drop(x,axis=1,inplace=True)\n",
    "    return df\n",
    "\n",
    "for i in ['Embarked','title']:\n",
    "    train = dum(train ,i)\n",
    "for i in ['Embarked','title']:\n",
    "    test = dum(test ,i)"
   ]
  },
  {
   "cell_type": "code",
   "execution_count": 18,
   "id": "549b7f8a",
   "metadata": {
    "execution": {
     "iopub.execute_input": "2023-06-27T22:02:44.355800Z",
     "iopub.status.busy": "2023-06-27T22:02:44.354995Z",
     "iopub.status.idle": "2023-06-27T22:02:44.360023Z",
     "shell.execute_reply": "2023-06-27T22:02:44.359313Z"
    },
    "id": "EteJccv20H1t",
    "papermill": {
     "duration": 0.028769,
     "end_time": "2023-06-27T22:02:44.362126",
     "exception": false,
     "start_time": "2023-06-27T22:02:44.333357",
     "status": "completed"
    },
    "tags": []
   },
   "outputs": [],
   "source": [
    "# mean_f = train['Fare'].mean()\n",
    "# train['Fare'] = train['Fare']>mean_f\n",
    "\n",
    "# train.loc[train['Fare']<=8, 'Fare'] = 0\n",
    "# train.loc[(train['Fare']>8) & (train['Fare']<=14), 'Fare'] = 1\n",
    "# train.loc[(train['Fare']>14) & (train['Fare']<=31), 'Fare'] = 2\n",
    "# train.loc[train['Fare']>31, 'Fare'] = 3\n",
    "\n",
    "# train['Fare'] = train['Fare'].astype(int)\n",
    "\n",
    "# test.loc[test['Fare']<=8, 'Fare'] = 0\n",
    "# test.loc[(test['Fare']>8) & (test['Fare']<=14), 'Fare'] = 1\n",
    "# test.loc[(test['Fare']>14) & (test['Fare']<=31), 'Fare'] = 2\n",
    "# test.loc[test['Fare']>31, 'Fare'] = 3\n",
    "# test['Fare'][test['Fare'].isna()] = 0\n",
    "# test['Fare'] = test['Fare'].astype(int)\n",
    "\n",
    "# test['Fare']"
   ]
  },
  {
   "cell_type": "code",
   "execution_count": 19,
   "id": "63b14d4a",
   "metadata": {
    "execution": {
     "iopub.execute_input": "2023-06-27T22:02:44.412440Z",
     "iopub.status.busy": "2023-06-27T22:02:44.411422Z",
     "iopub.status.idle": "2023-06-27T22:02:44.426725Z",
     "shell.execute_reply": "2023-06-27T22:02:44.425986Z"
    },
    "id": "oJTg3-bN0H1t",
    "outputId": "2e328ac5-3ad4-4aec-8baf-4daf8f76b234",
    "papermill": {
     "duration": 0.04099,
     "end_time": "2023-06-27T22:02:44.428841",
     "exception": false,
     "start_time": "2023-06-27T22:02:44.387851",
     "status": "completed"
    },
    "tags": []
   },
   "outputs": [
    {
     "name": "stderr",
     "output_type": "stream",
     "text": [
      "/tmp/ipykernel_20/3322082531.py:1: FutureWarning: The default value of numeric_only in DataFrameGroupBy.mean is deprecated. In a future version, numeric_only will default to False. Either specify numeric_only or select only columns which should be valid for the function.\n",
      "  tm = train.groupby(\"Survived\").mean()\n"
     ]
    },
    {
     "data": {
      "text/plain": [
       "Pclass    0.129755\n",
       "Sex       0.643977\n",
       "Age       0.038706\n",
       "SibSp     0.077914\n",
       "Parch     0.170176\n",
       "Fare      0.372661\n",
       "Q         0.012168\n",
       "S         0.101449\n",
       "Master    0.369449\n",
       "Miss      0.577692\n",
       "Mr        0.540564\n",
       "Mrs       0.718799\n",
       "dtype: float64"
      ]
     },
     "execution_count": 19,
     "metadata": {},
     "output_type": "execute_result"
    }
   ],
   "source": [
    "tm = train.groupby(\"Survived\").mean()\n",
    "v1 = tm.iloc[0,:]\n",
    "v2 = tm.iloc[1,:]\n",
    "abs((v2-v1)/(v1+v2))"
   ]
  },
  {
   "cell_type": "code",
   "execution_count": 20,
   "id": "76db9b59",
   "metadata": {
    "execution": {
     "iopub.execute_input": "2023-06-27T22:02:44.478239Z",
     "iopub.status.busy": "2023-06-27T22:02:44.477855Z",
     "iopub.status.idle": "2023-06-27T22:02:44.489133Z",
     "shell.execute_reply": "2023-06-27T22:02:44.488023Z"
    },
    "id": "JpWmVEy40H1t",
    "outputId": "fc064a77-9f01-4851-ae7b-65050a53afaf",
    "papermill": {
     "duration": 0.035385,
     "end_time": "2023-06-27T22:02:44.491530",
     "exception": false,
     "start_time": "2023-06-27T22:02:44.456145",
     "status": "completed"
    },
    "tags": []
   },
   "outputs": [
    {
     "name": "stderr",
     "output_type": "stream",
     "text": [
      "/tmp/ipykernel_20/3681337204.py:5: SettingWithCopyWarning: \n",
      "A value is trying to be set on a copy of a slice from a DataFrame\n",
      "\n",
      "See the caveats in the documentation: https://pandas.pydata.org/pandas-docs/stable/user_guide/indexing.html#returning-a-view-versus-a-copy\n",
      "  train[\"Age\"][train[\"Master\"]==1] = 5\n",
      "/tmp/ipykernel_20/3681337204.py:14: SettingWithCopyWarning: \n",
      "A value is trying to be set on a copy of a slice from a DataFrame\n",
      "\n",
      "See the caveats in the documentation: https://pandas.pydata.org/pandas-docs/stable/user_guide/indexing.html#returning-a-view-versus-a-copy\n",
      "  test[\"Age\"][test[\"Master\"]==1] = 6\n"
     ]
    }
   ],
   "source": [
    "# train[\"Age\"][train[\"Age\"].isna()] = train[\"Age\"].mean()\n",
    "\n",
    "# train[\"Age\"][train[\"title\"]==1] = 32\n",
    "# train[\"Age\"][train[\"title\"]==2] = 45\n",
    "train[\"Age\"][train[\"Master\"]==1] = 5\n",
    "# train[\"Age\"][train[\"title\"]==4] = 22\n",
    "# train[\"Age\"][train[\"title\"]==5] = 36\n",
    "\n",
    "mean_age = train.Age.mean()\n",
    "train.Age = train.Age.fillna(mean_age)\n",
    "\n",
    "#train = train.drop([\"title\"], axis = \"columns\")\n",
    "\n",
    "test[\"Age\"][test[\"Master\"]==1] = 6\n",
    "mean_age = test.Age.mean()\n",
    "test.Age = test.Age.fillna(mean_age)"
   ]
  },
  {
   "cell_type": "code",
   "execution_count": 21,
   "id": "1aa91c24",
   "metadata": {
    "execution": {
     "iopub.execute_input": "2023-06-27T22:02:44.534260Z",
     "iopub.status.busy": "2023-06-27T22:02:44.533460Z",
     "iopub.status.idle": "2023-06-27T22:02:44.544822Z",
     "shell.execute_reply": "2023-06-27T22:02:44.543764Z"
    },
    "id": "9UeIui5-0H1u",
    "outputId": "9eba6b10-4630-4289-dd8f-5ed0ea7cbc26",
    "papermill": {
     "duration": 0.034999,
     "end_time": "2023-06-27T22:02:44.546954",
     "exception": false,
     "start_time": "2023-06-27T22:02:44.511955",
     "status": "completed"
    },
    "tags": []
   },
   "outputs": [
    {
     "name": "stderr",
     "output_type": "stream",
     "text": [
      "/tmp/ipykernel_20/3901458896.py:14: SettingWithCopyWarning: \n",
      "A value is trying to be set on a copy of a slice from a DataFrame\n",
      "\n",
      "See the caveats in the documentation: https://pandas.pydata.org/pandas-docs/stable/user_guide/indexing.html#returning-a-view-versus-a-copy\n",
      "  train[\"WCG\"][(train[\"Age\"]<=14.0) & (train[\"Sex\"]==1)] = 1\n",
      "/tmp/ipykernel_20/3901458896.py:17: SettingWithCopyWarning: \n",
      "A value is trying to be set on a copy of a slice from a DataFrame\n",
      "\n",
      "See the caveats in the documentation: https://pandas.pydata.org/pandas-docs/stable/user_guide/indexing.html#returning-a-view-versus-a-copy\n",
      "  test[\"WCG\"][(test[\"Age\"]<=14.0) & (test[\"Sex\"]==1)] = 1\n"
     ]
    }
   ],
   "source": [
    "# def WCG(df):\n",
    "#     wcg = []\n",
    "\n",
    "#     for i in df[\"Sex\"]:\n",
    "#         if i==0:\n",
    "#             wcg.append(0)\n",
    "#         elif i==1 & df[\"Age\"]>14.0:\n",
    "#             sibsp.append(1)\n",
    "\n",
    "#     df[\"WCG\"] = sibsp\n",
    "\n",
    "# WCG(train)\n",
    "train[\"WCG\"]=np.zeros(891)\n",
    "train[\"WCG\"][(train[\"Age\"]<=14.0) & (train[\"Sex\"]==1)] = 1\n",
    "\n",
    "test[\"WCG\"]=np.zeros(418)\n",
    "test[\"WCG\"][(test[\"Age\"]<=14.0) & (test[\"Sex\"]==1)] = 1"
   ]
  },
  {
   "cell_type": "code",
   "execution_count": 22,
   "id": "d6b58101",
   "metadata": {
    "execution": {
     "iopub.execute_input": "2023-06-27T22:02:44.589589Z",
     "iopub.status.busy": "2023-06-27T22:02:44.588854Z",
     "iopub.status.idle": "2023-06-27T22:02:44.596726Z",
     "shell.execute_reply": "2023-06-27T22:02:44.595970Z"
    },
    "id": "p1IrgG5y0H1u",
    "papermill": {
     "duration": 0.031458,
     "end_time": "2023-06-27T22:02:44.598739",
     "exception": false,
     "start_time": "2023-06-27T22:02:44.567281",
     "status": "completed"
    },
    "tags": []
   },
   "outputs": [],
   "source": [
    "train[\"Age_Category\"] = pd.cut(train[\"Age\"], bins=[0,12,20,50,100], labels=[\"Children\",\"Teenager\",\"Adult\",\"Senior Citizen\"])"
   ]
  },
  {
   "cell_type": "code",
   "execution_count": 23,
   "id": "3cce7485",
   "metadata": {
    "execution": {
     "iopub.execute_input": "2023-06-27T22:02:44.641993Z",
     "iopub.status.busy": "2023-06-27T22:02:44.641103Z",
     "iopub.status.idle": "2023-06-27T22:02:44.648848Z",
     "shell.execute_reply": "2023-06-27T22:02:44.648107Z"
    },
    "id": "b6jXN2rF0H1u",
    "papermill": {
     "duration": 0.031521,
     "end_time": "2023-06-27T22:02:44.650888",
     "exception": false,
     "start_time": "2023-06-27T22:02:44.619367",
     "status": "completed"
    },
    "tags": []
   },
   "outputs": [],
   "source": [
    "test[\"Age_Category\"] = pd.cut(test[\"Age\"], bins=[0,12,20,50,100], labels=[\"Children\",\"Teenager\",\"Adult\",\"Senior Citizen\"])"
   ]
  },
  {
   "cell_type": "code",
   "execution_count": 24,
   "id": "a61c2ea2",
   "metadata": {
    "execution": {
     "iopub.execute_input": "2023-06-27T22:02:44.695480Z",
     "iopub.status.busy": "2023-06-27T22:02:44.694437Z",
     "iopub.status.idle": "2023-06-27T22:02:44.718795Z",
     "shell.execute_reply": "2023-06-27T22:02:44.717652Z"
    },
    "id": "cDHTZAHZ0H1u",
    "outputId": "70250e17-9d3f-4aee-b1ac-d2c99b9983d7",
    "papermill": {
     "duration": 0.049668,
     "end_time": "2023-06-27T22:02:44.720972",
     "exception": false,
     "start_time": "2023-06-27T22:02:44.671304",
     "status": "completed"
    },
    "tags": []
   },
   "outputs": [
    {
     "data": {
      "text/html": [
       "<div>\n",
       "<style scoped>\n",
       "    .dataframe tbody tr th:only-of-type {\n",
       "        vertical-align: middle;\n",
       "    }\n",
       "\n",
       "    .dataframe tbody tr th {\n",
       "        vertical-align: top;\n",
       "    }\n",
       "\n",
       "    .dataframe thead th {\n",
       "        text-align: right;\n",
       "    }\n",
       "</style>\n",
       "<table border=\"1\" class=\"dataframe\">\n",
       "  <thead>\n",
       "    <tr style=\"text-align: right;\">\n",
       "      <th></th>\n",
       "      <th>Survived</th>\n",
       "      <th>Pclass</th>\n",
       "      <th>Sex</th>\n",
       "      <th>Age</th>\n",
       "      <th>SibSp</th>\n",
       "      <th>Parch</th>\n",
       "      <th>Ticket</th>\n",
       "      <th>Fare</th>\n",
       "      <th>Cabin</th>\n",
       "      <th>Q</th>\n",
       "      <th>S</th>\n",
       "      <th>Master</th>\n",
       "      <th>Miss</th>\n",
       "      <th>Mr</th>\n",
       "      <th>Mrs</th>\n",
       "      <th>WCG</th>\n",
       "      <th>Age_Category</th>\n",
       "      <th>Family_Size</th>\n",
       "    </tr>\n",
       "  </thead>\n",
       "  <tbody>\n",
       "    <tr>\n",
       "      <th>0</th>\n",
       "      <td>0</td>\n",
       "      <td>3</td>\n",
       "      <td>0</td>\n",
       "      <td>22.0</td>\n",
       "      <td>1</td>\n",
       "      <td>0</td>\n",
       "      <td>A/5 21171</td>\n",
       "      <td>7.2500</td>\n",
       "      <td>NaN</td>\n",
       "      <td>0</td>\n",
       "      <td>1</td>\n",
       "      <td>0</td>\n",
       "      <td>0</td>\n",
       "      <td>1</td>\n",
       "      <td>0</td>\n",
       "      <td>0.0</td>\n",
       "      <td>Adult</td>\n",
       "      <td>2</td>\n",
       "    </tr>\n",
       "    <tr>\n",
       "      <th>1</th>\n",
       "      <td>1</td>\n",
       "      <td>1</td>\n",
       "      <td>1</td>\n",
       "      <td>38.0</td>\n",
       "      <td>1</td>\n",
       "      <td>0</td>\n",
       "      <td>PC 17599</td>\n",
       "      <td>71.2833</td>\n",
       "      <td>C85</td>\n",
       "      <td>0</td>\n",
       "      <td>0</td>\n",
       "      <td>0</td>\n",
       "      <td>0</td>\n",
       "      <td>0</td>\n",
       "      <td>1</td>\n",
       "      <td>0.0</td>\n",
       "      <td>Adult</td>\n",
       "      <td>2</td>\n",
       "    </tr>\n",
       "    <tr>\n",
       "      <th>2</th>\n",
       "      <td>1</td>\n",
       "      <td>3</td>\n",
       "      <td>1</td>\n",
       "      <td>26.0</td>\n",
       "      <td>0</td>\n",
       "      <td>0</td>\n",
       "      <td>STON/O2. 3101282</td>\n",
       "      <td>7.9250</td>\n",
       "      <td>NaN</td>\n",
       "      <td>0</td>\n",
       "      <td>1</td>\n",
       "      <td>0</td>\n",
       "      <td>1</td>\n",
       "      <td>0</td>\n",
       "      <td>0</td>\n",
       "      <td>0.0</td>\n",
       "      <td>Adult</td>\n",
       "      <td>1</td>\n",
       "    </tr>\n",
       "    <tr>\n",
       "      <th>3</th>\n",
       "      <td>1</td>\n",
       "      <td>1</td>\n",
       "      <td>1</td>\n",
       "      <td>35.0</td>\n",
       "      <td>1</td>\n",
       "      <td>0</td>\n",
       "      <td>113803</td>\n",
       "      <td>53.1000</td>\n",
       "      <td>C123</td>\n",
       "      <td>0</td>\n",
       "      <td>1</td>\n",
       "      <td>0</td>\n",
       "      <td>0</td>\n",
       "      <td>0</td>\n",
       "      <td>1</td>\n",
       "      <td>0.0</td>\n",
       "      <td>Adult</td>\n",
       "      <td>2</td>\n",
       "    </tr>\n",
       "    <tr>\n",
       "      <th>4</th>\n",
       "      <td>0</td>\n",
       "      <td>3</td>\n",
       "      <td>0</td>\n",
       "      <td>35.0</td>\n",
       "      <td>0</td>\n",
       "      <td>0</td>\n",
       "      <td>373450</td>\n",
       "      <td>8.0500</td>\n",
       "      <td>NaN</td>\n",
       "      <td>0</td>\n",
       "      <td>1</td>\n",
       "      <td>0</td>\n",
       "      <td>0</td>\n",
       "      <td>1</td>\n",
       "      <td>0</td>\n",
       "      <td>0.0</td>\n",
       "      <td>Adult</td>\n",
       "      <td>1</td>\n",
       "    </tr>\n",
       "  </tbody>\n",
       "</table>\n",
       "</div>"
      ],
      "text/plain": [
       "   Survived  Pclass  Sex   Age  SibSp  Parch            Ticket     Fare Cabin  \\\n",
       "0         0       3    0  22.0      1      0         A/5 21171   7.2500   NaN   \n",
       "1         1       1    1  38.0      1      0          PC 17599  71.2833   C85   \n",
       "2         1       3    1  26.0      0      0  STON/O2. 3101282   7.9250   NaN   \n",
       "3         1       1    1  35.0      1      0            113803  53.1000  C123   \n",
       "4         0       3    0  35.0      0      0            373450   8.0500   NaN   \n",
       "\n",
       "   Q  S  Master  Miss  Mr  Mrs  WCG Age_Category  Family_Size  \n",
       "0  0  1       0     0   1    0  0.0        Adult            2  \n",
       "1  0  0       0     0   0    1  0.0        Adult            2  \n",
       "2  0  1       0     1   0    0  0.0        Adult            1  \n",
       "3  0  1       0     0   0    1  0.0        Adult            2  \n",
       "4  0  1       0     0   1    0  0.0        Adult            1  "
      ]
     },
     "execution_count": 24,
     "metadata": {},
     "output_type": "execute_result"
    }
   ],
   "source": [
    "train[\"Family_Size\"] = (train[\"SibSp\"] + train[\"Parch\"] + 1)\n",
    "train.head()"
   ]
  },
  {
   "cell_type": "code",
   "execution_count": 25,
   "id": "dee2a097",
   "metadata": {
    "execution": {
     "iopub.execute_input": "2023-06-27T22:02:44.764713Z",
     "iopub.status.busy": "2023-06-27T22:02:44.764351Z",
     "iopub.status.idle": "2023-06-27T22:02:44.784120Z",
     "shell.execute_reply": "2023-06-27T22:02:44.783001Z"
    },
    "id": "DlRodSlU0H1u",
    "outputId": "90b020fa-6399-44ed-a8d3-d29d692a2e56",
    "papermill": {
     "duration": 0.044064,
     "end_time": "2023-06-27T22:02:44.786092",
     "exception": false,
     "start_time": "2023-06-27T22:02:44.742028",
     "status": "completed"
    },
    "tags": []
   },
   "outputs": [
    {
     "data": {
      "text/html": [
       "<div>\n",
       "<style scoped>\n",
       "    .dataframe tbody tr th:only-of-type {\n",
       "        vertical-align: middle;\n",
       "    }\n",
       "\n",
       "    .dataframe tbody tr th {\n",
       "        vertical-align: top;\n",
       "    }\n",
       "\n",
       "    .dataframe thead th {\n",
       "        text-align: right;\n",
       "    }\n",
       "</style>\n",
       "<table border=\"1\" class=\"dataframe\">\n",
       "  <thead>\n",
       "    <tr style=\"text-align: right;\">\n",
       "      <th></th>\n",
       "      <th>Survived</th>\n",
       "      <th>Pclass</th>\n",
       "      <th>Sex</th>\n",
       "      <th>Age</th>\n",
       "      <th>SibSp</th>\n",
       "      <th>Parch</th>\n",
       "      <th>Ticket</th>\n",
       "      <th>Fare</th>\n",
       "      <th>Cabin</th>\n",
       "      <th>Q</th>\n",
       "      <th>S</th>\n",
       "      <th>Master</th>\n",
       "      <th>Miss</th>\n",
       "      <th>Mr</th>\n",
       "      <th>Mrs</th>\n",
       "      <th>WCG</th>\n",
       "      <th>Age_Category</th>\n",
       "      <th>Family_Size</th>\n",
       "      <th>Solo_Traveller</th>\n",
       "    </tr>\n",
       "  </thead>\n",
       "  <tbody>\n",
       "    <tr>\n",
       "      <th>0</th>\n",
       "      <td>0</td>\n",
       "      <td>3</td>\n",
       "      <td>0</td>\n",
       "      <td>22.0</td>\n",
       "      <td>1</td>\n",
       "      <td>0</td>\n",
       "      <td>A/5 21171</td>\n",
       "      <td>7.2500</td>\n",
       "      <td>NaN</td>\n",
       "      <td>0</td>\n",
       "      <td>1</td>\n",
       "      <td>0</td>\n",
       "      <td>0</td>\n",
       "      <td>1</td>\n",
       "      <td>0</td>\n",
       "      <td>0.0</td>\n",
       "      <td>Adult</td>\n",
       "      <td>2</td>\n",
       "      <td>False</td>\n",
       "    </tr>\n",
       "    <tr>\n",
       "      <th>1</th>\n",
       "      <td>1</td>\n",
       "      <td>1</td>\n",
       "      <td>1</td>\n",
       "      <td>38.0</td>\n",
       "      <td>1</td>\n",
       "      <td>0</td>\n",
       "      <td>PC 17599</td>\n",
       "      <td>71.2833</td>\n",
       "      <td>C85</td>\n",
       "      <td>0</td>\n",
       "      <td>0</td>\n",
       "      <td>0</td>\n",
       "      <td>0</td>\n",
       "      <td>0</td>\n",
       "      <td>1</td>\n",
       "      <td>0.0</td>\n",
       "      <td>Adult</td>\n",
       "      <td>2</td>\n",
       "      <td>False</td>\n",
       "    </tr>\n",
       "    <tr>\n",
       "      <th>2</th>\n",
       "      <td>1</td>\n",
       "      <td>3</td>\n",
       "      <td>1</td>\n",
       "      <td>26.0</td>\n",
       "      <td>0</td>\n",
       "      <td>0</td>\n",
       "      <td>STON/O2. 3101282</td>\n",
       "      <td>7.9250</td>\n",
       "      <td>NaN</td>\n",
       "      <td>0</td>\n",
       "      <td>1</td>\n",
       "      <td>0</td>\n",
       "      <td>1</td>\n",
       "      <td>0</td>\n",
       "      <td>0</td>\n",
       "      <td>0.0</td>\n",
       "      <td>Adult</td>\n",
       "      <td>1</td>\n",
       "      <td>True</td>\n",
       "    </tr>\n",
       "    <tr>\n",
       "      <th>3</th>\n",
       "      <td>1</td>\n",
       "      <td>1</td>\n",
       "      <td>1</td>\n",
       "      <td>35.0</td>\n",
       "      <td>1</td>\n",
       "      <td>0</td>\n",
       "      <td>113803</td>\n",
       "      <td>53.1000</td>\n",
       "      <td>C123</td>\n",
       "      <td>0</td>\n",
       "      <td>1</td>\n",
       "      <td>0</td>\n",
       "      <td>0</td>\n",
       "      <td>0</td>\n",
       "      <td>1</td>\n",
       "      <td>0.0</td>\n",
       "      <td>Adult</td>\n",
       "      <td>2</td>\n",
       "      <td>False</td>\n",
       "    </tr>\n",
       "    <tr>\n",
       "      <th>4</th>\n",
       "      <td>0</td>\n",
       "      <td>3</td>\n",
       "      <td>0</td>\n",
       "      <td>35.0</td>\n",
       "      <td>0</td>\n",
       "      <td>0</td>\n",
       "      <td>373450</td>\n",
       "      <td>8.0500</td>\n",
       "      <td>NaN</td>\n",
       "      <td>0</td>\n",
       "      <td>1</td>\n",
       "      <td>0</td>\n",
       "      <td>0</td>\n",
       "      <td>1</td>\n",
       "      <td>0</td>\n",
       "      <td>0.0</td>\n",
       "      <td>Adult</td>\n",
       "      <td>1</td>\n",
       "      <td>True</td>\n",
       "    </tr>\n",
       "  </tbody>\n",
       "</table>\n",
       "</div>"
      ],
      "text/plain": [
       "   Survived  Pclass  Sex   Age  SibSp  Parch            Ticket     Fare Cabin  \\\n",
       "0         0       3    0  22.0      1      0         A/5 21171   7.2500   NaN   \n",
       "1         1       1    1  38.0      1      0          PC 17599  71.2833   C85   \n",
       "2         1       3    1  26.0      0      0  STON/O2. 3101282   7.9250   NaN   \n",
       "3         1       1    1  35.0      1      0            113803  53.1000  C123   \n",
       "4         0       3    0  35.0      0      0            373450   8.0500   NaN   \n",
       "\n",
       "   Q  S  Master  Miss  Mr  Mrs  WCG Age_Category  Family_Size  Solo_Traveller  \n",
       "0  0  1       0     0   1    0  0.0        Adult            2           False  \n",
       "1  0  0       0     0   0    1  0.0        Adult            2           False  \n",
       "2  0  1       0     1   0    0  0.0        Adult            1            True  \n",
       "3  0  1       0     0   0    1  0.0        Adult            2           False  \n",
       "4  0  1       0     0   1    0  0.0        Adult            1            True  "
      ]
     },
     "execution_count": 25,
     "metadata": {},
     "output_type": "execute_result"
    }
   ],
   "source": [
    "train[\"Solo_Traveller\"] = (train[\"Family_Size\"]==1)\n",
    "train.head()"
   ]
  },
  {
   "cell_type": "code",
   "execution_count": 26,
   "id": "d785a13d",
   "metadata": {
    "execution": {
     "iopub.execute_input": "2023-06-27T22:02:44.830425Z",
     "iopub.status.busy": "2023-06-27T22:02:44.829432Z",
     "iopub.status.idle": "2023-06-27T22:02:44.844305Z",
     "shell.execute_reply": "2023-06-27T22:02:44.843038Z"
    },
    "id": "feWHiGsW0H1u",
    "outputId": "a85f9d2c-399e-4d09-9cc3-13d04e76d230",
    "papermill": {
     "duration": 0.039264,
     "end_time": "2023-06-27T22:02:44.846509",
     "exception": false,
     "start_time": "2023-06-27T22:02:44.807245",
     "status": "completed"
    },
    "tags": []
   },
   "outputs": [
    {
     "name": "stderr",
     "output_type": "stream",
     "text": [
      "/tmp/ipykernel_20/3322082531.py:1: FutureWarning: The default value of numeric_only in DataFrameGroupBy.mean is deprecated. In a future version, numeric_only will default to False. Either specify numeric_only or select only columns which should be valid for the function.\n",
      "  tm = train.groupby(\"Survived\").mean()\n"
     ]
    },
    {
     "data": {
      "text/plain": [
       "Pclass            0.129755\n",
       "Sex               0.643977\n",
       "Age               0.031281\n",
       "SibSp             0.077914\n",
       "Parch             0.170176\n",
       "Fare              0.372661\n",
       "Q                 0.012168\n",
       "S                 0.101449\n",
       "Master            0.369449\n",
       "Miss              0.577692\n",
       "Mr                0.540564\n",
       "Mrs               0.718799\n",
       "WCG               0.466934\n",
       "Family_Size       0.014435\n",
       "Solo_Traveller    0.176734\n",
       "dtype: float64"
      ]
     },
     "execution_count": 26,
     "metadata": {},
     "output_type": "execute_result"
    }
   ],
   "source": [
    "tm = train.groupby(\"Survived\").mean()\n",
    "v1 = tm.iloc[0,:]\n",
    "v2 = tm.iloc[1,:]\n",
    "abs((v2-v1)/(v1+v2))"
   ]
  },
  {
   "cell_type": "code",
   "execution_count": 27,
   "id": "b72fcf4c",
   "metadata": {
    "execution": {
     "iopub.execute_input": "2023-06-27T22:02:44.890840Z",
     "iopub.status.busy": "2023-06-27T22:02:44.890032Z",
     "iopub.status.idle": "2023-06-27T22:02:44.912445Z",
     "shell.execute_reply": "2023-06-27T22:02:44.911707Z"
    },
    "id": "NtMo1VAG0H1u",
    "outputId": "a300fc60-b338-4bef-b520-77661a29826d",
    "papermill": {
     "duration": 0.04771,
     "end_time": "2023-06-27T22:02:44.915315",
     "exception": false,
     "start_time": "2023-06-27T22:02:44.867605",
     "status": "completed"
    },
    "tags": []
   },
   "outputs": [
    {
     "data": {
      "text/html": [
       "<div>\n",
       "<style scoped>\n",
       "    .dataframe tbody tr th:only-of-type {\n",
       "        vertical-align: middle;\n",
       "    }\n",
       "\n",
       "    .dataframe tbody tr th {\n",
       "        vertical-align: top;\n",
       "    }\n",
       "\n",
       "    .dataframe thead th {\n",
       "        text-align: right;\n",
       "    }\n",
       "</style>\n",
       "<table border=\"1\" class=\"dataframe\">\n",
       "  <thead>\n",
       "    <tr style=\"text-align: right;\">\n",
       "      <th></th>\n",
       "      <th>Pclass</th>\n",
       "      <th>Sex</th>\n",
       "      <th>Age</th>\n",
       "      <th>SibSp</th>\n",
       "      <th>Parch</th>\n",
       "      <th>Ticket</th>\n",
       "      <th>Fare</th>\n",
       "      <th>Cabin</th>\n",
       "      <th>Q</th>\n",
       "      <th>S</th>\n",
       "      <th>Master</th>\n",
       "      <th>Miss</th>\n",
       "      <th>Mr</th>\n",
       "      <th>Mrs</th>\n",
       "      <th>WCG</th>\n",
       "      <th>Age_Category</th>\n",
       "      <th>Family_Size</th>\n",
       "    </tr>\n",
       "  </thead>\n",
       "  <tbody>\n",
       "    <tr>\n",
       "      <th>0</th>\n",
       "      <td>3</td>\n",
       "      <td>0</td>\n",
       "      <td>34.5</td>\n",
       "      <td>0</td>\n",
       "      <td>0</td>\n",
       "      <td>330911</td>\n",
       "      <td>7.8292</td>\n",
       "      <td>NaN</td>\n",
       "      <td>1</td>\n",
       "      <td>0</td>\n",
       "      <td>0</td>\n",
       "      <td>0</td>\n",
       "      <td>1</td>\n",
       "      <td>0</td>\n",
       "      <td>0.0</td>\n",
       "      <td>Adult</td>\n",
       "      <td>1</td>\n",
       "    </tr>\n",
       "    <tr>\n",
       "      <th>1</th>\n",
       "      <td>3</td>\n",
       "      <td>1</td>\n",
       "      <td>47.0</td>\n",
       "      <td>1</td>\n",
       "      <td>0</td>\n",
       "      <td>363272</td>\n",
       "      <td>7.0000</td>\n",
       "      <td>NaN</td>\n",
       "      <td>0</td>\n",
       "      <td>1</td>\n",
       "      <td>0</td>\n",
       "      <td>0</td>\n",
       "      <td>0</td>\n",
       "      <td>1</td>\n",
       "      <td>0.0</td>\n",
       "      <td>Adult</td>\n",
       "      <td>2</td>\n",
       "    </tr>\n",
       "    <tr>\n",
       "      <th>2</th>\n",
       "      <td>2</td>\n",
       "      <td>0</td>\n",
       "      <td>62.0</td>\n",
       "      <td>0</td>\n",
       "      <td>0</td>\n",
       "      <td>240276</td>\n",
       "      <td>9.6875</td>\n",
       "      <td>NaN</td>\n",
       "      <td>1</td>\n",
       "      <td>0</td>\n",
       "      <td>0</td>\n",
       "      <td>0</td>\n",
       "      <td>1</td>\n",
       "      <td>0</td>\n",
       "      <td>0.0</td>\n",
       "      <td>Senior Citizen</td>\n",
       "      <td>1</td>\n",
       "    </tr>\n",
       "    <tr>\n",
       "      <th>3</th>\n",
       "      <td>3</td>\n",
       "      <td>0</td>\n",
       "      <td>27.0</td>\n",
       "      <td>0</td>\n",
       "      <td>0</td>\n",
       "      <td>315154</td>\n",
       "      <td>8.6625</td>\n",
       "      <td>NaN</td>\n",
       "      <td>0</td>\n",
       "      <td>1</td>\n",
       "      <td>0</td>\n",
       "      <td>0</td>\n",
       "      <td>1</td>\n",
       "      <td>0</td>\n",
       "      <td>0.0</td>\n",
       "      <td>Adult</td>\n",
       "      <td>1</td>\n",
       "    </tr>\n",
       "    <tr>\n",
       "      <th>4</th>\n",
       "      <td>3</td>\n",
       "      <td>1</td>\n",
       "      <td>22.0</td>\n",
       "      <td>1</td>\n",
       "      <td>1</td>\n",
       "      <td>3101298</td>\n",
       "      <td>12.2875</td>\n",
       "      <td>NaN</td>\n",
       "      <td>0</td>\n",
       "      <td>1</td>\n",
       "      <td>0</td>\n",
       "      <td>0</td>\n",
       "      <td>0</td>\n",
       "      <td>1</td>\n",
       "      <td>0.0</td>\n",
       "      <td>Adult</td>\n",
       "      <td>3</td>\n",
       "    </tr>\n",
       "  </tbody>\n",
       "</table>\n",
       "</div>"
      ],
      "text/plain": [
       "   Pclass  Sex   Age  SibSp  Parch   Ticket     Fare Cabin  Q  S  Master  \\\n",
       "0       3    0  34.5      0      0   330911   7.8292   NaN  1  0       0   \n",
       "1       3    1  47.0      1      0   363272   7.0000   NaN  0  1       0   \n",
       "2       2    0  62.0      0      0   240276   9.6875   NaN  1  0       0   \n",
       "3       3    0  27.0      0      0   315154   8.6625   NaN  0  1       0   \n",
       "4       3    1  22.0      1      1  3101298  12.2875   NaN  0  1       0   \n",
       "\n",
       "   Miss  Mr  Mrs  WCG    Age_Category  Family_Size  \n",
       "0     0   1    0  0.0           Adult            1  \n",
       "1     0   0    1  0.0           Adult            2  \n",
       "2     0   1    0  0.0  Senior Citizen            1  \n",
       "3     0   1    0  0.0           Adult            1  \n",
       "4     0   0    1  0.0           Adult            3  "
      ]
     },
     "execution_count": 27,
     "metadata": {},
     "output_type": "execute_result"
    }
   ],
   "source": [
    "test[\"Family_Size\"] = (test[\"SibSp\"] + test[\"Parch\"] + 1)\n",
    "test.head()"
   ]
  },
  {
   "cell_type": "code",
   "execution_count": 28,
   "id": "421affb2",
   "metadata": {
    "execution": {
     "iopub.execute_input": "2023-06-27T22:02:44.972173Z",
     "iopub.status.busy": "2023-06-27T22:02:44.971416Z",
     "iopub.status.idle": "2023-06-27T22:02:44.990006Z",
     "shell.execute_reply": "2023-06-27T22:02:44.988907Z"
    },
    "id": "z2BHuvX30H1u",
    "outputId": "93b0bf8c-cef6-43e2-a14e-f8f225515f6f",
    "papermill": {
     "duration": 0.044361,
     "end_time": "2023-06-27T22:02:44.992180",
     "exception": false,
     "start_time": "2023-06-27T22:02:44.947819",
     "status": "completed"
    },
    "tags": []
   },
   "outputs": [
    {
     "data": {
      "text/html": [
       "<div>\n",
       "<style scoped>\n",
       "    .dataframe tbody tr th:only-of-type {\n",
       "        vertical-align: middle;\n",
       "    }\n",
       "\n",
       "    .dataframe tbody tr th {\n",
       "        vertical-align: top;\n",
       "    }\n",
       "\n",
       "    .dataframe thead th {\n",
       "        text-align: right;\n",
       "    }\n",
       "</style>\n",
       "<table border=\"1\" class=\"dataframe\">\n",
       "  <thead>\n",
       "    <tr style=\"text-align: right;\">\n",
       "      <th></th>\n",
       "      <th>Pclass</th>\n",
       "      <th>Sex</th>\n",
       "      <th>Age</th>\n",
       "      <th>SibSp</th>\n",
       "      <th>Parch</th>\n",
       "      <th>Ticket</th>\n",
       "      <th>Fare</th>\n",
       "      <th>Cabin</th>\n",
       "      <th>Q</th>\n",
       "      <th>S</th>\n",
       "      <th>Master</th>\n",
       "      <th>Miss</th>\n",
       "      <th>Mr</th>\n",
       "      <th>Mrs</th>\n",
       "      <th>WCG</th>\n",
       "      <th>Age_Category</th>\n",
       "      <th>Family_Size</th>\n",
       "      <th>Solo_Traveller</th>\n",
       "    </tr>\n",
       "  </thead>\n",
       "  <tbody>\n",
       "    <tr>\n",
       "      <th>0</th>\n",
       "      <td>3</td>\n",
       "      <td>0</td>\n",
       "      <td>34.5</td>\n",
       "      <td>0</td>\n",
       "      <td>0</td>\n",
       "      <td>330911</td>\n",
       "      <td>7.8292</td>\n",
       "      <td>NaN</td>\n",
       "      <td>1</td>\n",
       "      <td>0</td>\n",
       "      <td>0</td>\n",
       "      <td>0</td>\n",
       "      <td>1</td>\n",
       "      <td>0</td>\n",
       "      <td>0.0</td>\n",
       "      <td>Adult</td>\n",
       "      <td>1</td>\n",
       "      <td>True</td>\n",
       "    </tr>\n",
       "    <tr>\n",
       "      <th>1</th>\n",
       "      <td>3</td>\n",
       "      <td>1</td>\n",
       "      <td>47.0</td>\n",
       "      <td>1</td>\n",
       "      <td>0</td>\n",
       "      <td>363272</td>\n",
       "      <td>7.0000</td>\n",
       "      <td>NaN</td>\n",
       "      <td>0</td>\n",
       "      <td>1</td>\n",
       "      <td>0</td>\n",
       "      <td>0</td>\n",
       "      <td>0</td>\n",
       "      <td>1</td>\n",
       "      <td>0.0</td>\n",
       "      <td>Adult</td>\n",
       "      <td>2</td>\n",
       "      <td>False</td>\n",
       "    </tr>\n",
       "    <tr>\n",
       "      <th>2</th>\n",
       "      <td>2</td>\n",
       "      <td>0</td>\n",
       "      <td>62.0</td>\n",
       "      <td>0</td>\n",
       "      <td>0</td>\n",
       "      <td>240276</td>\n",
       "      <td>9.6875</td>\n",
       "      <td>NaN</td>\n",
       "      <td>1</td>\n",
       "      <td>0</td>\n",
       "      <td>0</td>\n",
       "      <td>0</td>\n",
       "      <td>1</td>\n",
       "      <td>0</td>\n",
       "      <td>0.0</td>\n",
       "      <td>Senior Citizen</td>\n",
       "      <td>1</td>\n",
       "      <td>True</td>\n",
       "    </tr>\n",
       "    <tr>\n",
       "      <th>3</th>\n",
       "      <td>3</td>\n",
       "      <td>0</td>\n",
       "      <td>27.0</td>\n",
       "      <td>0</td>\n",
       "      <td>0</td>\n",
       "      <td>315154</td>\n",
       "      <td>8.6625</td>\n",
       "      <td>NaN</td>\n",
       "      <td>0</td>\n",
       "      <td>1</td>\n",
       "      <td>0</td>\n",
       "      <td>0</td>\n",
       "      <td>1</td>\n",
       "      <td>0</td>\n",
       "      <td>0.0</td>\n",
       "      <td>Adult</td>\n",
       "      <td>1</td>\n",
       "      <td>True</td>\n",
       "    </tr>\n",
       "    <tr>\n",
       "      <th>4</th>\n",
       "      <td>3</td>\n",
       "      <td>1</td>\n",
       "      <td>22.0</td>\n",
       "      <td>1</td>\n",
       "      <td>1</td>\n",
       "      <td>3101298</td>\n",
       "      <td>12.2875</td>\n",
       "      <td>NaN</td>\n",
       "      <td>0</td>\n",
       "      <td>1</td>\n",
       "      <td>0</td>\n",
       "      <td>0</td>\n",
       "      <td>0</td>\n",
       "      <td>1</td>\n",
       "      <td>0.0</td>\n",
       "      <td>Adult</td>\n",
       "      <td>3</td>\n",
       "      <td>False</td>\n",
       "    </tr>\n",
       "  </tbody>\n",
       "</table>\n",
       "</div>"
      ],
      "text/plain": [
       "   Pclass  Sex   Age  SibSp  Parch   Ticket     Fare Cabin  Q  S  Master  \\\n",
       "0       3    0  34.5      0      0   330911   7.8292   NaN  1  0       0   \n",
       "1       3    1  47.0      1      0   363272   7.0000   NaN  0  1       0   \n",
       "2       2    0  62.0      0      0   240276   9.6875   NaN  1  0       0   \n",
       "3       3    0  27.0      0      0   315154   8.6625   NaN  0  1       0   \n",
       "4       3    1  22.0      1      1  3101298  12.2875   NaN  0  1       0   \n",
       "\n",
       "   Miss  Mr  Mrs  WCG    Age_Category  Family_Size  Solo_Traveller  \n",
       "0     0   1    0  0.0           Adult            1            True  \n",
       "1     0   0    1  0.0           Adult            2           False  \n",
       "2     0   1    0  0.0  Senior Citizen            1            True  \n",
       "3     0   1    0  0.0           Adult            1            True  \n",
       "4     0   0    1  0.0           Adult            3           False  "
      ]
     },
     "execution_count": 28,
     "metadata": {},
     "output_type": "execute_result"
    }
   ],
   "source": [
    "test[\"Solo_Traveller\"] = (test[\"Family_Size\"]==1)\n",
    "test.head()"
   ]
  },
  {
   "cell_type": "code",
   "execution_count": 29,
   "id": "8a5babf9",
   "metadata": {
    "execution": {
     "iopub.execute_input": "2023-06-27T22:02:45.040012Z",
     "iopub.status.busy": "2023-06-27T22:02:45.039278Z",
     "iopub.status.idle": "2023-06-27T22:02:45.067499Z",
     "shell.execute_reply": "2023-06-27T22:02:45.065990Z"
    },
    "id": "vuZkcuJg0H1u",
    "outputId": "b3d65fda-f6d8-4031-ed01-3ee36afa44a8",
    "papermill": {
     "duration": 0.056218,
     "end_time": "2023-06-27T22:02:45.070087",
     "exception": false,
     "start_time": "2023-06-27T22:02:45.013869",
     "status": "completed"
    },
    "tags": []
   },
   "outputs": [
    {
     "name": "stdout",
     "output_type": "stream",
     "text": [
      "<class 'pandas.core.frame.DataFrame'>\n",
      "RangeIndex: 891 entries, 0 to 890\n",
      "Data columns (total 18 columns):\n",
      " #   Column          Non-Null Count  Dtype  \n",
      "---  ------          --------------  -----  \n",
      " 0   Survived        891 non-null    int64  \n",
      " 1   Pclass          891 non-null    int64  \n",
      " 2   Sex             891 non-null    int64  \n",
      " 3   Age             891 non-null    float64\n",
      " 4   SibSp           891 non-null    int64  \n",
      " 5   Parch           891 non-null    int64  \n",
      " 6   Ticket          891 non-null    object \n",
      " 7   Fare            891 non-null    float64\n",
      " 8   Cabin           204 non-null    object \n",
      " 9   Q               891 non-null    uint8  \n",
      " 10  S               891 non-null    uint8  \n",
      " 11  Master          891 non-null    uint8  \n",
      " 12  Miss            891 non-null    uint8  \n",
      " 13  Mr              891 non-null    uint8  \n",
      " 14  Mrs             891 non-null    uint8  \n",
      " 15  WCG             891 non-null    float64\n",
      " 16  Family_Size     891 non-null    int64  \n",
      " 17  Solo_Traveller  891 non-null    bool   \n",
      "dtypes: bool(1), float64(3), int64(6), object(2), uint8(6)\n",
      "memory usage: 82.8+ KB\n",
      "<class 'pandas.core.frame.DataFrame'>\n",
      "RangeIndex: 418 entries, 0 to 417\n",
      "Data columns (total 17 columns):\n",
      " #   Column          Non-Null Count  Dtype  \n",
      "---  ------          --------------  -----  \n",
      " 0   Pclass          418 non-null    int64  \n",
      " 1   Sex             418 non-null    int64  \n",
      " 2   Age             418 non-null    float64\n",
      " 3   SibSp           418 non-null    int64  \n",
      " 4   Parch           418 non-null    int64  \n",
      " 5   Ticket          418 non-null    object \n",
      " 6   Fare            417 non-null    float64\n",
      " 7   Cabin           91 non-null     object \n",
      " 8   Q               418 non-null    uint8  \n",
      " 9   S               418 non-null    uint8  \n",
      " 10  Master          418 non-null    uint8  \n",
      " 11  Miss            418 non-null    uint8  \n",
      " 12  Mr              418 non-null    uint8  \n",
      " 13  Mrs             418 non-null    uint8  \n",
      " 14  WCG             418 non-null    float64\n",
      " 15  Family_Size     418 non-null    int64  \n",
      " 16  Solo_Traveller  418 non-null    bool   \n",
      "dtypes: bool(1), float64(3), int64(5), object(2), uint8(6)\n",
      "memory usage: 35.6+ KB\n"
     ]
    }
   ],
   "source": [
    "train[\"Age_Category\"] = train[\"Age_Category\"].replace([\"Children\",\"Teenager\",\"Adult\",\"Senior Citizen\"], [0, 1, 2, 3])\n",
    "test[\"Age_Category\"] = test[\"Age_Category\"].replace([\"Children\",\"Teenager\",\"Adult\",\"Senior Citizen\"], [0, 1, 2, 3])\n",
    "\n",
    "train = train.drop([\"Age_Category\"], axis = \"columns\")\n",
    "test = test.drop([\"Age_Category\"], axis = \"columns\")\n",
    "train.info()\n",
    "test.info()"
   ]
  },
  {
   "cell_type": "code",
   "execution_count": 30,
   "id": "196a0850",
   "metadata": {
    "execution": {
     "iopub.execute_input": "2023-06-27T22:02:45.116727Z",
     "iopub.status.busy": "2023-06-27T22:02:45.115717Z",
     "iopub.status.idle": "2023-06-27T22:02:45.122796Z",
     "shell.execute_reply": "2023-06-27T22:02:45.122055Z"
    },
    "id": "MVrcGSjB0H1v",
    "papermill": {
     "duration": 0.0329,
     "end_time": "2023-06-27T22:02:45.124854",
     "exception": false,
     "start_time": "2023-06-27T22:02:45.091954",
     "status": "completed"
    },
    "tags": []
   },
   "outputs": [],
   "source": [
    "def sibsp_category(df):\n",
    "    sibsp = []\n",
    "\n",
    "    for i in df[\"SibSp\"]:\n",
    "        if i==0:\n",
    "            sibsp.append(\"No Sibling/Spouse\")\n",
    "        elif i==1 or i==2:\n",
    "            sibsp.append(\"Average Sibling/Spouse\")\n",
    "        else:\n",
    "            sibsp.append(\"Extra Sibling/Spouse\")\n",
    "    df[\"SibSp_Category\"] = sibsp\n",
    "sibsp_category(train)\n",
    "sibsp_category(test)"
   ]
  },
  {
   "cell_type": "code",
   "execution_count": 31,
   "id": "c35352a1",
   "metadata": {
    "execution": {
     "iopub.execute_input": "2023-06-27T22:02:45.170738Z",
     "iopub.status.busy": "2023-06-27T22:02:45.169719Z",
     "iopub.status.idle": "2023-06-27T22:02:45.192861Z",
     "shell.execute_reply": "2023-06-27T22:02:45.191790Z"
    },
    "id": "ygjUrx7g0H1v",
    "outputId": "031d1a81-781b-46dd-9210-cfb1eef685dc",
    "papermill": {
     "duration": 0.049769,
     "end_time": "2023-06-27T22:02:45.196525",
     "exception": false,
     "start_time": "2023-06-27T22:02:45.146756",
     "status": "completed"
    },
    "tags": []
   },
   "outputs": [
    {
     "name": "stdout",
     "output_type": "stream",
     "text": [
      "<class 'pandas.core.frame.DataFrame'>\n",
      "RangeIndex: 891 entries, 0 to 890\n",
      "Data columns (total 19 columns):\n",
      " #   Column          Non-Null Count  Dtype  \n",
      "---  ------          --------------  -----  \n",
      " 0   Survived        891 non-null    int64  \n",
      " 1   Pclass          891 non-null    int64  \n",
      " 2   Sex             891 non-null    int64  \n",
      " 3   Age             891 non-null    float64\n",
      " 4   SibSp           891 non-null    int64  \n",
      " 5   Parch           891 non-null    int64  \n",
      " 6   Ticket          891 non-null    object \n",
      " 7   Fare            891 non-null    float64\n",
      " 8   Cabin           204 non-null    object \n",
      " 9   Q               891 non-null    uint8  \n",
      " 10  S               891 non-null    uint8  \n",
      " 11  Master          891 non-null    uint8  \n",
      " 12  Miss            891 non-null    uint8  \n",
      " 13  Mr              891 non-null    uint8  \n",
      " 14  Mrs             891 non-null    uint8  \n",
      " 15  WCG             891 non-null    float64\n",
      " 16  Family_Size     891 non-null    int64  \n",
      " 17  Solo_Traveller  891 non-null    bool   \n",
      " 18  SibSp_Category  891 non-null    int64  \n",
      "dtypes: bool(1), float64(3), int64(7), object(2), uint8(6)\n",
      "memory usage: 89.7+ KB\n",
      "<class 'pandas.core.frame.DataFrame'>\n",
      "RangeIndex: 418 entries, 0 to 417\n",
      "Data columns (total 18 columns):\n",
      " #   Column          Non-Null Count  Dtype  \n",
      "---  ------          --------------  -----  \n",
      " 0   Pclass          418 non-null    int64  \n",
      " 1   Sex             418 non-null    int64  \n",
      " 2   Age             418 non-null    float64\n",
      " 3   SibSp           418 non-null    int64  \n",
      " 4   Parch           418 non-null    int64  \n",
      " 5   Ticket          418 non-null    object \n",
      " 6   Fare            417 non-null    float64\n",
      " 7   Cabin           91 non-null     object \n",
      " 8   Q               418 non-null    uint8  \n",
      " 9   S               418 non-null    uint8  \n",
      " 10  Master          418 non-null    uint8  \n",
      " 11  Miss            418 non-null    uint8  \n",
      " 12  Mr              418 non-null    uint8  \n",
      " 13  Mrs             418 non-null    uint8  \n",
      " 14  WCG             418 non-null    float64\n",
      " 15  Family_Size     418 non-null    int64  \n",
      " 16  Solo_Traveller  418 non-null    bool   \n",
      " 17  SibSp_Category  418 non-null    int64  \n",
      "dtypes: bool(1), float64(3), int64(6), object(2), uint8(6)\n",
      "memory usage: 38.9+ KB\n"
     ]
    }
   ],
   "source": [
    "train[\"SibSp_Category\"] = train[\"SibSp_Category\"].replace([\"No Sibling/Spouse\",\"Average Sibling/Spouse\",\"Extra Sibling/Spouse\"], [0, 1, 2])\n",
    "train.info()\n",
    "test[\"SibSp_Category\"] = test[\"SibSp_Category\"].replace([\"No Sibling/Spouse\",\"Average Sibling/Spouse\",\"Extra Sibling/Spouse\"], [0, 1, 2])\n",
    "test.info()"
   ]
  },
  {
   "cell_type": "code",
   "execution_count": 32,
   "id": "f8bcea7a",
   "metadata": {
    "execution": {
     "iopub.execute_input": "2023-06-27T22:02:45.241741Z",
     "iopub.status.busy": "2023-06-27T22:02:45.241362Z",
     "iopub.status.idle": "2023-06-27T22:02:45.251768Z",
     "shell.execute_reply": "2023-06-27T22:02:45.251042Z"
    },
    "id": "JKDbbGQV0H1v",
    "papermill": {
     "duration": 0.035109,
     "end_time": "2023-06-27T22:02:45.253589",
     "exception": false,
     "start_time": "2023-06-27T22:02:45.218480",
     "status": "completed"
    },
    "tags": []
   },
   "outputs": [],
   "source": [
    "def cabin_count(x):\n",
    "    if str(x) == 'nan':\n",
    "        return 0\n",
    "    else: return len(str(x).split(\" \"))\n",
    "\n",
    "test['Cabin_Count'] =test['Cabin'].apply(cabin_count)\n",
    "test\n",
    "train['Cabin_Count'] =train['Cabin'].apply(cabin_count)\n",
    "train\n",
    "train = train.drop([\"Cabin\"], axis = \"columns\")\n",
    "test = test.drop([\"Cabin\"], axis = \"columns\")"
   ]
  },
  {
   "cell_type": "code",
   "execution_count": 33,
   "id": "58f33e1b",
   "metadata": {
    "execution": {
     "iopub.execute_input": "2023-06-27T22:02:45.299745Z",
     "iopub.status.busy": "2023-06-27T22:02:45.298767Z",
     "iopub.status.idle": "2023-06-27T22:02:45.307649Z",
     "shell.execute_reply": "2023-06-27T22:02:45.306794Z"
    },
    "id": "IgXYSEH80H1v",
    "papermill": {
     "duration": 0.034019,
     "end_time": "2023-06-27T22:02:45.309758",
     "exception": false,
     "start_time": "2023-06-27T22:02:45.275739",
     "status": "completed"
    },
    "tags": []
   },
   "outputs": [],
   "source": [
    "train['Ticket_group_size'] = train.groupby('Ticket')['Ticket'].transform('count')\n",
    "test['Ticket_group_size'] = test.groupby('Ticket')['Ticket'].transform('count')"
   ]
  },
  {
   "cell_type": "code",
   "execution_count": 34,
   "id": "7e56dd0a",
   "metadata": {
    "execution": {
     "iopub.execute_input": "2023-06-27T22:02:45.357014Z",
     "iopub.status.busy": "2023-06-27T22:02:45.355906Z",
     "iopub.status.idle": "2023-06-27T22:02:45.364923Z",
     "shell.execute_reply": "2023-06-27T22:02:45.364225Z"
    },
    "id": "F9zr-x-U0H1v",
    "papermill": {
     "duration": 0.034686,
     "end_time": "2023-06-27T22:02:45.366862",
     "exception": false,
     "start_time": "2023-06-27T22:02:45.332176",
     "status": "completed"
    },
    "tags": []
   },
   "outputs": [],
   "source": [
    "train['Party_size'] = train[['Family_Size', 'Ticket_group_size']].max(axis=1)\n",
    "test['Party_size'] = test[['Family_Size', 'Ticket_group_size']].max(axis=1)"
   ]
  },
  {
   "cell_type": "code",
   "execution_count": 35,
   "id": "23ee5860",
   "metadata": {
    "execution": {
     "iopub.execute_input": "2023-06-27T22:02:45.413781Z",
     "iopub.status.busy": "2023-06-27T22:02:45.413369Z",
     "iopub.status.idle": "2023-06-27T22:02:45.420118Z",
     "shell.execute_reply": "2023-06-27T22:02:45.419322Z"
    },
    "id": "pv8MlJQ60H1v",
    "papermill": {
     "duration": 0.032399,
     "end_time": "2023-06-27T22:02:45.421936",
     "exception": false,
     "start_time": "2023-06-27T22:02:45.389537",
     "status": "completed"
    },
    "tags": []
   },
   "outputs": [],
   "source": [
    "train['Fare_per_passenger'] = train['Fare'] / train['Ticket_group_size']\n",
    "test['Fare_per_passenger'] = test['Fare'] / test['Ticket_group_size']"
   ]
  },
  {
   "cell_type": "code",
   "execution_count": 36,
   "id": "f0653d57",
   "metadata": {
    "execution": {
     "iopub.execute_input": "2023-06-27T22:02:45.468675Z",
     "iopub.status.busy": "2023-06-27T22:02:45.467692Z",
     "iopub.status.idle": "2023-06-27T22:02:45.475621Z",
     "shell.execute_reply": "2023-06-27T22:02:45.474676Z"
    },
    "id": "raJ-7fsj0H1v",
    "papermill": {
     "duration": 0.033762,
     "end_time": "2023-06-27T22:02:45.477802",
     "exception": false,
     "start_time": "2023-06-27T22:02:45.444040",
     "status": "completed"
    },
    "tags": []
   },
   "outputs": [],
   "source": [
    "train = train.drop([\"SibSp_Category\",\"SibSp\",\"Age\", \"Ticket\",\"Family_Size\",\"Ticket_group_size\",\"Party_size\",\"Fare\",\"Fare_per_passenger\"], axis = \"columns\")\n",
    "test = test.drop([\"SibSp_Category\",\"SibSp\",\"Age\", \"Ticket\",\"Family_Size\",\"Ticket_group_size\",\"Party_size\",\"Fare\",\"Fare_per_passenger\"], axis = \"columns\")"
   ]
  },
  {
   "cell_type": "code",
   "execution_count": 37,
   "id": "abc1e8e0",
   "metadata": {
    "execution": {
     "iopub.execute_input": "2023-06-27T22:02:45.523997Z",
     "iopub.status.busy": "2023-06-27T22:02:45.522932Z",
     "iopub.status.idle": "2023-06-27T22:02:45.529190Z",
     "shell.execute_reply": "2023-06-27T22:02:45.528428Z"
    },
    "id": "9fWK04tw0H1v",
    "papermill": {
     "duration": 0.031419,
     "end_time": "2023-06-27T22:02:45.531104",
     "exception": false,
     "start_time": "2023-06-27T22:02:45.499685",
     "status": "completed"
    },
    "tags": []
   },
   "outputs": [],
   "source": [
    "test['WCG'] = test['WCG'].astype(int)\n",
    "train['WCG'] = train['WCG'].astype(int)"
   ]
  },
  {
   "cell_type": "code",
   "execution_count": 38,
   "id": "78578efb",
   "metadata": {
    "execution": {
     "iopub.execute_input": "2023-06-27T22:02:45.576017Z",
     "iopub.status.busy": "2023-06-27T22:02:45.575641Z",
     "iopub.status.idle": "2023-06-27T22:02:45.588615Z",
     "shell.execute_reply": "2023-06-27T22:02:45.587689Z"
    },
    "id": "FMQCIjiS0H1w",
    "outputId": "9e72f44a-f113-49c8-bb41-7534d4c683cd",
    "papermill": {
     "duration": 0.037815,
     "end_time": "2023-06-27T22:02:45.590513",
     "exception": false,
     "start_time": "2023-06-27T22:02:45.552698",
     "status": "completed"
    },
    "tags": []
   },
   "outputs": [
    {
     "data": {
      "text/html": [
       "<div>\n",
       "<style scoped>\n",
       "    .dataframe tbody tr th:only-of-type {\n",
       "        vertical-align: middle;\n",
       "    }\n",
       "\n",
       "    .dataframe tbody tr th {\n",
       "        vertical-align: top;\n",
       "    }\n",
       "\n",
       "    .dataframe thead th {\n",
       "        text-align: right;\n",
       "    }\n",
       "</style>\n",
       "<table border=\"1\" class=\"dataframe\">\n",
       "  <thead>\n",
       "    <tr style=\"text-align: right;\">\n",
       "      <th></th>\n",
       "      <th>Survived</th>\n",
       "      <th>Pclass</th>\n",
       "      <th>Sex</th>\n",
       "      <th>Parch</th>\n",
       "      <th>Q</th>\n",
       "      <th>S</th>\n",
       "      <th>Master</th>\n",
       "      <th>Miss</th>\n",
       "      <th>Mr</th>\n",
       "      <th>Mrs</th>\n",
       "      <th>WCG</th>\n",
       "      <th>Solo_Traveller</th>\n",
       "      <th>Cabin_Count</th>\n",
       "    </tr>\n",
       "  </thead>\n",
       "  <tbody>\n",
       "    <tr>\n",
       "      <th>0</th>\n",
       "      <td>0</td>\n",
       "      <td>3</td>\n",
       "      <td>0</td>\n",
       "      <td>0</td>\n",
       "      <td>0</td>\n",
       "      <td>1</td>\n",
       "      <td>0</td>\n",
       "      <td>0</td>\n",
       "      <td>1</td>\n",
       "      <td>0</td>\n",
       "      <td>0</td>\n",
       "      <td>False</td>\n",
       "      <td>0</td>\n",
       "    </tr>\n",
       "    <tr>\n",
       "      <th>1</th>\n",
       "      <td>1</td>\n",
       "      <td>1</td>\n",
       "      <td>1</td>\n",
       "      <td>0</td>\n",
       "      <td>0</td>\n",
       "      <td>0</td>\n",
       "      <td>0</td>\n",
       "      <td>0</td>\n",
       "      <td>0</td>\n",
       "      <td>1</td>\n",
       "      <td>0</td>\n",
       "      <td>False</td>\n",
       "      <td>1</td>\n",
       "    </tr>\n",
       "    <tr>\n",
       "      <th>2</th>\n",
       "      <td>1</td>\n",
       "      <td>3</td>\n",
       "      <td>1</td>\n",
       "      <td>0</td>\n",
       "      <td>0</td>\n",
       "      <td>1</td>\n",
       "      <td>0</td>\n",
       "      <td>1</td>\n",
       "      <td>0</td>\n",
       "      <td>0</td>\n",
       "      <td>0</td>\n",
       "      <td>True</td>\n",
       "      <td>0</td>\n",
       "    </tr>\n",
       "    <tr>\n",
       "      <th>3</th>\n",
       "      <td>1</td>\n",
       "      <td>1</td>\n",
       "      <td>1</td>\n",
       "      <td>0</td>\n",
       "      <td>0</td>\n",
       "      <td>1</td>\n",
       "      <td>0</td>\n",
       "      <td>0</td>\n",
       "      <td>0</td>\n",
       "      <td>1</td>\n",
       "      <td>0</td>\n",
       "      <td>False</td>\n",
       "      <td>1</td>\n",
       "    </tr>\n",
       "    <tr>\n",
       "      <th>4</th>\n",
       "      <td>0</td>\n",
       "      <td>3</td>\n",
       "      <td>0</td>\n",
       "      <td>0</td>\n",
       "      <td>0</td>\n",
       "      <td>1</td>\n",
       "      <td>0</td>\n",
       "      <td>0</td>\n",
       "      <td>1</td>\n",
       "      <td>0</td>\n",
       "      <td>0</td>\n",
       "      <td>True</td>\n",
       "      <td>0</td>\n",
       "    </tr>\n",
       "  </tbody>\n",
       "</table>\n",
       "</div>"
      ],
      "text/plain": [
       "   Survived  Pclass  Sex  Parch  Q  S  Master  Miss  Mr  Mrs  WCG  \\\n",
       "0         0       3    0      0  0  1       0     0   1    0    0   \n",
       "1         1       1    1      0  0  0       0     0   0    1    0   \n",
       "2         1       3    1      0  0  1       0     1   0    0    0   \n",
       "3         1       1    1      0  0  1       0     0   0    1    0   \n",
       "4         0       3    0      0  0  1       0     0   1    0    0   \n",
       "\n",
       "   Solo_Traveller  Cabin_Count  \n",
       "0           False            0  \n",
       "1           False            1  \n",
       "2            True            0  \n",
       "3           False            1  \n",
       "4            True            0  "
      ]
     },
     "execution_count": 38,
     "metadata": {},
     "output_type": "execute_result"
    }
   ],
   "source": [
    "train.head()"
   ]
  },
  {
   "cell_type": "code",
   "execution_count": 39,
   "id": "1700ea62",
   "metadata": {
    "execution": {
     "iopub.execute_input": "2023-06-27T22:02:45.635837Z",
     "iopub.status.busy": "2023-06-27T22:02:45.635213Z",
     "iopub.status.idle": "2023-06-27T22:02:45.647535Z",
     "shell.execute_reply": "2023-06-27T22:02:45.646564Z"
    },
    "id": "3FkHt4Bi0H1w",
    "outputId": "62616504-8245-4d09-fb0b-faffeca167c3",
    "papermill": {
     "duration": 0.037374,
     "end_time": "2023-06-27T22:02:45.649580",
     "exception": false,
     "start_time": "2023-06-27T22:02:45.612206",
     "status": "completed"
    },
    "tags": []
   },
   "outputs": [
    {
     "data": {
      "text/html": [
       "<div>\n",
       "<style scoped>\n",
       "    .dataframe tbody tr th:only-of-type {\n",
       "        vertical-align: middle;\n",
       "    }\n",
       "\n",
       "    .dataframe tbody tr th {\n",
       "        vertical-align: top;\n",
       "    }\n",
       "\n",
       "    .dataframe thead th {\n",
       "        text-align: right;\n",
       "    }\n",
       "</style>\n",
       "<table border=\"1\" class=\"dataframe\">\n",
       "  <thead>\n",
       "    <tr style=\"text-align: right;\">\n",
       "      <th></th>\n",
       "      <th>Pclass</th>\n",
       "      <th>Sex</th>\n",
       "      <th>Parch</th>\n",
       "      <th>Q</th>\n",
       "      <th>S</th>\n",
       "      <th>Master</th>\n",
       "      <th>Miss</th>\n",
       "      <th>Mr</th>\n",
       "      <th>Mrs</th>\n",
       "      <th>WCG</th>\n",
       "      <th>Solo_Traveller</th>\n",
       "      <th>Cabin_Count</th>\n",
       "    </tr>\n",
       "  </thead>\n",
       "  <tbody>\n",
       "    <tr>\n",
       "      <th>0</th>\n",
       "      <td>3</td>\n",
       "      <td>0</td>\n",
       "      <td>0</td>\n",
       "      <td>1</td>\n",
       "      <td>0</td>\n",
       "      <td>0</td>\n",
       "      <td>0</td>\n",
       "      <td>1</td>\n",
       "      <td>0</td>\n",
       "      <td>0</td>\n",
       "      <td>True</td>\n",
       "      <td>0</td>\n",
       "    </tr>\n",
       "    <tr>\n",
       "      <th>1</th>\n",
       "      <td>3</td>\n",
       "      <td>1</td>\n",
       "      <td>0</td>\n",
       "      <td>0</td>\n",
       "      <td>1</td>\n",
       "      <td>0</td>\n",
       "      <td>0</td>\n",
       "      <td>0</td>\n",
       "      <td>1</td>\n",
       "      <td>0</td>\n",
       "      <td>False</td>\n",
       "      <td>0</td>\n",
       "    </tr>\n",
       "    <tr>\n",
       "      <th>2</th>\n",
       "      <td>2</td>\n",
       "      <td>0</td>\n",
       "      <td>0</td>\n",
       "      <td>1</td>\n",
       "      <td>0</td>\n",
       "      <td>0</td>\n",
       "      <td>0</td>\n",
       "      <td>1</td>\n",
       "      <td>0</td>\n",
       "      <td>0</td>\n",
       "      <td>True</td>\n",
       "      <td>0</td>\n",
       "    </tr>\n",
       "    <tr>\n",
       "      <th>3</th>\n",
       "      <td>3</td>\n",
       "      <td>0</td>\n",
       "      <td>0</td>\n",
       "      <td>0</td>\n",
       "      <td>1</td>\n",
       "      <td>0</td>\n",
       "      <td>0</td>\n",
       "      <td>1</td>\n",
       "      <td>0</td>\n",
       "      <td>0</td>\n",
       "      <td>True</td>\n",
       "      <td>0</td>\n",
       "    </tr>\n",
       "    <tr>\n",
       "      <th>4</th>\n",
       "      <td>3</td>\n",
       "      <td>1</td>\n",
       "      <td>1</td>\n",
       "      <td>0</td>\n",
       "      <td>1</td>\n",
       "      <td>0</td>\n",
       "      <td>0</td>\n",
       "      <td>0</td>\n",
       "      <td>1</td>\n",
       "      <td>0</td>\n",
       "      <td>False</td>\n",
       "      <td>0</td>\n",
       "    </tr>\n",
       "  </tbody>\n",
       "</table>\n",
       "</div>"
      ],
      "text/plain": [
       "   Pclass  Sex  Parch  Q  S  Master  Miss  Mr  Mrs  WCG  Solo_Traveller  \\\n",
       "0       3    0      0  1  0       0     0   1    0    0            True   \n",
       "1       3    1      0  0  1       0     0   0    1    0           False   \n",
       "2       2    0      0  1  0       0     0   1    0    0            True   \n",
       "3       3    0      0  0  1       0     0   1    0    0            True   \n",
       "4       3    1      1  0  1       0     0   0    1    0           False   \n",
       "\n",
       "   Cabin_Count  \n",
       "0            0  \n",
       "1            0  \n",
       "2            0  \n",
       "3            0  \n",
       "4            0  "
      ]
     },
     "execution_count": 39,
     "metadata": {},
     "output_type": "execute_result"
    }
   ],
   "source": [
    "test.head()"
   ]
  },
  {
   "cell_type": "code",
   "execution_count": 40,
   "id": "d19e6823",
   "metadata": {
    "execution": {
     "iopub.execute_input": "2023-06-27T22:02:45.697558Z",
     "iopub.status.busy": "2023-06-27T22:02:45.697153Z",
     "iopub.status.idle": "2023-06-27T22:02:45.708920Z",
     "shell.execute_reply": "2023-06-27T22:02:45.708117Z"
    },
    "id": "KhDtonvQ0H1x",
    "outputId": "3490843f-61c5-498a-a263-5708a764d524",
    "papermill": {
     "duration": 0.038997,
     "end_time": "2023-06-27T22:02:45.710965",
     "exception": false,
     "start_time": "2023-06-27T22:02:45.671968",
     "status": "completed"
    },
    "tags": []
   },
   "outputs": [
    {
     "data": {
      "text/plain": [
       "Pclass            0.129755\n",
       "Sex               0.643977\n",
       "Parch             0.170176\n",
       "Q                 0.012168\n",
       "S                 0.101449\n",
       "Master            0.369449\n",
       "Miss              0.577692\n",
       "Mr                0.540564\n",
       "Mrs               0.718799\n",
       "WCG               0.466934\n",
       "Solo_Traveller    0.176734\n",
       "Cabin_Count       0.513552\n",
       "dtype: float64"
      ]
     },
     "execution_count": 40,
     "metadata": {},
     "output_type": "execute_result"
    }
   ],
   "source": [
    "tm = train.groupby(\"Survived\").mean()\n",
    "v1 = tm.iloc[0,:]\n",
    "v2 = tm.iloc[1,:]\n",
    "abs((v2-v1)/(v1+v2))"
   ]
  },
  {
   "cell_type": "code",
   "execution_count": 41,
   "id": "f6d72884",
   "metadata": {
    "execution": {
     "iopub.execute_input": "2023-06-27T22:02:45.757670Z",
     "iopub.status.busy": "2023-06-27T22:02:45.757264Z",
     "iopub.status.idle": "2023-06-27T22:02:45.777965Z",
     "shell.execute_reply": "2023-06-27T22:02:45.776128Z"
    },
    "id": "hgMBlJTy0H1x",
    "outputId": "27f01a69-05d3-41b4-970e-774250fc6fb5",
    "papermill": {
     "duration": 0.046593,
     "end_time": "2023-06-27T22:02:45.780059",
     "exception": false,
     "start_time": "2023-06-27T22:02:45.733466",
     "status": "completed"
    },
    "tags": []
   },
   "outputs": [
    {
     "name": "stdout",
     "output_type": "stream",
     "text": [
      "<class 'pandas.core.frame.DataFrame'>\n",
      "RangeIndex: 891 entries, 0 to 890\n",
      "Data columns (total 13 columns):\n",
      " #   Column          Non-Null Count  Dtype\n",
      "---  ------          --------------  -----\n",
      " 0   Survived        891 non-null    int64\n",
      " 1   Pclass          891 non-null    int64\n",
      " 2   Sex             891 non-null    int64\n",
      " 3   Parch           891 non-null    int64\n",
      " 4   Q               891 non-null    uint8\n",
      " 5   S               891 non-null    uint8\n",
      " 6   Master          891 non-null    uint8\n",
      " 7   Miss            891 non-null    uint8\n",
      " 8   Mr              891 non-null    uint8\n",
      " 9   Mrs             891 non-null    uint8\n",
      " 10  WCG             891 non-null    int64\n",
      " 11  Solo_Traveller  891 non-null    bool \n",
      " 12  Cabin_Count     891 non-null    int64\n",
      "dtypes: bool(1), int64(6), uint8(6)\n",
      "memory usage: 48.0 KB\n",
      "<class 'pandas.core.frame.DataFrame'>\n",
      "RangeIndex: 418 entries, 0 to 417\n",
      "Data columns (total 12 columns):\n",
      " #   Column          Non-Null Count  Dtype\n",
      "---  ------          --------------  -----\n",
      " 0   Pclass          418 non-null    int64\n",
      " 1   Sex             418 non-null    int64\n",
      " 2   Parch           418 non-null    int64\n",
      " 3   Q               418 non-null    uint8\n",
      " 4   S               418 non-null    uint8\n",
      " 5   Master          418 non-null    uint8\n",
      " 6   Miss            418 non-null    uint8\n",
      " 7   Mr              418 non-null    uint8\n",
      " 8   Mrs             418 non-null    uint8\n",
      " 9   WCG             418 non-null    int64\n",
      " 10  Solo_Traveller  418 non-null    bool \n",
      " 11  Cabin_Count     418 non-null    int64\n",
      "dtypes: bool(1), int64(5), uint8(6)\n",
      "memory usage: 19.3 KB\n"
     ]
    }
   ],
   "source": [
    "train.info()\n",
    "test.info()"
   ]
  },
  {
   "cell_type": "markdown",
   "id": "09385ba9",
   "metadata": {
    "id": "wqn4nwQx0H1x",
    "papermill": {
     "duration": 0.022024,
     "end_time": "2023-06-27T22:02:45.824670",
     "exception": false,
     "start_time": "2023-06-27T22:02:45.802646",
     "status": "completed"
    },
    "tags": []
   },
   "source": [
    "# **ML Models**"
   ]
  },
  {
   "cell_type": "code",
   "execution_count": 42,
   "id": "6557cb47",
   "metadata": {
    "execution": {
     "iopub.execute_input": "2023-06-27T22:02:45.870646Z",
     "iopub.status.busy": "2023-06-27T22:02:45.870286Z",
     "iopub.status.idle": "2023-06-27T22:02:47.801198Z",
     "shell.execute_reply": "2023-06-27T22:02:47.800267Z"
    },
    "id": "cc-5iet90H1x",
    "papermill": {
     "duration": 1.956802,
     "end_time": "2023-06-27T22:02:47.803589",
     "exception": false,
     "start_time": "2023-06-27T22:02:45.846787",
     "status": "completed"
    },
    "tags": []
   },
   "outputs": [],
   "source": [
    "from sklearn.linear_model import LogisticRegression, RidgeClassifierCV\n",
    "from sklearn.tree import DecisionTreeClassifier\n",
    "from sklearn.ensemble import RandomForestClassifier, AdaBoostClassifier, GradientBoostingClassifier, StackingClassifier, BaggingClassifier, VotingClassifier\n",
    "from xgboost import XGBClassifier\n",
    "from lightgbm import LGBMClassifier\n",
    "from catboost import CatBoostClassifier\n",
    "from sklearn.svm import SVC\n",
    "\n",
    "from sklearn.metrics import confusion_matrix\n",
    "from sklearn.metrics import accuracy_score, recall_score, precision_score, f1_score, confusion_matrix, classification_report\n",
    "from sklearn.model_selection import train_test_split"
   ]
  },
  {
   "cell_type": "code",
   "execution_count": 43,
   "id": "be123d7e",
   "metadata": {
    "execution": {
     "iopub.execute_input": "2023-06-27T22:02:47.850282Z",
     "iopub.status.busy": "2023-06-27T22:02:47.849915Z",
     "iopub.status.idle": "2023-06-27T22:02:47.855222Z",
     "shell.execute_reply": "2023-06-27T22:02:47.854474Z"
    },
    "id": "S2cRvODz0H1x",
    "papermill": {
     "duration": 0.03109,
     "end_time": "2023-06-27T22:02:47.857284",
     "exception": false,
     "start_time": "2023-06-27T22:02:47.826194",
     "status": "completed"
    },
    "tags": []
   },
   "outputs": [],
   "source": [
    "y = train[\"Survived\"]\n",
    "train.drop(\"Survived\", axis = \"columns\", inplace = True)\n",
    "x = train"
   ]
  },
  {
   "cell_type": "code",
   "execution_count": 44,
   "id": "bee370f6",
   "metadata": {
    "execution": {
     "iopub.execute_input": "2023-06-27T22:02:47.903095Z",
     "iopub.status.busy": "2023-06-27T22:02:47.902714Z",
     "iopub.status.idle": "2023-06-27T22:02:47.910541Z",
     "shell.execute_reply": "2023-06-27T22:02:47.909611Z"
    },
    "id": "tcjnpKo60H1x",
    "papermill": {
     "duration": 0.033103,
     "end_time": "2023-06-27T22:02:47.912613",
     "exception": false,
     "start_time": "2023-06-27T22:02:47.879510",
     "status": "completed"
    },
    "tags": []
   },
   "outputs": [],
   "source": [
    "x_train, x_test, y_train, y_test = train_test_split(x, y, test_size=0.2, random_state=11)\n",
    "training_score = []\n",
    "testing_score = []"
   ]
  },
  {
   "cell_type": "code",
   "execution_count": 45,
   "id": "d26f8ad5",
   "metadata": {
    "execution": {
     "iopub.execute_input": "2023-06-27T22:02:47.959587Z",
     "iopub.status.busy": "2023-06-27T22:02:47.958967Z",
     "iopub.status.idle": "2023-06-27T22:02:47.965236Z",
     "shell.execute_reply": "2023-06-27T22:02:47.964570Z"
    },
    "id": "98Fs5JRA0H1x",
    "papermill": {
     "duration": 0.031462,
     "end_time": "2023-06-27T22:02:47.966997",
     "exception": false,
     "start_time": "2023-06-27T22:02:47.935535",
     "status": "completed"
    },
    "tags": []
   },
   "outputs": [],
   "source": [
    "def model_predict(model):\n",
    "    model.fit(x_train,y_train)\n",
    "    x_train_pred = model.predict(x_train)\n",
    "    x_test_pred = model.predict(x_test)\n",
    "    a = accuracy_score(y_train,x_train_pred)\n",
    "    b = accuracy_score(y_test,x_test_pred)\n",
    "    training_score.append(a)\n",
    "    testing_score.append(b)\n",
    "    print(f\"Accuracy_Score of {model} model on Training Data is:\",a)\n",
    "    print(f\"Accuracy_Score of {model} model on Testing Data is:\",b)\n",
    "    print(\"\\n ----------------------------------------------------\")\n",
    "    print(f\"Precision Score of {model} model is:\",precision_score(y_test,x_test_pred))\n",
    "    print(f\"Recall Score of {model} model is:\",recall_score(y_test,x_test_pred))\n",
    "    print(f\"F1 Score of {model} model is:\",f1_score(y_test,x_test_pred))"
   ]
  },
  {
   "cell_type": "code",
   "execution_count": 46,
   "id": "447a3d75",
   "metadata": {
    "execution": {
     "iopub.execute_input": "2023-06-27T22:02:48.013277Z",
     "iopub.status.busy": "2023-06-27T22:02:48.012858Z",
     "iopub.status.idle": "2023-06-27T22:02:48.041380Z",
     "shell.execute_reply": "2023-06-27T22:02:48.040359Z"
    },
    "id": "KnRioC6P0H1y",
    "outputId": "5ff2c395-f093-48e4-b549-36c07b85f0fc",
    "papermill": {
     "duration": 0.05441,
     "end_time": "2023-06-27T22:02:48.043863",
     "exception": false,
     "start_time": "2023-06-27T22:02:47.989453",
     "status": "completed"
    },
    "tags": []
   },
   "outputs": [
    {
     "name": "stdout",
     "output_type": "stream",
     "text": [
      "Accuracy_Score of DecisionTreeClassifier() model on Training Data is: 0.8412921348314607\n",
      "Accuracy_Score of DecisionTreeClassifier() model on Testing Data is: 0.8379888268156425\n",
      "\n",
      " ----------------------------------------------------\n",
      "Precision Score of DecisionTreeClassifier() model is: 0.8333333333333334\n",
      "Recall Score of DecisionTreeClassifier() model is: 0.6557377049180327\n",
      "F1 Score of DecisionTreeClassifier() model is: 0.7339449541284403\n"
     ]
    }
   ],
   "source": [
    "model_predict(DecisionTreeClassifier())"
   ]
  },
  {
   "cell_type": "code",
   "execution_count": 47,
   "id": "342067b9",
   "metadata": {
    "execution": {
     "iopub.execute_input": "2023-06-27T22:02:48.091715Z",
     "iopub.status.busy": "2023-06-27T22:02:48.090640Z",
     "iopub.status.idle": "2023-06-27T22:02:48.328369Z",
     "shell.execute_reply": "2023-06-27T22:02:48.327018Z"
    },
    "id": "NtMrXe0l0H1y",
    "outputId": "e824b061-7773-404a-90ec-d59df7d41662",
    "papermill": {
     "duration": 0.264046,
     "end_time": "2023-06-27T22:02:48.330808",
     "exception": false,
     "start_time": "2023-06-27T22:02:48.066762",
     "status": "completed"
    },
    "tags": []
   },
   "outputs": [
    {
     "name": "stdout",
     "output_type": "stream",
     "text": [
      "Accuracy_Score of RandomForestClassifier() model on Training Data is: 0.8412921348314607\n",
      "Accuracy_Score of RandomForestClassifier() model on Testing Data is: 0.8770949720670391\n",
      "\n",
      " ----------------------------------------------------\n",
      "Precision Score of RandomForestClassifier() model is: 0.8421052631578947\n",
      "Recall Score of RandomForestClassifier() model is: 0.7868852459016393\n",
      "F1 Score of RandomForestClassifier() model is: 0.8135593220338982\n"
     ]
    }
   ],
   "source": [
    "model_predict(RandomForestClassifier())"
   ]
  },
  {
   "cell_type": "code",
   "execution_count": 48,
   "id": "6c0ef371",
   "metadata": {
    "execution": {
     "iopub.execute_input": "2023-06-27T22:02:48.378645Z",
     "iopub.status.busy": "2023-06-27T22:02:48.377862Z",
     "iopub.status.idle": "2023-06-27T22:02:48.412033Z",
     "shell.execute_reply": "2023-06-27T22:02:48.410833Z"
    },
    "id": "weok_OW50H1y",
    "outputId": "5629b929-6edb-48a1-c147-ae8b78c295ec",
    "papermill": {
     "duration": 0.060571,
     "end_time": "2023-06-27T22:02:48.414361",
     "exception": false,
     "start_time": "2023-06-27T22:02:48.353790",
     "status": "completed"
    },
    "tags": []
   },
   "outputs": [
    {
     "name": "stdout",
     "output_type": "stream",
     "text": [
      "Accuracy_Score of LogisticRegression() model on Training Data is: 0.8117977528089888\n",
      "Accuracy_Score of LogisticRegression() model on Testing Data is: 0.8994413407821229\n",
      "\n",
      " ----------------------------------------------------\n",
      "Precision Score of LogisticRegression() model is: 0.8524590163934426\n",
      "Recall Score of LogisticRegression() model is: 0.8524590163934426\n",
      "F1 Score of LogisticRegression() model is: 0.8524590163934426\n"
     ]
    }
   ],
   "source": [
    "model_predict(LogisticRegression())"
   ]
  },
  {
   "cell_type": "code",
   "execution_count": 49,
   "id": "d5bb8497",
   "metadata": {
    "execution": {
     "iopub.execute_input": "2023-06-27T22:02:48.461934Z",
     "iopub.status.busy": "2023-06-27T22:02:48.461325Z",
     "iopub.status.idle": "2023-06-27T22:02:48.590214Z",
     "shell.execute_reply": "2023-06-27T22:02:48.589408Z"
    },
    "id": "YoSzJIeo0H1y",
    "outputId": "1c2a8785-28a1-4184-c690-658caf64ab57",
    "papermill": {
     "duration": 0.155961,
     "end_time": "2023-06-27T22:02:48.593139",
     "exception": false,
     "start_time": "2023-06-27T22:02:48.437178",
     "status": "completed"
    },
    "tags": []
   },
   "outputs": [
    {
     "name": "stdout",
     "output_type": "stream",
     "text": [
      "Accuracy_Score of XGBClassifier(base_score=None, booster=None, callbacks=None,\n",
      "              colsample_bylevel=None, colsample_bynode=None,\n",
      "              colsample_bytree=None, early_stopping_rounds=None,\n",
      "              enable_categorical=False, eval_metric=None, feature_types=None,\n",
      "              gamma=None, gpu_id=None, grow_policy=None, importance_type=None,\n",
      "              interaction_constraints=None, learning_rate=None, max_bin=None,\n",
      "              max_cat_threshold=None, max_cat_to_onehot=None,\n",
      "              max_delta_step=None, max_depth=None, max_leaves=None,\n",
      "              min_child_weight=None, missing=nan, monotone_constraints=None,\n",
      "              n_estimators=100, n_jobs=None, num_parallel_tree=None,\n",
      "              predictor=None, random_state=None, ...) model on Training Data is: 0.8398876404494382\n",
      "Accuracy_Score of XGBClassifier(base_score=None, booster=None, callbacks=None,\n",
      "              colsample_bylevel=None, colsample_bynode=None,\n",
      "              colsample_bytree=None, early_stopping_rounds=None,\n",
      "              enable_categorical=False, eval_metric=None, feature_types=None,\n",
      "              gamma=None, gpu_id=None, grow_policy=None, importance_type=None,\n",
      "              interaction_constraints=None, learning_rate=None, max_bin=None,\n",
      "              max_cat_threshold=None, max_cat_to_onehot=None,\n",
      "              max_delta_step=None, max_depth=None, max_leaves=None,\n",
      "              min_child_weight=None, missing=nan, monotone_constraints=None,\n",
      "              n_estimators=100, n_jobs=None, num_parallel_tree=None,\n",
      "              predictor=None, random_state=None, ...) model on Testing Data is: 0.8491620111731844\n",
      "\n",
      " ----------------------------------------------------\n",
      "Precision Score of XGBClassifier(base_score=None, booster=None, callbacks=None,\n",
      "              colsample_bylevel=None, colsample_bynode=None,\n",
      "              colsample_bytree=None, early_stopping_rounds=None,\n",
      "              enable_categorical=False, eval_metric=None, feature_types=None,\n",
      "              gamma=None, gpu_id=None, grow_policy=None, importance_type=None,\n",
      "              interaction_constraints=None, learning_rate=None, max_bin=None,\n",
      "              max_cat_threshold=None, max_cat_to_onehot=None,\n",
      "              max_delta_step=None, max_depth=None, max_leaves=None,\n",
      "              min_child_weight=None, missing=nan, monotone_constraints=None,\n",
      "              n_estimators=100, n_jobs=None, num_parallel_tree=None,\n",
      "              predictor=None, random_state=None, ...) model is: 0.8035714285714286\n",
      "Recall Score of XGBClassifier(base_score=None, booster=None, callbacks=None,\n",
      "              colsample_bylevel=None, colsample_bynode=None,\n",
      "              colsample_bytree=None, early_stopping_rounds=None,\n",
      "              enable_categorical=False, eval_metric=None, feature_types=None,\n",
      "              gamma=None, gpu_id=None, grow_policy=None, importance_type=None,\n",
      "              interaction_constraints=None, learning_rate=None, max_bin=None,\n",
      "              max_cat_threshold=None, max_cat_to_onehot=None,\n",
      "              max_delta_step=None, max_depth=None, max_leaves=None,\n",
      "              min_child_weight=None, missing=nan, monotone_constraints=None,\n",
      "              n_estimators=100, n_jobs=None, num_parallel_tree=None,\n",
      "              predictor=None, random_state=None, ...) model is: 0.7377049180327869\n",
      "F1 Score of XGBClassifier(base_score=None, booster=None, callbacks=None,\n",
      "              colsample_bylevel=None, colsample_bynode=None,\n",
      "              colsample_bytree=None, early_stopping_rounds=None,\n",
      "              enable_categorical=False, eval_metric=None, feature_types=None,\n",
      "              gamma=None, gpu_id=None, grow_policy=None, importance_type=None,\n",
      "              interaction_constraints=None, learning_rate=None, max_bin=None,\n",
      "              max_cat_threshold=None, max_cat_to_onehot=None,\n",
      "              max_delta_step=None, max_depth=None, max_leaves=None,\n",
      "              min_child_weight=None, missing=nan, monotone_constraints=None,\n",
      "              n_estimators=100, n_jobs=None, num_parallel_tree=None,\n",
      "              predictor=None, random_state=None, ...) model is: 0.7692307692307693\n"
     ]
    }
   ],
   "source": [
    "model_predict(XGBClassifier())"
   ]
  },
  {
   "cell_type": "code",
   "execution_count": 50,
   "id": "48acafac",
   "metadata": {
    "execution": {
     "iopub.execute_input": "2023-06-27T22:02:48.641450Z",
     "iopub.status.busy": "2023-06-27T22:02:48.640476Z",
     "iopub.status.idle": "2023-06-27T22:02:48.777707Z",
     "shell.execute_reply": "2023-06-27T22:02:48.776106Z"
    },
    "id": "coicGdjn0H1y",
    "outputId": "eed87202-c248-4f41-fcb4-047bf52d226f",
    "papermill": {
     "duration": 0.163725,
     "end_time": "2023-06-27T22:02:48.780248",
     "exception": false,
     "start_time": "2023-06-27T22:02:48.616523",
     "status": "completed"
    },
    "tags": []
   },
   "outputs": [
    {
     "name": "stdout",
     "output_type": "stream",
     "text": [
      "Accuracy_Score of AdaBoostClassifier() model on Training Data is: 0.800561797752809\n",
      "Accuracy_Score of AdaBoostClassifier() model on Testing Data is: 0.8715083798882681\n",
      "\n",
      " ----------------------------------------------------\n",
      "Precision Score of AdaBoostClassifier() model is: 0.796875\n",
      "Recall Score of AdaBoostClassifier() model is: 0.8360655737704918\n",
      "F1 Score of AdaBoostClassifier() model is: 0.816\n"
     ]
    }
   ],
   "source": [
    "model_predict(AdaBoostClassifier())"
   ]
  },
  {
   "cell_type": "code",
   "execution_count": 51,
   "id": "cc574c77",
   "metadata": {
    "execution": {
     "iopub.execute_input": "2023-06-27T22:02:48.828219Z",
     "iopub.status.busy": "2023-06-27T22:02:48.827211Z",
     "iopub.status.idle": "2023-06-27T22:02:48.954523Z",
     "shell.execute_reply": "2023-06-27T22:02:48.952770Z"
    },
    "id": "VwuzkSmf0H1y",
    "outputId": "61abd936-f466-4b15-d4ad-6bc3c595230c",
    "papermill": {
     "duration": 0.15379,
     "end_time": "2023-06-27T22:02:48.956981",
     "exception": false,
     "start_time": "2023-06-27T22:02:48.803191",
     "status": "completed"
    },
    "tags": []
   },
   "outputs": [
    {
     "name": "stdout",
     "output_type": "stream",
     "text": [
      "Accuracy_Score of GradientBoostingClassifier() model on Training Data is: 0.827247191011236\n",
      "Accuracy_Score of GradientBoostingClassifier() model on Testing Data is: 0.88268156424581\n",
      "\n",
      " ----------------------------------------------------\n",
      "Precision Score of GradientBoostingClassifier() model is: 0.9166666666666666\n",
      "Recall Score of GradientBoostingClassifier() model is: 0.7213114754098361\n",
      "F1 Score of GradientBoostingClassifier() model is: 0.8073394495412843\n"
     ]
    }
   ],
   "source": [
    "model_predict(GradientBoostingClassifier())"
   ]
  },
  {
   "cell_type": "code",
   "execution_count": 52,
   "id": "e9459a84",
   "metadata": {
    "execution": {
     "iopub.execute_input": "2023-06-27T22:02:49.005203Z",
     "iopub.status.busy": "2023-06-27T22:02:49.004430Z",
     "iopub.status.idle": "2023-06-27T22:02:49.335788Z",
     "shell.execute_reply": "2023-06-27T22:02:49.334322Z"
    },
    "id": "rJORiwU60H1y",
    "outputId": "5e9f9b19-c22a-4112-b6ee-cb06bc96daa5",
    "papermill": {
     "duration": 0.357798,
     "end_time": "2023-06-27T22:02:49.337971",
     "exception": false,
     "start_time": "2023-06-27T22:02:48.980173",
     "status": "completed"
    },
    "tags": []
   },
   "outputs": [
    {
     "name": "stdout",
     "output_type": "stream",
     "text": [
      "Accuracy_Score of LGBMClassifier() model on Training Data is: 0.8300561797752809\n",
      "Accuracy_Score of LGBMClassifier() model on Testing Data is: 0.8547486033519553\n",
      "\n",
      " ----------------------------------------------------\n",
      "Precision Score of LGBMClassifier() model is: 0.8181818181818182\n",
      "Recall Score of LGBMClassifier() model is: 0.7377049180327869\n",
      "F1 Score of LGBMClassifier() model is: 0.7758620689655172\n"
     ]
    }
   ],
   "source": [
    "model_predict(LGBMClassifier())"
   ]
  },
  {
   "cell_type": "code",
   "execution_count": 53,
   "id": "7028db8b",
   "metadata": {
    "execution": {
     "iopub.execute_input": "2023-06-27T22:02:49.385353Z",
     "iopub.status.busy": "2023-06-27T22:02:49.384960Z",
     "iopub.status.idle": "2023-06-27T22:02:50.557085Z",
     "shell.execute_reply": "2023-06-27T22:02:50.555884Z"
    },
    "id": "OvTN5-Yz0H1y",
    "outputId": "415c8314-ea53-4cbd-e547-45d6a5a71da5",
    "papermill": {
     "duration": 1.199846,
     "end_time": "2023-06-27T22:02:50.560947",
     "exception": false,
     "start_time": "2023-06-27T22:02:49.361101",
     "status": "completed"
    },
    "tags": []
   },
   "outputs": [
    {
     "name": "stdout",
     "output_type": "stream",
     "text": [
      "Accuracy_Score of <catboost.core.CatBoostClassifier object at 0x79176fcc4220> model on Training Data is: 0.8370786516853933\n",
      "Accuracy_Score of <catboost.core.CatBoostClassifier object at 0x79176fcc4220> model on Testing Data is: 0.8659217877094972\n",
      "\n",
      " ----------------------------------------------------\n",
      "Precision Score of <catboost.core.CatBoostClassifier object at 0x79176fcc4220> model is: 0.8627450980392157\n",
      "Recall Score of <catboost.core.CatBoostClassifier object at 0x79176fcc4220> model is: 0.7213114754098361\n",
      "F1 Score of <catboost.core.CatBoostClassifier object at 0x79176fcc4220> model is: 0.7857142857142857\n"
     ]
    }
   ],
   "source": [
    "model_predict(CatBoostClassifier(verbose=False))"
   ]
  },
  {
   "cell_type": "code",
   "execution_count": 54,
   "id": "cc6b2c53",
   "metadata": {
    "execution": {
     "iopub.execute_input": "2023-06-27T22:02:50.609733Z",
     "iopub.status.busy": "2023-06-27T22:02:50.609365Z",
     "iopub.status.idle": "2023-06-27T22:02:50.662083Z",
     "shell.execute_reply": "2023-06-27T22:02:50.660807Z"
    },
    "id": "Gl5IooVe0H1z",
    "outputId": "406ba901-4b45-4be9-d62b-a2f7b490ff72",
    "papermill": {
     "duration": 0.079293,
     "end_time": "2023-06-27T22:02:50.664281",
     "exception": false,
     "start_time": "2023-06-27T22:02:50.584988",
     "status": "completed"
    },
    "tags": []
   },
   "outputs": [
    {
     "name": "stdout",
     "output_type": "stream",
     "text": [
      "Accuracy_Score of SVC() model on Training Data is: 0.8132022471910112\n",
      "Accuracy_Score of SVC() model on Testing Data is: 0.8603351955307262\n",
      "\n",
      " ----------------------------------------------------\n",
      "Precision Score of SVC() model is: 0.8461538461538461\n",
      "Recall Score of SVC() model is: 0.7213114754098361\n",
      "F1 Score of SVC() model is: 0.7787610619469026\n"
     ]
    }
   ],
   "source": [
    "model_predict(SVC())"
   ]
  },
  {
   "cell_type": "code",
   "execution_count": 55,
   "id": "e6836284",
   "metadata": {
    "execution": {
     "iopub.execute_input": "2023-06-27T22:02:50.713368Z",
     "iopub.status.busy": "2023-06-27T22:02:50.712973Z",
     "iopub.status.idle": "2023-06-27T22:02:50.726761Z",
     "shell.execute_reply": "2023-06-27T22:02:50.725938Z"
    },
    "id": "eEbc8vi00H1z",
    "outputId": "41dc191b-06c9-48c2-f1d1-47e22a428bbe",
    "papermill": {
     "duration": 0.041051,
     "end_time": "2023-06-27T22:02:50.728660",
     "exception": false,
     "start_time": "2023-06-27T22:02:50.687609",
     "status": "completed"
    },
    "tags": []
   },
   "outputs": [
    {
     "data": {
      "text/html": [
       "<div>\n",
       "<style scoped>\n",
       "    .dataframe tbody tr th:only-of-type {\n",
       "        vertical-align: middle;\n",
       "    }\n",
       "\n",
       "    .dataframe tbody tr th {\n",
       "        vertical-align: top;\n",
       "    }\n",
       "\n",
       "    .dataframe thead th {\n",
       "        text-align: right;\n",
       "    }\n",
       "</style>\n",
       "<table border=\"1\" class=\"dataframe\">\n",
       "  <thead>\n",
       "    <tr style=\"text-align: right;\">\n",
       "      <th></th>\n",
       "      <th>Algorithms</th>\n",
       "      <th>Training score</th>\n",
       "      <th>Testing score</th>\n",
       "    </tr>\n",
       "  </thead>\n",
       "  <tbody>\n",
       "    <tr>\n",
       "      <th>0</th>\n",
       "      <td>DecisionTreeClassifier</td>\n",
       "      <td>0.841292</td>\n",
       "      <td>0.837989</td>\n",
       "    </tr>\n",
       "    <tr>\n",
       "      <th>1</th>\n",
       "      <td>RandomForestClassifier</td>\n",
       "      <td>0.841292</td>\n",
       "      <td>0.877095</td>\n",
       "    </tr>\n",
       "    <tr>\n",
       "      <th>2</th>\n",
       "      <td>LogisticRegression</td>\n",
       "      <td>0.811798</td>\n",
       "      <td>0.899441</td>\n",
       "    </tr>\n",
       "    <tr>\n",
       "      <th>3</th>\n",
       "      <td>XGBClassifier</td>\n",
       "      <td>0.839888</td>\n",
       "      <td>0.849162</td>\n",
       "    </tr>\n",
       "    <tr>\n",
       "      <th>4</th>\n",
       "      <td>AdaBoostClassifier</td>\n",
       "      <td>0.800562</td>\n",
       "      <td>0.871508</td>\n",
       "    </tr>\n",
       "    <tr>\n",
       "      <th>5</th>\n",
       "      <td>GradientBoostingClassifier</td>\n",
       "      <td>0.827247</td>\n",
       "      <td>0.882682</td>\n",
       "    </tr>\n",
       "    <tr>\n",
       "      <th>6</th>\n",
       "      <td>LGBMClassifier</td>\n",
       "      <td>0.830056</td>\n",
       "      <td>0.854749</td>\n",
       "    </tr>\n",
       "    <tr>\n",
       "      <th>7</th>\n",
       "      <td>CatBoostClassifier</td>\n",
       "      <td>0.837079</td>\n",
       "      <td>0.865922</td>\n",
       "    </tr>\n",
       "    <tr>\n",
       "      <th>8</th>\n",
       "      <td>SVC</td>\n",
       "      <td>0.813202</td>\n",
       "      <td>0.860335</td>\n",
       "    </tr>\n",
       "  </tbody>\n",
       "</table>\n",
       "</div>"
      ],
      "text/plain": [
       "                   Algorithms  Training score  Testing score\n",
       "0      DecisionTreeClassifier        0.841292       0.837989\n",
       "1      RandomForestClassifier        0.841292       0.877095\n",
       "2          LogisticRegression        0.811798       0.899441\n",
       "3               XGBClassifier        0.839888       0.849162\n",
       "4          AdaBoostClassifier        0.800562       0.871508\n",
       "5  GradientBoostingClassifier        0.827247       0.882682\n",
       "6              LGBMClassifier        0.830056       0.854749\n",
       "7          CatBoostClassifier        0.837079       0.865922\n",
       "8                         SVC        0.813202       0.860335"
      ]
     },
     "execution_count": 55,
     "metadata": {},
     "output_type": "execute_result"
    }
   ],
   "source": [
    "models = [\"DecisionTreeClassifier\", \"RandomForestClassifier\", \"LogisticRegression\", \"XGBClassifier\", \"AdaBoostClassifier\", \"GradientBoostingClassifier\", \"LGBMClassifier\", \"CatBoostClassifier\", \"SVC\"]\n",
    "df = pd.DataFrame({\"Algorithms\":models,\n",
    "                 \"Training score\":training_score,\n",
    "                 \"Testing score\":testing_score})\n",
    "df"
   ]
  },
  {
   "cell_type": "markdown",
   "id": "00a499a6",
   "metadata": {
    "id": "6yuPAj8z0H1z",
    "papermill": {
     "duration": 0.022658,
     "end_time": "2023-06-27T22:02:50.774892",
     "exception": false,
     "start_time": "2023-06-27T22:02:50.752234",
     "status": "completed"
    },
    "tags": []
   },
   "source": [
    "# **Hyperparameter tuning**"
   ]
  },
  {
   "cell_type": "code",
   "execution_count": 56,
   "id": "39ecb668",
   "metadata": {
    "execution": {
     "iopub.execute_input": "2023-06-27T22:02:50.823116Z",
     "iopub.status.busy": "2023-06-27T22:02:50.822742Z",
     "iopub.status.idle": "2023-06-27T22:02:50.827274Z",
     "shell.execute_reply": "2023-06-27T22:02:50.826290Z"
    },
    "id": "kcX_w8uq0H1z",
    "papermill": {
     "duration": 0.031227,
     "end_time": "2023-06-27T22:02:50.829288",
     "exception": false,
     "start_time": "2023-06-27T22:02:50.798061",
     "status": "completed"
    },
    "tags": []
   },
   "outputs": [],
   "source": [
    "# #hyperparameter tuning on GradientBoostingClassifier\n",
    "from sklearn.model_selection import RandomizedSearchCV, GridSearchCV\n",
    "# model1 = GradientBoostingClassifier()\n",
    "# parameters1 = {'n_estimators': [100,300,500,550],\n",
    "#                'min_samples_split':[7,8,9],\n",
    "#                'max_depth': [10,11,12],\n",
    "#                'min_samples_leaf':[4,5,6]}\n",
    "# grid_search1 = GridSearchCV(model1, parameters1, cv=5, n_jobs=-1)\n",
    "# grid_search1.fit(x_train,y_train)\n",
    "# print(grid_search1.best_score_)\n",
    "# best_parameters1 = grid_search1.best_params_\n",
    "# print(best_parameters1)\n",
    "# 0.7878755047769131\n",
    "# {'max_depth': 10, 'min_samples_leaf': 6, 'min_samples_split': 7, 'n_estimators': 100}"
   ]
  },
  {
   "cell_type": "code",
   "execution_count": 57,
   "id": "5176af67",
   "metadata": {
    "execution": {
     "iopub.execute_input": "2023-06-27T22:02:50.877015Z",
     "iopub.status.busy": "2023-06-27T22:02:50.876667Z",
     "iopub.status.idle": "2023-06-27T22:02:51.120732Z",
     "shell.execute_reply": "2023-06-27T22:02:51.119878Z"
    },
    "id": "0M0v4QQ80H1z",
    "outputId": "7f6326d0-19fd-41dd-8a2c-db072b2a8b08",
    "papermill": {
     "duration": 0.270516,
     "end_time": "2023-06-27T22:02:51.122987",
     "exception": false,
     "start_time": "2023-06-27T22:02:50.852471",
     "status": "completed"
    },
    "tags": []
   },
   "outputs": [
    {
     "data": {
      "text/plain": [
       "0.8547486033519553"
      ]
     },
     "execution_count": 57,
     "metadata": {},
     "output_type": "execute_result"
    }
   ],
   "source": [
    "gradientboost = GradientBoostingClassifier(max_depth= 12, min_samples_leaf= 6, min_samples_split= 9, n_estimators= 100)\n",
    "gradientboost.fit(x_train,y_train)\n",
    "x_test_pred1 = gradientboost.predict(x_test)\n",
    "accuracy_score(y_test,x_test_pred1)"
   ]
  },
  {
   "cell_type": "code",
   "execution_count": 58,
   "id": "09432de0",
   "metadata": {
    "execution": {
     "iopub.execute_input": "2023-06-27T22:02:51.172142Z",
     "iopub.status.busy": "2023-06-27T22:02:51.171784Z",
     "iopub.status.idle": "2023-06-27T22:02:51.176129Z",
     "shell.execute_reply": "2023-06-27T22:02:51.175188Z"
    },
    "id": "YtiLvs-X0H1z",
    "papermill": {
     "duration": 0.031325,
     "end_time": "2023-06-27T22:02:51.178106",
     "exception": false,
     "start_time": "2023-06-27T22:02:51.146781",
     "status": "completed"
    },
    "tags": []
   },
   "outputs": [],
   "source": [
    "# model2 = CatBoostClassifier(verbose=False)\n",
    "# parameters2 = {\"learning_rate\":[0.1,0.3,0.5,0.6,0.7],\n",
    "#               \"random_state\":[0,42,48,50],\n",
    "#                \"depth\":[8,9,10],\n",
    "#                \"iterations\":[35,40,50]}\n",
    "# grid_search2 = GridSearchCV(model2, parameters2, cv=5, n_jobs=-1)\n",
    "# grid_search2.fit(x_train,y_train)\n",
    "# print(grid_search2.best_score_)\n",
    "# best_parameters2 = grid_search2.best_params_\n",
    "# print(best_parameters2)\n",
    "# 0.8230079779375554\n",
    "# {'depth': 8, 'iterations': 50, 'learning_rate': 0.5, 'random_state': 0}"
   ]
  },
  {
   "cell_type": "code",
   "execution_count": 59,
   "id": "2a3ceacb",
   "metadata": {
    "execution": {
     "iopub.execute_input": "2023-06-27T22:02:51.227210Z",
     "iopub.status.busy": "2023-06-27T22:02:51.226847Z",
     "iopub.status.idle": "2023-06-27T22:02:51.331860Z",
     "shell.execute_reply": "2023-06-27T22:02:51.330855Z"
    },
    "id": "4FJm4YUl0H1z",
    "outputId": "1ca8b047-77cb-4959-8a96-1dae91237d8b",
    "papermill": {
     "duration": 0.132209,
     "end_time": "2023-06-27T22:02:51.333925",
     "exception": false,
     "start_time": "2023-06-27T22:02:51.201716",
     "status": "completed"
    },
    "tags": []
   },
   "outputs": [
    {
     "name": "stdout",
     "output_type": "stream",
     "text": [
      "0:\tlearn: 0.6577718\ttotal: 567us\tremaining: 19.3ms\n",
      "1:\tlearn: 0.6279806\ttotal: 4.72ms\tremaining: 77.9ms\n",
      "2:\tlearn: 0.6042418\ttotal: 5.61ms\tremaining: 59.9ms\n",
      "3:\tlearn: 0.5821881\ttotal: 5.87ms\tremaining: 45.5ms\n",
      "4:\tlearn: 0.5636722\ttotal: 6.28ms\tremaining: 37.7ms\n",
      "5:\tlearn: 0.5486337\ttotal: 8.71ms\tremaining: 42.1ms\n",
      "6:\tlearn: 0.5348668\ttotal: 9.27ms\tremaining: 37.1ms\n",
      "7:\tlearn: 0.5224271\ttotal: 10.1ms\tremaining: 34.1ms\n",
      "8:\tlearn: 0.5120394\ttotal: 10.4ms\tremaining: 30ms\n",
      "9:\tlearn: 0.5020238\ttotal: 12.8ms\tremaining: 32.1ms\n",
      "10:\tlearn: 0.4954715\ttotal: 13.2ms\tremaining: 28.8ms\n",
      "11:\tlearn: 0.4890197\ttotal: 14.1ms\tremaining: 27ms\n",
      "12:\tlearn: 0.4816962\ttotal: 17.3ms\tremaining: 29.4ms\n",
      "13:\tlearn: 0.4759958\ttotal: 20ms\tremaining: 30ms\n",
      "14:\tlearn: 0.4706276\ttotal: 20.9ms\tremaining: 27.9ms\n",
      "15:\tlearn: 0.4664454\ttotal: 21.2ms\tremaining: 25.2ms\n",
      "16:\tlearn: 0.4617704\ttotal: 23.9ms\tremaining: 25.3ms\n",
      "17:\tlearn: 0.4604903\ttotal: 24.3ms\tremaining: 22.9ms\n",
      "18:\tlearn: 0.4567692\ttotal: 26.8ms\tremaining: 22.6ms\n",
      "19:\tlearn: 0.4539078\ttotal: 27.1ms\tremaining: 20.3ms\n",
      "20:\tlearn: 0.4499693\ttotal: 29.7ms\tremaining: 19.8ms\n",
      "21:\tlearn: 0.4468965\ttotal: 30.3ms\tremaining: 17.9ms\n",
      "22:\tlearn: 0.4455217\ttotal: 30.6ms\tremaining: 16ms\n",
      "23:\tlearn: 0.4427712\ttotal: 33.2ms\tremaining: 15.2ms\n",
      "24:\tlearn: 0.4409611\ttotal: 33.6ms\tremaining: 13.4ms\n",
      "25:\tlearn: 0.4388874\ttotal: 35.1ms\tremaining: 12.1ms\n",
      "26:\tlearn: 0.4371994\ttotal: 37.8ms\tremaining: 11.2ms\n",
      "27:\tlearn: 0.4365819\ttotal: 38.3ms\tremaining: 9.56ms\n",
      "28:\tlearn: 0.4349053\ttotal: 39.7ms\tremaining: 8.22ms\n",
      "29:\tlearn: 0.4327261\ttotal: 40.6ms\tremaining: 6.76ms\n",
      "30:\tlearn: 0.4313464\ttotal: 41.5ms\tremaining: 5.35ms\n",
      "31:\tlearn: 0.4299078\ttotal: 43.9ms\tremaining: 4.11ms\n",
      "32:\tlearn: 0.4294820\ttotal: 44.7ms\tremaining: 2.71ms\n",
      "33:\tlearn: 0.4281885\ttotal: 45.6ms\tremaining: 1.34ms\n",
      "34:\tlearn: 0.4271694\ttotal: 46.1ms\tremaining: 0us\n",
      "0.8435754189944135\n"
     ]
    }
   ],
   "source": [
    "catboost = CatBoostClassifier(depth= 8, iterations= 35, learning_rate= 0.1, random_state= 42)\n",
    "catboost.fit(x_train,y_train)\n",
    "x_test_pred2 = catboost.predict(x_test)\n",
    "print(accuracy_score(y_test,x_test_pred2))"
   ]
  },
  {
   "cell_type": "code",
   "execution_count": 60,
   "id": "30e14ec8",
   "metadata": {
    "execution": {
     "iopub.execute_input": "2023-06-27T22:02:51.382574Z",
     "iopub.status.busy": "2023-06-27T22:02:51.382208Z",
     "iopub.status.idle": "2023-06-27T22:02:51.386345Z",
     "shell.execute_reply": "2023-06-27T22:02:51.385364Z"
    },
    "id": "0oIUciuc0H1z",
    "papermill": {
     "duration": 0.030504,
     "end_time": "2023-06-27T22:02:51.388164",
     "exception": false,
     "start_time": "2023-06-27T22:02:51.357660",
     "status": "completed"
    },
    "tags": []
   },
   "outputs": [],
   "source": [
    "# model3 = XGBClassifier()\n",
    "# parameters3 = {\"n_estimators\":[50,100,150],\n",
    "#              \"random_state\":[0,42,50],\n",
    "#              \"learning_rate\":[0.1,0.3,0.5,1.0]}\n",
    "# grid_search3 = GridSearchCV(model3, parameters3, cv=5, n_jobs=-1)\n",
    "# grid_search3.fit(x_train,y_train)\n",
    "# print(grid_search3.best_score_)\n",
    "# best_parameters3 = grid_search3.best_params_\n",
    "# print(best_parameters3)\n",
    "# 0.8216093765389539\n",
    "# {'learning_rate': 0.1, 'n_estimators': 50, 'random_state': 0}"
   ]
  },
  {
   "cell_type": "code",
   "execution_count": 61,
   "id": "dae05e46",
   "metadata": {
    "execution": {
     "iopub.execute_input": "2023-06-27T22:02:51.437224Z",
     "iopub.status.busy": "2023-06-27T22:02:51.436808Z",
     "iopub.status.idle": "2023-06-27T22:02:51.609601Z",
     "shell.execute_reply": "2023-06-27T22:02:51.608373Z"
    },
    "id": "lp0Pt9hL0H10",
    "outputId": "ab5626bb-7f10-4315-ca8d-87077bf0b88d",
    "papermill": {
     "duration": 0.199879,
     "end_time": "2023-06-27T22:02:51.611694",
     "exception": false,
     "start_time": "2023-06-27T22:02:51.411815",
     "status": "completed"
    },
    "tags": []
   },
   "outputs": [
    {
     "name": "stdout",
     "output_type": "stream",
     "text": [
      "0.8659217877094972\n"
     ]
    }
   ],
   "source": [
    "xgboost = XGBClassifier(max_depth= 12, n_estimators= 100)\n",
    "xgboost.fit(x_train,y_train)\n",
    "x_test_pred3 = xgboost.predict(x_test)\n",
    "print(accuracy_score(y_test,x_test_pred3))\n"
   ]
  },
  {
   "cell_type": "code",
   "execution_count": 62,
   "id": "a3ce82bc",
   "metadata": {
    "execution": {
     "iopub.execute_input": "2023-06-27T22:02:51.666034Z",
     "iopub.status.busy": "2023-06-27T22:02:51.665640Z",
     "iopub.status.idle": "2023-06-27T22:02:51.669977Z",
     "shell.execute_reply": "2023-06-27T22:02:51.669010Z"
    },
    "id": "-QdFi7Bv0H10",
    "papermill": {
     "duration": 0.031721,
     "end_time": "2023-06-27T22:02:51.672195",
     "exception": false,
     "start_time": "2023-06-27T22:02:51.640474",
     "status": "completed"
    },
    "tags": []
   },
   "outputs": [],
   "source": [
    "# model4 = RandomForestClassifier()\n",
    "# parameters4 = {'n_estimators': [100,300,500,550],\n",
    "#                'min_samples_split':[7,8,9],\n",
    "#                'max_depth': [10,11,12],\n",
    "#                'min_samples_leaf':[4,5,6]}\n",
    "# grid_search4 = GridSearchCV(model4, parameters4, cv=5, n_jobs=-1)\n",
    "# grid_search4.fit(x_train,y_train)\n",
    "# print(grid_search4.best_score_)\n",
    "# best_parameters4 = grid_search4.best_params_\n",
    "# print(best_parameters4)\n",
    "# 0.8202501723628484\n",
    "# {'max_depth': 12, 'min_samples_leaf': 6, 'min_samples_split': 8, 'n_estimators': 300}"
   ]
  },
  {
   "cell_type": "code",
   "execution_count": 63,
   "id": "21e22c12",
   "metadata": {
    "execution": {
     "iopub.execute_input": "2023-06-27T22:02:51.722597Z",
     "iopub.status.busy": "2023-06-27T22:02:51.721712Z",
     "iopub.status.idle": "2023-06-27T22:02:51.930271Z",
     "shell.execute_reply": "2023-06-27T22:02:51.929146Z"
    },
    "id": "wYxvWSMh0H10",
    "outputId": "39f981f7-8845-498d-9a12-90535b1bbb38",
    "papermill": {
     "duration": 0.236513,
     "end_time": "2023-06-27T22:02:51.932467",
     "exception": false,
     "start_time": "2023-06-27T22:02:51.695954",
     "status": "completed"
    },
    "tags": []
   },
   "outputs": [
    {
     "name": "stdout",
     "output_type": "stream",
     "text": [
      "0.8603351955307262\n"
     ]
    }
   ],
   "source": [
    "randomforest = RandomForestClassifier(max_depth= 12, min_samples_leaf= 6, min_samples_split= 9, n_estimators= 100)\n",
    "randomforest.fit(x_train,y_train)\n",
    "x_test_pred4 = randomforest.predict(x_test)\n",
    "print(accuracy_score(y_test,x_test_pred4))"
   ]
  },
  {
   "cell_type": "code",
   "execution_count": 64,
   "id": "3b999497",
   "metadata": {
    "execution": {
     "iopub.execute_input": "2023-06-27T22:02:51.981158Z",
     "iopub.status.busy": "2023-06-27T22:02:51.980743Z",
     "iopub.status.idle": "2023-06-27T22:02:51.985503Z",
     "shell.execute_reply": "2023-06-27T22:02:51.984461Z"
    },
    "id": "dT5QRafE0H10",
    "papermill": {
     "duration": 0.03156,
     "end_time": "2023-06-27T22:02:51.987590",
     "exception": false,
     "start_time": "2023-06-27T22:02:51.956030",
     "status": "completed"
    },
    "tags": []
   },
   "outputs": [],
   "source": [
    "# model5 = LogisticRegression()\n",
    "# parameters5 = {'C': [0.1, 1, 10, 100],\n",
    "#               'penalty': ['l1', 'l2']}\n",
    "# grid_search5 = GridSearchCV(model5, parameters5, cv=5, n_jobs=-1)\n",
    "# grid_search5.fit(x_train,y_train)\n",
    "# print(grid_search5.best_score_)\n",
    "# best_parameters5 = grid_search5.best_params_\n",
    "# print(best_parameters5)\n",
    "# 0.8075741160248203\n",
    "# {'C': 1, 'penalty': 'l2'}\n"
   ]
  },
  {
   "cell_type": "code",
   "execution_count": 65,
   "id": "2e6601bf",
   "metadata": {
    "execution": {
     "iopub.execute_input": "2023-06-27T22:02:52.036910Z",
     "iopub.status.busy": "2023-06-27T22:02:52.036530Z",
     "iopub.status.idle": "2023-06-27T22:02:52.055664Z",
     "shell.execute_reply": "2023-06-27T22:02:52.054388Z"
    },
    "id": "EccC1YB60H10",
    "outputId": "031da8ec-e58f-4521-9102-a55668510d65",
    "papermill": {
     "duration": 0.046034,
     "end_time": "2023-06-27T22:02:52.057743",
     "exception": false,
     "start_time": "2023-06-27T22:02:52.011709",
     "status": "completed"
    },
    "tags": []
   },
   "outputs": [
    {
     "name": "stdout",
     "output_type": "stream",
     "text": [
      "0.8994413407821229\n"
     ]
    }
   ],
   "source": [
    "lr = LogisticRegression(C= 1, penalty= 'l2')\n",
    "lr.fit(x_train,y_train)\n",
    "x_test_pred5 = lr.predict(x_test)\n",
    "print(accuracy_score(y_test,x_test_pred5))"
   ]
  },
  {
   "cell_type": "code",
   "execution_count": 66,
   "id": "4ee38228",
   "metadata": {
    "execution": {
     "iopub.execute_input": "2023-06-27T22:02:52.107521Z",
     "iopub.status.busy": "2023-06-27T22:02:52.106795Z",
     "iopub.status.idle": "2023-06-27T22:02:52.112645Z",
     "shell.execute_reply": "2023-06-27T22:02:52.111732Z"
    },
    "id": "CSU7zyTB0H10",
    "papermill": {
     "duration": 0.032825,
     "end_time": "2023-06-27T22:02:52.114565",
     "exception": false,
     "start_time": "2023-06-27T22:02:52.081740",
     "status": "completed"
    },
    "tags": []
   },
   "outputs": [],
   "source": [
    "# model6 = SVC()\n",
    "# parameters6 = {'C': [0.1, 1, 10],\n",
    "#                'kernel': ['linear', 'sigmoid', 'poly'],\n",
    "#                'degree': [2, 3, 4]}\n",
    "# grid_search6 = GridSearchCV(model6, parameters6, cv=5, n_jobs=-1)\n",
    "# grid_search6.fit(x_train,y_train)\n",
    "# print(grid_search6.best_score_)\n",
    "# best_parameters6 = grid_search6.best_params_\n",
    "# print(best_parameters6)\n",
    "# 0.810381168127647\n",
    "# {'C': 10, 'degree': 2, 'kernel': 'linear'}\n"
   ]
  },
  {
   "cell_type": "code",
   "execution_count": 67,
   "id": "4893a4ce",
   "metadata": {
    "execution": {
     "iopub.execute_input": "2023-06-27T22:02:52.163592Z",
     "iopub.status.busy": "2023-06-27T22:02:52.163229Z",
     "iopub.status.idle": "2023-06-27T22:02:52.167437Z",
     "shell.execute_reply": "2023-06-27T22:02:52.166576Z"
    },
    "id": "yvbVdLmJ0H10",
    "papermill": {
     "duration": 0.030833,
     "end_time": "2023-06-27T22:02:52.169284",
     "exception": false,
     "start_time": "2023-06-27T22:02:52.138451",
     "status": "completed"
    },
    "tags": []
   },
   "outputs": [],
   "source": [
    "# 'degree': [2, 3, 4],\n",
    "#                'gamma': ['scale', 'auto']"
   ]
  },
  {
   "cell_type": "code",
   "execution_count": 68,
   "id": "d8e1393f",
   "metadata": {
    "execution": {
     "iopub.execute_input": "2023-06-27T22:02:52.218335Z",
     "iopub.status.busy": "2023-06-27T22:02:52.217957Z",
     "iopub.status.idle": "2023-06-27T22:02:52.223172Z",
     "shell.execute_reply": "2023-06-27T22:02:52.222331Z"
    },
    "id": "nJDrPjzB0H11",
    "papermill": {
     "duration": 0.032812,
     "end_time": "2023-06-27T22:02:52.225678",
     "exception": false,
     "start_time": "2023-06-27T22:02:52.192866",
     "status": "completed"
    },
    "tags": []
   },
   "outputs": [],
   "source": [
    "# svc = SVC(**best_parameters6)\n",
    "# svc.fit(x_train,y_train)\n",
    "# x_test_pred6 = svc.predict(x_test)\n",
    "# print(accuracy_score(y_test,x_test_pred6))"
   ]
  },
  {
   "cell_type": "code",
   "execution_count": 69,
   "id": "d54751d7",
   "metadata": {
    "execution": {
     "iopub.execute_input": "2023-06-27T22:02:52.274718Z",
     "iopub.status.busy": "2023-06-27T22:02:52.274041Z",
     "iopub.status.idle": "2023-06-27T22:02:52.278547Z",
     "shell.execute_reply": "2023-06-27T22:02:52.277485Z"
    },
    "id": "qUPLJv6x0H11",
    "papermill": {
     "duration": 0.031384,
     "end_time": "2023-06-27T22:02:52.280806",
     "exception": false,
     "start_time": "2023-06-27T22:02:52.249422",
     "status": "completed"
    },
    "tags": []
   },
   "outputs": [],
   "source": [
    "# model6 = LGBMClassifier()\n",
    "# parameters6 = {\"n_estimators\":[100,300,500,600,650],\n",
    "#               \"learning_rate\":[0.01,0.02,0.03],\n",
    "#               \"random_state\":[0,42,48,50],\n",
    "#                \"num_leaves\":[16,17,18]}\n",
    "# grid_search6 = GridSearchCV(model6, parameters6, cv=5, n_jobs=-1)\n",
    "# grid_search6.fit(x_train,y_train)\n",
    "# print(grid_search6.best_score_)\n",
    "# best_parameters6 = grid_search6.best_params_\n",
    "# print(best_parameters6)\n",
    "\n",
    "# 0.8131685216192259\n",
    "# {'learning_rate': 0.02, 'n_estimators': 300, 'num_leaves': 16, 'random_state': 0}"
   ]
  },
  {
   "cell_type": "code",
   "execution_count": 70,
   "id": "a2b7b8be",
   "metadata": {
    "execution": {
     "iopub.execute_input": "2023-06-27T22:02:52.330300Z",
     "iopub.status.busy": "2023-06-27T22:02:52.329281Z",
     "iopub.status.idle": "2023-06-27T22:02:53.071948Z",
     "shell.execute_reply": "2023-06-27T22:02:53.071207Z"
    },
    "id": "wHNXrAJY0H11",
    "outputId": "428df00c-b897-4e7a-ceeb-2ecc51dbb5e9",
    "papermill": {
     "duration": 0.769594,
     "end_time": "2023-06-27T22:02:53.074093",
     "exception": false,
     "start_time": "2023-06-27T22:02:52.304499",
     "status": "completed"
    },
    "tags": []
   },
   "outputs": [
    {
     "name": "stdout",
     "output_type": "stream",
     "text": [
      "0.8715083798882681\n"
     ]
    }
   ],
   "source": [
    "lgbm = LGBMClassifier(learning_rate= 0.02, n_estimators= 300, num_leaves= 16, random_state= 0)\n",
    "lgbm.fit(x_train,y_train)\n",
    "x_test_pred6 = lgbm.predict(x_test)\n",
    "print(accuracy_score(y_test,x_test_pred6))"
   ]
  },
  {
   "cell_type": "code",
   "execution_count": 71,
   "id": "77a46ee7",
   "metadata": {
    "execution": {
     "iopub.execute_input": "2023-06-27T22:02:53.124475Z",
     "iopub.status.busy": "2023-06-27T22:02:53.123879Z",
     "iopub.status.idle": "2023-06-27T22:02:53.128015Z",
     "shell.execute_reply": "2023-06-27T22:02:53.127301Z"
    },
    "id": "L_AlAwYp0H11",
    "papermill": {
     "duration": 0.031734,
     "end_time": "2023-06-27T22:02:53.129907",
     "exception": false,
     "start_time": "2023-06-27T22:02:53.098173",
     "status": "completed"
    },
    "tags": []
   },
   "outputs": [],
   "source": [
    "stacking_model = StackingClassifier(estimators=[('GBoost', gradientboost),\n",
    "                                                ('XGBoost', xgboost),\n",
    "                                                ('LR', lr),\n",
    "                                                ('RF', randomforest)])"
   ]
  },
  {
   "cell_type": "code",
   "execution_count": 72,
   "id": "bde1eedb",
   "metadata": {
    "execution": {
     "iopub.execute_input": "2023-06-27T22:02:53.179263Z",
     "iopub.status.busy": "2023-06-27T22:02:53.178686Z",
     "iopub.status.idle": "2023-06-27T22:02:53.183063Z",
     "shell.execute_reply": "2023-06-27T22:02:53.182385Z"
    },
    "id": "HE-w-Y-T0H11",
    "papermill": {
     "duration": 0.030942,
     "end_time": "2023-06-27T22:02:53.184808",
     "exception": false,
     "start_time": "2023-06-27T22:02:53.153866",
     "status": "completed"
    },
    "tags": []
   },
   "outputs": [],
   "source": [
    "voter = estimators=[('GBoost', gradientboost),\n",
    "                    ('XGBoost', xgboost),\n",
    "                    ('LR', lr),\n",
    "                    ('RF', randomforest),\n",
    "                    ('bag' , BaggingClassifier(max_samples=0.25, n_estimators=300,random_state=0)),\n",
    "                    ('rcc' , RidgeClassifierCV())]"
   ]
  },
  {
   "cell_type": "code",
   "execution_count": 73,
   "id": "9d8dd21c",
   "metadata": {
    "execution": {
     "iopub.execute_input": "2023-06-27T22:02:53.234168Z",
     "iopub.status.busy": "2023-06-27T22:02:53.233594Z",
     "iopub.status.idle": "2023-06-27T22:02:53.237379Z",
     "shell.execute_reply": "2023-06-27T22:02:53.236672Z"
    },
    "id": "vJKfx2UQ0H11",
    "papermill": {
     "duration": 0.030506,
     "end_time": "2023-06-27T22:02:53.239156",
     "exception": false,
     "start_time": "2023-06-27T22:02:53.208650",
     "status": "completed"
    },
    "tags": []
   },
   "outputs": [],
   "source": [
    "vote_m = VotingClassifier(estimators = voter , voting = 'hard')"
   ]
  },
  {
   "cell_type": "code",
   "execution_count": 74,
   "id": "1e21b0b1",
   "metadata": {
    "_kg_hide-output": false,
    "execution": {
     "iopub.execute_input": "2023-06-27T22:02:53.288799Z",
     "iopub.status.busy": "2023-06-27T22:02:53.288255Z",
     "iopub.status.idle": "2023-06-27T22:02:54.592728Z",
     "shell.execute_reply": "2023-06-27T22:02:54.591584Z"
    },
    "id": "8ZVmHMd40H11",
    "papermill": {
     "duration": 1.333057,
     "end_time": "2023-06-27T22:02:54.596180",
     "exception": false,
     "start_time": "2023-06-27T22:02:53.263123",
     "status": "completed"
    },
    "scrolled": true,
    "tags": []
   },
   "outputs": [],
   "source": [
    "vote_m.fit(x_train,y_train)\n",
    "pred = vote_m.predict(x_test)"
   ]
  },
  {
   "cell_type": "code",
   "execution_count": 75,
   "id": "3ed5e7be",
   "metadata": {
    "execution": {
     "iopub.execute_input": "2023-06-27T22:02:54.649479Z",
     "iopub.status.busy": "2023-06-27T22:02:54.649130Z",
     "iopub.status.idle": "2023-06-27T22:02:54.664165Z",
     "shell.execute_reply": "2023-06-27T22:02:54.663283Z"
    },
    "id": "GGYnfUPh0H11",
    "outputId": "258fade2-c02f-4ec0-ef64-818df583c1c2",
    "papermill": {
     "duration": 0.042121,
     "end_time": "2023-06-27T22:02:54.666156",
     "exception": false,
     "start_time": "2023-06-27T22:02:54.624035",
     "status": "completed"
    },
    "tags": []
   },
   "outputs": [
    {
     "name": "stdout",
     "output_type": "stream",
     "text": [
      "              precision    recall  f1-score   support\n",
      "\n",
      "           0       0.88      0.94      0.91       118\n",
      "           1       0.87      0.75      0.81        61\n",
      "\n",
      "    accuracy                           0.88       179\n",
      "   macro avg       0.87      0.85      0.86       179\n",
      "weighted avg       0.88      0.88      0.87       179\n",
      "\n",
      "[[111   7]\n",
      " [ 15  46]]\n"
     ]
    }
   ],
   "source": [
    "print(classification_report(y_test,pred))\n",
    "print(confusion_matrix(y_test,pred))"
   ]
  },
  {
   "cell_type": "code",
   "execution_count": 76,
   "id": "f80987ec",
   "metadata": {
    "execution": {
     "iopub.execute_input": "2023-06-27T22:02:54.715646Z",
     "iopub.status.busy": "2023-06-27T22:02:54.714923Z",
     "iopub.status.idle": "2023-06-27T22:02:54.719257Z",
     "shell.execute_reply": "2023-06-27T22:02:54.718304Z"
    },
    "id": "P-3OtBMV0H11",
    "papermill": {
     "duration": 0.031314,
     "end_time": "2023-06-27T22:02:54.721603",
     "exception": false,
     "start_time": "2023-06-27T22:02:54.690289",
     "status": "completed"
    },
    "tags": []
   },
   "outputs": [],
   "source": [
    "from sklearn.model_selection import cross_val_score"
   ]
  },
  {
   "cell_type": "code",
   "execution_count": 77,
   "id": "6296ee5b",
   "metadata": {
    "execution": {
     "iopub.execute_input": "2023-06-27T22:02:54.771707Z",
     "iopub.status.busy": "2023-06-27T22:02:54.771096Z",
     "iopub.status.idle": "2023-06-27T22:03:11.373147Z",
     "shell.execute_reply": "2023-06-27T22:03:11.372366Z"
    },
    "id": "nvEIniDP0H12",
    "outputId": "11eb726d-d785-4138-d643-3f148cdb39f4",
    "papermill": {
     "duration": 16.629499,
     "end_time": "2023-06-27T22:03:11.375317",
     "exception": false,
     "start_time": "2023-06-27T22:02:54.745818",
     "status": "completed"
    },
    "scrolled": true,
    "tags": []
   },
   "outputs": [
    {
     "name": "stdout",
     "output_type": "stream",
     "text": [
      "Accuracy:  82.16 %\n"
     ]
    }
   ],
   "source": [
    "mod_pred = cross_val_score(stacking_model,x,y,cv=5,verbose=0)\n",
    "print('Accuracy: ',round(mod_pred.mean()*100,2),'%')"
   ]
  },
  {
   "cell_type": "code",
   "execution_count": 78,
   "id": "8a81a09b",
   "metadata": {
    "execution": {
     "iopub.execute_input": "2023-06-27T22:03:11.426181Z",
     "iopub.status.busy": "2023-06-27T22:03:11.425311Z",
     "iopub.status.idle": "2023-06-27T22:03:14.779713Z",
     "shell.execute_reply": "2023-06-27T22:03:14.778656Z"
    },
    "id": "dN2XLbTx0H12",
    "outputId": "9d56e8a8-bd35-48f1-a329-f8aab48055cc",
    "papermill": {
     "duration": 3.382168,
     "end_time": "2023-06-27T22:03:14.781844",
     "exception": false,
     "start_time": "2023-06-27T22:03:11.399676",
     "status": "completed"
    },
    "scrolled": true,
    "tags": []
   },
   "outputs": [
    {
     "data": {
      "text/html": [
       "<style>#sk-container-id-1 {color: black;background-color: white;}#sk-container-id-1 pre{padding: 0;}#sk-container-id-1 div.sk-toggleable {background-color: white;}#sk-container-id-1 label.sk-toggleable__label {cursor: pointer;display: block;width: 100%;margin-bottom: 0;padding: 0.3em;box-sizing: border-box;text-align: center;}#sk-container-id-1 label.sk-toggleable__label-arrow:before {content: \"▸\";float: left;margin-right: 0.25em;color: #696969;}#sk-container-id-1 label.sk-toggleable__label-arrow:hover:before {color: black;}#sk-container-id-1 div.sk-estimator:hover label.sk-toggleable__label-arrow:before {color: black;}#sk-container-id-1 div.sk-toggleable__content {max-height: 0;max-width: 0;overflow: hidden;text-align: left;background-color: #f0f8ff;}#sk-container-id-1 div.sk-toggleable__content pre {margin: 0.2em;color: black;border-radius: 0.25em;background-color: #f0f8ff;}#sk-container-id-1 input.sk-toggleable__control:checked~div.sk-toggleable__content {max-height: 200px;max-width: 100%;overflow: auto;}#sk-container-id-1 input.sk-toggleable__control:checked~label.sk-toggleable__label-arrow:before {content: \"▾\";}#sk-container-id-1 div.sk-estimator input.sk-toggleable__control:checked~label.sk-toggleable__label {background-color: #d4ebff;}#sk-container-id-1 div.sk-label input.sk-toggleable__control:checked~label.sk-toggleable__label {background-color: #d4ebff;}#sk-container-id-1 input.sk-hidden--visually {border: 0;clip: rect(1px 1px 1px 1px);clip: rect(1px, 1px, 1px, 1px);height: 1px;margin: -1px;overflow: hidden;padding: 0;position: absolute;width: 1px;}#sk-container-id-1 div.sk-estimator {font-family: monospace;background-color: #f0f8ff;border: 1px dotted black;border-radius: 0.25em;box-sizing: border-box;margin-bottom: 0.5em;}#sk-container-id-1 div.sk-estimator:hover {background-color: #d4ebff;}#sk-container-id-1 div.sk-parallel-item::after {content: \"\";width: 100%;border-bottom: 1px solid gray;flex-grow: 1;}#sk-container-id-1 div.sk-label:hover label.sk-toggleable__label {background-color: #d4ebff;}#sk-container-id-1 div.sk-serial::before {content: \"\";position: absolute;border-left: 1px solid gray;box-sizing: border-box;top: 0;bottom: 0;left: 50%;z-index: 0;}#sk-container-id-1 div.sk-serial {display: flex;flex-direction: column;align-items: center;background-color: white;padding-right: 0.2em;padding-left: 0.2em;position: relative;}#sk-container-id-1 div.sk-item {position: relative;z-index: 1;}#sk-container-id-1 div.sk-parallel {display: flex;align-items: stretch;justify-content: center;background-color: white;position: relative;}#sk-container-id-1 div.sk-item::before, #sk-container-id-1 div.sk-parallel-item::before {content: \"\";position: absolute;border-left: 1px solid gray;box-sizing: border-box;top: 0;bottom: 0;left: 50%;z-index: -1;}#sk-container-id-1 div.sk-parallel-item {display: flex;flex-direction: column;z-index: 1;position: relative;background-color: white;}#sk-container-id-1 div.sk-parallel-item:first-child::after {align-self: flex-end;width: 50%;}#sk-container-id-1 div.sk-parallel-item:last-child::after {align-self: flex-start;width: 50%;}#sk-container-id-1 div.sk-parallel-item:only-child::after {width: 0;}#sk-container-id-1 div.sk-dashed-wrapped {border: 1px dashed gray;margin: 0 0.4em 0.5em 0.4em;box-sizing: border-box;padding-bottom: 0.4em;background-color: white;}#sk-container-id-1 div.sk-label label {font-family: monospace;font-weight: bold;display: inline-block;line-height: 1.2em;}#sk-container-id-1 div.sk-label-container {text-align: center;}#sk-container-id-1 div.sk-container {/* jupyter's `normalize.less` sets `[hidden] { display: none; }` but bootstrap.min.css set `[hidden] { display: none !important; }` so we also need the `!important` here to be able to override the default hidden behavior on the sphinx rendered scikit-learn.org. See: https://github.com/scikit-learn/scikit-learn/issues/21755 */display: inline-block !important;position: relative;}#sk-container-id-1 div.sk-text-repr-fallback {display: none;}</style><div id=\"sk-container-id-1\" class=\"sk-top-container\"><div class=\"sk-text-repr-fallback\"><pre>StackingClassifier(estimators=[(&#x27;GBoost&#x27;,\n",
       "                                GradientBoostingClassifier(max_depth=12,\n",
       "                                                           min_samples_leaf=6,\n",
       "                                                           min_samples_split=9)),\n",
       "                               (&#x27;XGBoost&#x27;,\n",
       "                                XGBClassifier(base_score=None, booster=None,\n",
       "                                              callbacks=None,\n",
       "                                              colsample_bylevel=None,\n",
       "                                              colsample_bynode=None,\n",
       "                                              colsample_bytree=None,\n",
       "                                              early_stopping_rounds=None,\n",
       "                                              enable_categorical=False,\n",
       "                                              eval_metric=None,\n",
       "                                              feature_types=None, gamm...\n",
       "                                              max_cat_threshold=None,\n",
       "                                              max_cat_to_onehot=None,\n",
       "                                              max_delta_step=None, max_depth=12,\n",
       "                                              max_leaves=None,\n",
       "                                              min_child_weight=None,\n",
       "                                              missing=nan,\n",
       "                                              monotone_constraints=None,\n",
       "                                              n_estimators=100, n_jobs=None,\n",
       "                                              num_parallel_tree=None,\n",
       "                                              predictor=None, random_state=None, ...)),\n",
       "                               (&#x27;LR&#x27;, LogisticRegression(C=1)),\n",
       "                               (&#x27;RF&#x27;,\n",
       "                                RandomForestClassifier(max_depth=12,\n",
       "                                                       min_samples_leaf=6,\n",
       "                                                       min_samples_split=9))])</pre><b>In a Jupyter environment, please rerun this cell to show the HTML representation or trust the notebook. <br />On GitHub, the HTML representation is unable to render, please try loading this page with nbviewer.org.</b></div><div class=\"sk-container\" hidden><div class=\"sk-item sk-dashed-wrapped\"><div class=\"sk-label-container\"><div class=\"sk-label sk-toggleable\"><input class=\"sk-toggleable__control sk-hidden--visually\" id=\"sk-estimator-id-1\" type=\"checkbox\" ><label for=\"sk-estimator-id-1\" class=\"sk-toggleable__label sk-toggleable__label-arrow\">StackingClassifier</label><div class=\"sk-toggleable__content\"><pre>StackingClassifier(estimators=[(&#x27;GBoost&#x27;,\n",
       "                                GradientBoostingClassifier(max_depth=12,\n",
       "                                                           min_samples_leaf=6,\n",
       "                                                           min_samples_split=9)),\n",
       "                               (&#x27;XGBoost&#x27;,\n",
       "                                XGBClassifier(base_score=None, booster=None,\n",
       "                                              callbacks=None,\n",
       "                                              colsample_bylevel=None,\n",
       "                                              colsample_bynode=None,\n",
       "                                              colsample_bytree=None,\n",
       "                                              early_stopping_rounds=None,\n",
       "                                              enable_categorical=False,\n",
       "                                              eval_metric=None,\n",
       "                                              feature_types=None, gamm...\n",
       "                                              max_cat_threshold=None,\n",
       "                                              max_cat_to_onehot=None,\n",
       "                                              max_delta_step=None, max_depth=12,\n",
       "                                              max_leaves=None,\n",
       "                                              min_child_weight=None,\n",
       "                                              missing=nan,\n",
       "                                              monotone_constraints=None,\n",
       "                                              n_estimators=100, n_jobs=None,\n",
       "                                              num_parallel_tree=None,\n",
       "                                              predictor=None, random_state=None, ...)),\n",
       "                               (&#x27;LR&#x27;, LogisticRegression(C=1)),\n",
       "                               (&#x27;RF&#x27;,\n",
       "                                RandomForestClassifier(max_depth=12,\n",
       "                                                       min_samples_leaf=6,\n",
       "                                                       min_samples_split=9))])</pre></div></div></div><div class=\"sk-serial\"><div class=\"sk-item\"><div class=\"sk-parallel\"><div class=\"sk-parallel-item\"><div class=\"sk-item\"><div class=\"sk-label-container\"><div class=\"sk-label sk-toggleable\"><label>GBoost</label></div></div><div class=\"sk-serial\"><div class=\"sk-item\"><div class=\"sk-estimator sk-toggleable\"><input class=\"sk-toggleable__control sk-hidden--visually\" id=\"sk-estimator-id-2\" type=\"checkbox\" ><label for=\"sk-estimator-id-2\" class=\"sk-toggleable__label sk-toggleable__label-arrow\">GradientBoostingClassifier</label><div class=\"sk-toggleable__content\"><pre>GradientBoostingClassifier(max_depth=12, min_samples_leaf=6,\n",
       "                           min_samples_split=9)</pre></div></div></div></div></div></div><div class=\"sk-parallel-item\"><div class=\"sk-item\"><div class=\"sk-label-container\"><div class=\"sk-label sk-toggleable\"><label>XGBoost</label></div></div><div class=\"sk-serial\"><div class=\"sk-item\"><div class=\"sk-estimator sk-toggleable\"><input class=\"sk-toggleable__control sk-hidden--visually\" id=\"sk-estimator-id-3\" type=\"checkbox\" ><label for=\"sk-estimator-id-3\" class=\"sk-toggleable__label sk-toggleable__label-arrow\">XGBClassifier</label><div class=\"sk-toggleable__content\"><pre>XGBClassifier(base_score=None, booster=None, callbacks=None,\n",
       "              colsample_bylevel=None, colsample_bynode=None,\n",
       "              colsample_bytree=None, early_stopping_rounds=None,\n",
       "              enable_categorical=False, eval_metric=None, feature_types=None,\n",
       "              gamma=None, gpu_id=None, grow_policy=None, importance_type=None,\n",
       "              interaction_constraints=None, learning_rate=None, max_bin=None,\n",
       "              max_cat_threshold=None, max_cat_to_onehot=None,\n",
       "              max_delta_step=None, max_depth=12, max_leaves=None,\n",
       "              min_child_weight=None, missing=nan, monotone_constraints=None,\n",
       "              n_estimators=100, n_jobs=None, num_parallel_tree=None,\n",
       "              predictor=None, random_state=None, ...)</pre></div></div></div></div></div></div><div class=\"sk-parallel-item\"><div class=\"sk-item\"><div class=\"sk-label-container\"><div class=\"sk-label sk-toggleable\"><label>LR</label></div></div><div class=\"sk-serial\"><div class=\"sk-item\"><div class=\"sk-estimator sk-toggleable\"><input class=\"sk-toggleable__control sk-hidden--visually\" id=\"sk-estimator-id-4\" type=\"checkbox\" ><label for=\"sk-estimator-id-4\" class=\"sk-toggleable__label sk-toggleable__label-arrow\">LogisticRegression</label><div class=\"sk-toggleable__content\"><pre>LogisticRegression(C=1)</pre></div></div></div></div></div></div><div class=\"sk-parallel-item\"><div class=\"sk-item\"><div class=\"sk-label-container\"><div class=\"sk-label sk-toggleable\"><label>RF</label></div></div><div class=\"sk-serial\"><div class=\"sk-item\"><div class=\"sk-estimator sk-toggleable\"><input class=\"sk-toggleable__control sk-hidden--visually\" id=\"sk-estimator-id-5\" type=\"checkbox\" ><label for=\"sk-estimator-id-5\" class=\"sk-toggleable__label sk-toggleable__label-arrow\">RandomForestClassifier</label><div class=\"sk-toggleable__content\"><pre>RandomForestClassifier(max_depth=12, min_samples_leaf=6, min_samples_split=9)</pre></div></div></div></div></div></div></div></div><div class=\"sk-item\"><div class=\"sk-parallel\"><div class=\"sk-parallel-item\"><div class=\"sk-item\"><div class=\"sk-label-container\"><div class=\"sk-label sk-toggleable\"><label>final_estimator</label></div></div><div class=\"sk-serial\"><div class=\"sk-item\"><div class=\"sk-estimator sk-toggleable\"><input class=\"sk-toggleable__control sk-hidden--visually\" id=\"sk-estimator-id-6\" type=\"checkbox\" ><label for=\"sk-estimator-id-6\" class=\"sk-toggleable__label sk-toggleable__label-arrow\">LogisticRegression</label><div class=\"sk-toggleable__content\"><pre>LogisticRegression()</pre></div></div></div></div></div></div></div></div></div></div></div></div>"
      ],
      "text/plain": [
       "StackingClassifier(estimators=[('GBoost',\n",
       "                                GradientBoostingClassifier(max_depth=12,\n",
       "                                                           min_samples_leaf=6,\n",
       "                                                           min_samples_split=9)),\n",
       "                               ('XGBoost',\n",
       "                                XGBClassifier(base_score=None, booster=None,\n",
       "                                              callbacks=None,\n",
       "                                              colsample_bylevel=None,\n",
       "                                              colsample_bynode=None,\n",
       "                                              colsample_bytree=None,\n",
       "                                              early_stopping_rounds=None,\n",
       "                                              enable_categorical=False,\n",
       "                                              eval_metric=None,\n",
       "                                              feature_types=None, gamm...\n",
       "                                              max_cat_threshold=None,\n",
       "                                              max_cat_to_onehot=None,\n",
       "                                              max_delta_step=None, max_depth=12,\n",
       "                                              max_leaves=None,\n",
       "                                              min_child_weight=None,\n",
       "                                              missing=nan,\n",
       "                                              monotone_constraints=None,\n",
       "                                              n_estimators=100, n_jobs=None,\n",
       "                                              num_parallel_tree=None,\n",
       "                                              predictor=None, random_state=None, ...)),\n",
       "                               ('LR', LogisticRegression(C=1)),\n",
       "                               ('RF',\n",
       "                                RandomForestClassifier(max_depth=12,\n",
       "                                                       min_samples_leaf=6,\n",
       "                                                       min_samples_split=9))])"
      ]
     },
     "execution_count": 78,
     "metadata": {},
     "output_type": "execute_result"
    }
   ],
   "source": [
    "stacking_model.fit(x_train, y_train)"
   ]
  },
  {
   "cell_type": "code",
   "execution_count": 79,
   "id": "e5832952",
   "metadata": {
    "execution": {
     "iopub.execute_input": "2023-06-27T22:03:14.833751Z",
     "iopub.status.busy": "2023-06-27T22:03:14.833385Z",
     "iopub.status.idle": "2023-06-27T22:03:15.000813Z",
     "shell.execute_reply": "2023-06-27T22:03:14.999548Z"
    },
    "id": "6UTDphrR0H12",
    "outputId": "e45f95d3-1b7a-4eff-f4d1-1c2702486918",
    "papermill": {
     "duration": 0.196454,
     "end_time": "2023-06-27T22:03:15.003175",
     "exception": false,
     "start_time": "2023-06-27T22:03:14.806721",
     "status": "completed"
    },
    "tags": []
   },
   "outputs": [
    {
     "name": "stdout",
     "output_type": "stream",
     "text": [
      "Voting Classifier accuracy on Training Data is: 83.28651685393258\n",
      "Voting Classifier accuracy on Testing Data is: 87.70949720670392\n"
     ]
    }
   ],
   "source": [
    "# x_train_pred4 = stacking_model.predict(x_train)\n",
    "# x_test_pred4 = stacking_model.predict(x_test)\n",
    "# print(\"Stacking Model accuracy on Training Data is:\",accuracy_score(y_train,x_train_pred4)*100)\n",
    "# print(\"Stacking Model accuracy on Testing Data is:\",accuracy_score(y_test,x_test_pred4)*100)\n",
    "x_train_pred4 = vote_m.predict(x_train)\n",
    "x_test_pred4 = vote_m.predict(x_test)\n",
    "print(\"Voting Classifier accuracy on Training Data is:\",accuracy_score(y_train,x_train_pred4)*100)\n",
    "print(\"Voting Classifier accuracy on Testing Data is:\",accuracy_score(y_test,x_test_pred4)*100)"
   ]
  },
  {
   "cell_type": "code",
   "execution_count": 80,
   "id": "79f6179a",
   "metadata": {
    "execution": {
     "iopub.execute_input": "2023-06-27T22:03:15.054157Z",
     "iopub.status.busy": "2023-06-27T22:03:15.053777Z",
     "iopub.status.idle": "2023-06-27T22:03:15.117939Z",
     "shell.execute_reply": "2023-06-27T22:03:15.116673Z"
    },
    "id": "DUrKmVZP0H12",
    "outputId": "4bd1320c-370c-4314-8667-9da9a27ec1a1",
    "papermill": {
     "duration": 0.092404,
     "end_time": "2023-06-27T22:03:15.120243",
     "exception": false,
     "start_time": "2023-06-27T22:03:15.027839",
     "status": "completed"
    },
    "tags": []
   },
   "outputs": [
    {
     "name": "stdout",
     "output_type": "stream",
     "text": [
      "Stacking Model accuracy on Training Data is: 82.16292134831461\n",
      "Stacking Model accuracy on Testing Data is: 88.8268156424581\n"
     ]
    }
   ],
   "source": [
    "x_train_pred5 = stacking_model.predict(x_train)\n",
    "x_test_pred5 = stacking_model.predict(x_test)\n",
    "print(\"Stacking Model accuracy on Training Data is:\",accuracy_score(y_train,x_train_pred5)*100)\n",
    "print(\"Stacking Model accuracy on Testing Data is:\",accuracy_score(y_test,x_test_pred5)*100)"
   ]
  },
  {
   "cell_type": "code",
   "execution_count": 81,
   "id": "ddf3c730",
   "metadata": {
    "execution": {
     "iopub.execute_input": "2023-06-27T22:03:15.172289Z",
     "iopub.status.busy": "2023-06-27T22:03:15.171899Z",
     "iopub.status.idle": "2023-06-27T22:03:15.211254Z",
     "shell.execute_reply": "2023-06-27T22:03:15.210202Z"
    },
    "id": "BTL5O_JV0H12",
    "outputId": "afe865d8-b069-4570-a019-e0d9d73f42e5",
    "papermill": {
     "duration": 0.067683,
     "end_time": "2023-06-27T22:03:15.213508",
     "exception": false,
     "start_time": "2023-06-27T22:03:15.145825",
     "status": "completed"
    },
    "tags": []
   },
   "outputs": [
    {
     "data": {
      "text/html": [
       "<div>\n",
       "<style scoped>\n",
       "    .dataframe tbody tr th:only-of-type {\n",
       "        vertical-align: middle;\n",
       "    }\n",
       "\n",
       "    .dataframe tbody tr th {\n",
       "        vertical-align: top;\n",
       "    }\n",
       "\n",
       "    .dataframe thead th {\n",
       "        text-align: right;\n",
       "    }\n",
       "</style>\n",
       "<table border=\"1\" class=\"dataframe\">\n",
       "  <thead>\n",
       "    <tr style=\"text-align: right;\">\n",
       "      <th></th>\n",
       "      <th>PassengerId</th>\n",
       "      <th>Survived</th>\n",
       "    </tr>\n",
       "  </thead>\n",
       "  <tbody>\n",
       "    <tr>\n",
       "      <th>0</th>\n",
       "      <td>892</td>\n",
       "      <td>0</td>\n",
       "    </tr>\n",
       "    <tr>\n",
       "      <th>1</th>\n",
       "      <td>893</td>\n",
       "      <td>1</td>\n",
       "    </tr>\n",
       "    <tr>\n",
       "      <th>2</th>\n",
       "      <td>894</td>\n",
       "      <td>0</td>\n",
       "    </tr>\n",
       "    <tr>\n",
       "      <th>3</th>\n",
       "      <td>895</td>\n",
       "      <td>0</td>\n",
       "    </tr>\n",
       "    <tr>\n",
       "      <th>4</th>\n",
       "      <td>896</td>\n",
       "      <td>1</td>\n",
       "    </tr>\n",
       "    <tr>\n",
       "      <th>...</th>\n",
       "      <td>...</td>\n",
       "      <td>...</td>\n",
       "    </tr>\n",
       "    <tr>\n",
       "      <th>413</th>\n",
       "      <td>1305</td>\n",
       "      <td>0</td>\n",
       "    </tr>\n",
       "    <tr>\n",
       "      <th>414</th>\n",
       "      <td>1306</td>\n",
       "      <td>1</td>\n",
       "    </tr>\n",
       "    <tr>\n",
       "      <th>415</th>\n",
       "      <td>1307</td>\n",
       "      <td>0</td>\n",
       "    </tr>\n",
       "    <tr>\n",
       "      <th>416</th>\n",
       "      <td>1308</td>\n",
       "      <td>0</td>\n",
       "    </tr>\n",
       "    <tr>\n",
       "      <th>417</th>\n",
       "      <td>1309</td>\n",
       "      <td>1</td>\n",
       "    </tr>\n",
       "  </tbody>\n",
       "</table>\n",
       "<p>418 rows × 2 columns</p>\n",
       "</div>"
      ],
      "text/plain": [
       "     PassengerId  Survived\n",
       "0            892         0\n",
       "1            893         1\n",
       "2            894         0\n",
       "3            895         0\n",
       "4            896         1\n",
       "..           ...       ...\n",
       "413         1305         0\n",
       "414         1306         1\n",
       "415         1307         0\n",
       "416         1308         0\n",
       "417         1309         1\n",
       "\n",
       "[418 rows x 2 columns]"
      ]
     },
     "execution_count": 81,
     "metadata": {},
     "output_type": "execute_result"
    }
   ],
   "source": [
    "pred = stacking_model.predict(test)\n",
    "gs['Survived'] = pred\n",
    "gs"
   ]
  },
  {
   "cell_type": "code",
   "execution_count": 82,
   "id": "1d6ac508",
   "metadata": {
    "execution": {
     "iopub.execute_input": "2023-06-27T22:03:15.265585Z",
     "iopub.status.busy": "2023-06-27T22:03:15.265229Z",
     "iopub.status.idle": "2023-06-27T22:03:15.274978Z",
     "shell.execute_reply": "2023-06-27T22:03:15.274120Z"
    },
    "id": "q0sboYni0H12",
    "papermill": {
     "duration": 0.038422,
     "end_time": "2023-06-27T22:03:15.277179",
     "exception": false,
     "start_time": "2023-06-27T22:03:15.238757",
     "status": "completed"
    },
    "tags": []
   },
   "outputs": [],
   "source": [
    "gs.to_csv('submission.csv',index=False)"
   ]
  },
  {
   "cell_type": "code",
   "execution_count": null,
   "id": "a9872058",
   "metadata": {
    "id": "KCqtdlWE0H12",
    "papermill": {
     "duration": 0.024615,
     "end_time": "2023-06-27T22:03:15.327222",
     "exception": false,
     "start_time": "2023-06-27T22:03:15.302607",
     "status": "completed"
    },
    "tags": []
   },
   "outputs": [],
   "source": []
  }
 ],
 "metadata": {
  "kernelspec": {
   "display_name": "Python 3",
   "language": "python",
   "name": "python3"
  },
  "language_info": {
   "codemirror_mode": {
    "name": "ipython",
    "version": 3
   },
   "file_extension": ".py",
   "mimetype": "text/x-python",
   "name": "python",
   "nbconvert_exporter": "python",
   "pygments_lexer": "ipython3",
   "version": "3.10.10"
  },
  "papermill": {
   "default_parameters": {},
   "duration": 44.876919,
   "end_time": "2023-06-27T22:03:16.477055",
   "environment_variables": {},
   "exception": null,
   "input_path": "__notebook__.ipynb",
   "output_path": "__notebook__.ipynb",
   "parameters": {},
   "start_time": "2023-06-27T22:02:31.600136",
   "version": "2.4.0"
  }
 },
 "nbformat": 4,
 "nbformat_minor": 5
}
