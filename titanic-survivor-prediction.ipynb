{
 "cells": [
  {
   "cell_type": "code",
   "execution_count": 1,
   "id": "3aa4feda",
   "metadata": {
    "execution": {
     "iopub.execute_input": "2023-06-27T21:57:12.722280Z",
     "iopub.status.busy": "2023-06-27T21:57:12.721240Z",
     "iopub.status.idle": "2023-06-27T21:57:12.734725Z",
     "shell.execute_reply": "2023-06-27T21:57:12.733594Z"
    },
    "id": "03bzgt0_2GZh",
    "papermill": {
     "duration": 0.033266,
     "end_time": "2023-06-27T21:57:12.736734",
     "exception": false,
     "start_time": "2023-06-27T21:57:12.703468",
     "status": "completed"
    },
    "tags": []
   },
   "outputs": [
    {
     "name": "stdout",
     "output_type": "stream",
     "text": [
      "/kaggle/input/titanic/train.csv\n",
      "/kaggle/input/titanic/test.csv\n",
      "/kaggle/input/titanic/gender_submission.csv\n"
     ]
    }
   ],
   "source": [
    "# This Python 3 environment comes with many helpful analytics libraries installed\n",
    "# It is defined by the kaggle/python Docker image: https://github.com/kaggle/docker-python\n",
    "# For example, here's several helpful packages to load\n",
    "\n",
    "import numpy as np # linear algebra\n",
    "import pandas as pd # data processing, CSV file I/O (e.g. pd.read_csv)\n",
    "\n",
    "# Input data files are available in the read-only \"../input/\" directory\n",
    "# For example, running this (by clicking run or pressing Shift+Enter) will list all files under the input directory\n",
    "\n",
    "import os\n",
    "for dirname, _, filenames in os.walk('/kaggle/input'):\n",
    "    for filename in filenames:\n",
    "        print(os.path.join(dirname, filename))\n",
    "\n",
    "# You can write up to 20GB to the current directory (/kaggle/working/) that gets preserved as output when you create a version using \"Save & Run All\"\n",
    "# You can also write temporary files to /kaggle/temp/, but they won't be saved outside of the current session"
   ]
  },
  {
   "cell_type": "code",
   "execution_count": 2,
   "id": "baf40afb",
   "metadata": {
    "execution": {
     "iopub.execute_input": "2023-06-27T21:57:12.770806Z",
     "iopub.status.busy": "2023-06-27T21:57:12.770479Z",
     "iopub.status.idle": "2023-06-27T21:57:14.203437Z",
     "shell.execute_reply": "2023-06-27T21:57:14.202417Z"
    },
    "id": "GMzlPhvF0H1n",
    "papermill": {
     "duration": 1.452521,
     "end_time": "2023-06-27T21:57:14.205775",
     "exception": false,
     "start_time": "2023-06-27T21:57:12.753254",
     "status": "completed"
    },
    "tags": []
   },
   "outputs": [],
   "source": [
    "import pandas as pd\n",
    "import numpy as np\n",
    "import matplotlib.pyplot as plt\n",
    "import seaborn as sns\n",
    "\n",
    "%matplotlib inline"
   ]
  },
  {
   "cell_type": "code",
   "execution_count": 3,
   "id": "cdb71611",
   "metadata": {
    "execution": {
     "iopub.execute_input": "2023-06-27T21:57:14.241556Z",
     "iopub.status.busy": "2023-06-27T21:57:14.241171Z",
     "iopub.status.idle": "2023-06-27T21:57:14.309792Z",
     "shell.execute_reply": "2023-06-27T21:57:14.308368Z"
    },
    "id": "MiBY_J-40H1p",
    "outputId": "d69297bf-f87b-492b-8803-db18c013f51d",
    "papermill": {
     "duration": 0.090256,
     "end_time": "2023-06-27T21:57:14.312403",
     "exception": false,
     "start_time": "2023-06-27T21:57:14.222147",
     "status": "completed"
    },
    "tags": []
   },
   "outputs": [
    {
     "data": {
      "text/html": [
       "<div>\n",
       "<style scoped>\n",
       "    .dataframe tbody tr th:only-of-type {\n",
       "        vertical-align: middle;\n",
       "    }\n",
       "\n",
       "    .dataframe tbody tr th {\n",
       "        vertical-align: top;\n",
       "    }\n",
       "\n",
       "    .dataframe thead th {\n",
       "        text-align: right;\n",
       "    }\n",
       "</style>\n",
       "<table border=\"1\" class=\"dataframe\">\n",
       "  <thead>\n",
       "    <tr style=\"text-align: right;\">\n",
       "      <th></th>\n",
       "      <th>PassengerId</th>\n",
       "      <th>Survived</th>\n",
       "      <th>Pclass</th>\n",
       "      <th>Name</th>\n",
       "      <th>Sex</th>\n",
       "      <th>Age</th>\n",
       "      <th>SibSp</th>\n",
       "      <th>Parch</th>\n",
       "      <th>Ticket</th>\n",
       "      <th>Fare</th>\n",
       "      <th>Cabin</th>\n",
       "      <th>Embarked</th>\n",
       "    </tr>\n",
       "  </thead>\n",
       "  <tbody>\n",
       "    <tr>\n",
       "      <th>0</th>\n",
       "      <td>1</td>\n",
       "      <td>0</td>\n",
       "      <td>3</td>\n",
       "      <td>Braund, Mr. Owen Harris</td>\n",
       "      <td>male</td>\n",
       "      <td>22.0</td>\n",
       "      <td>1</td>\n",
       "      <td>0</td>\n",
       "      <td>A/5 21171</td>\n",
       "      <td>7.2500</td>\n",
       "      <td>NaN</td>\n",
       "      <td>S</td>\n",
       "    </tr>\n",
       "    <tr>\n",
       "      <th>1</th>\n",
       "      <td>2</td>\n",
       "      <td>1</td>\n",
       "      <td>1</td>\n",
       "      <td>Cumings, Mrs. John Bradley (Florence Briggs Th...</td>\n",
       "      <td>female</td>\n",
       "      <td>38.0</td>\n",
       "      <td>1</td>\n",
       "      <td>0</td>\n",
       "      <td>PC 17599</td>\n",
       "      <td>71.2833</td>\n",
       "      <td>C85</td>\n",
       "      <td>C</td>\n",
       "    </tr>\n",
       "    <tr>\n",
       "      <th>2</th>\n",
       "      <td>3</td>\n",
       "      <td>1</td>\n",
       "      <td>3</td>\n",
       "      <td>Heikkinen, Miss. Laina</td>\n",
       "      <td>female</td>\n",
       "      <td>26.0</td>\n",
       "      <td>0</td>\n",
       "      <td>0</td>\n",
       "      <td>STON/O2. 3101282</td>\n",
       "      <td>7.9250</td>\n",
       "      <td>NaN</td>\n",
       "      <td>S</td>\n",
       "    </tr>\n",
       "    <tr>\n",
       "      <th>3</th>\n",
       "      <td>4</td>\n",
       "      <td>1</td>\n",
       "      <td>1</td>\n",
       "      <td>Futrelle, Mrs. Jacques Heath (Lily May Peel)</td>\n",
       "      <td>female</td>\n",
       "      <td>35.0</td>\n",
       "      <td>1</td>\n",
       "      <td>0</td>\n",
       "      <td>113803</td>\n",
       "      <td>53.1000</td>\n",
       "      <td>C123</td>\n",
       "      <td>S</td>\n",
       "    </tr>\n",
       "    <tr>\n",
       "      <th>4</th>\n",
       "      <td>5</td>\n",
       "      <td>0</td>\n",
       "      <td>3</td>\n",
       "      <td>Allen, Mr. William Henry</td>\n",
       "      <td>male</td>\n",
       "      <td>35.0</td>\n",
       "      <td>0</td>\n",
       "      <td>0</td>\n",
       "      <td>373450</td>\n",
       "      <td>8.0500</td>\n",
       "      <td>NaN</td>\n",
       "      <td>S</td>\n",
       "    </tr>\n",
       "  </tbody>\n",
       "</table>\n",
       "</div>"
      ],
      "text/plain": [
       "   PassengerId  Survived  Pclass  \\\n",
       "0            1         0       3   \n",
       "1            2         1       1   \n",
       "2            3         1       3   \n",
       "3            4         1       1   \n",
       "4            5         0       3   \n",
       "\n",
       "                                                Name     Sex   Age  SibSp  \\\n",
       "0                            Braund, Mr. Owen Harris    male  22.0      1   \n",
       "1  Cumings, Mrs. John Bradley (Florence Briggs Th...  female  38.0      1   \n",
       "2                             Heikkinen, Miss. Laina  female  26.0      0   \n",
       "3       Futrelle, Mrs. Jacques Heath (Lily May Peel)  female  35.0      1   \n",
       "4                           Allen, Mr. William Henry    male  35.0      0   \n",
       "\n",
       "   Parch            Ticket     Fare Cabin Embarked  \n",
       "0      0         A/5 21171   7.2500   NaN        S  \n",
       "1      0          PC 17599  71.2833   C85        C  \n",
       "2      0  STON/O2. 3101282   7.9250   NaN        S  \n",
       "3      0            113803  53.1000  C123        S  \n",
       "4      0            373450   8.0500   NaN        S  "
      ]
     },
     "execution_count": 3,
     "metadata": {},
     "output_type": "execute_result"
    }
   ],
   "source": [
    "train = pd.read_csv('/kaggle/input/titanic/train.csv')\n",
    "test = pd.read_csv('/kaggle/input/titanic/test.csv')\n",
    "gs = pd.read_csv('/kaggle/input/titanic/gender_submission.csv')\n",
    "train.head()"
   ]
  },
  {
   "cell_type": "code",
   "execution_count": 4,
   "id": "9ce526ec",
   "metadata": {
    "execution": {
     "iopub.execute_input": "2023-06-27T21:57:14.346560Z",
     "iopub.status.busy": "2023-06-27T21:57:14.346153Z",
     "iopub.status.idle": "2023-06-27T21:57:14.358627Z",
     "shell.execute_reply": "2023-06-27T21:57:14.357761Z"
    },
    "id": "au6O07m40H1p",
    "outputId": "99f67492-45e2-40d2-e729-f27cc86b6fa8",
    "papermill": {
     "duration": 0.03139,
     "end_time": "2023-06-27T21:57:14.360251",
     "exception": false,
     "start_time": "2023-06-27T21:57:14.328861",
     "status": "completed"
    },
    "tags": []
   },
   "outputs": [
    {
     "data": {
      "text/html": [
       "<div>\n",
       "<style scoped>\n",
       "    .dataframe tbody tr th:only-of-type {\n",
       "        vertical-align: middle;\n",
       "    }\n",
       "\n",
       "    .dataframe tbody tr th {\n",
       "        vertical-align: top;\n",
       "    }\n",
       "\n",
       "    .dataframe thead th {\n",
       "        text-align: right;\n",
       "    }\n",
       "</style>\n",
       "<table border=\"1\" class=\"dataframe\">\n",
       "  <thead>\n",
       "    <tr style=\"text-align: right;\">\n",
       "      <th></th>\n",
       "      <th>PassengerId</th>\n",
       "      <th>Pclass</th>\n",
       "      <th>Name</th>\n",
       "      <th>Sex</th>\n",
       "      <th>Age</th>\n",
       "      <th>SibSp</th>\n",
       "      <th>Parch</th>\n",
       "      <th>Ticket</th>\n",
       "      <th>Fare</th>\n",
       "      <th>Cabin</th>\n",
       "      <th>Embarked</th>\n",
       "    </tr>\n",
       "  </thead>\n",
       "  <tbody>\n",
       "    <tr>\n",
       "      <th>0</th>\n",
       "      <td>892</td>\n",
       "      <td>3</td>\n",
       "      <td>Kelly, Mr. James</td>\n",
       "      <td>male</td>\n",
       "      <td>34.5</td>\n",
       "      <td>0</td>\n",
       "      <td>0</td>\n",
       "      <td>330911</td>\n",
       "      <td>7.8292</td>\n",
       "      <td>NaN</td>\n",
       "      <td>Q</td>\n",
       "    </tr>\n",
       "    <tr>\n",
       "      <th>1</th>\n",
       "      <td>893</td>\n",
       "      <td>3</td>\n",
       "      <td>Wilkes, Mrs. James (Ellen Needs)</td>\n",
       "      <td>female</td>\n",
       "      <td>47.0</td>\n",
       "      <td>1</td>\n",
       "      <td>0</td>\n",
       "      <td>363272</td>\n",
       "      <td>7.0000</td>\n",
       "      <td>NaN</td>\n",
       "      <td>S</td>\n",
       "    </tr>\n",
       "    <tr>\n",
       "      <th>2</th>\n",
       "      <td>894</td>\n",
       "      <td>2</td>\n",
       "      <td>Myles, Mr. Thomas Francis</td>\n",
       "      <td>male</td>\n",
       "      <td>62.0</td>\n",
       "      <td>0</td>\n",
       "      <td>0</td>\n",
       "      <td>240276</td>\n",
       "      <td>9.6875</td>\n",
       "      <td>NaN</td>\n",
       "      <td>Q</td>\n",
       "    </tr>\n",
       "    <tr>\n",
       "      <th>3</th>\n",
       "      <td>895</td>\n",
       "      <td>3</td>\n",
       "      <td>Wirz, Mr. Albert</td>\n",
       "      <td>male</td>\n",
       "      <td>27.0</td>\n",
       "      <td>0</td>\n",
       "      <td>0</td>\n",
       "      <td>315154</td>\n",
       "      <td>8.6625</td>\n",
       "      <td>NaN</td>\n",
       "      <td>S</td>\n",
       "    </tr>\n",
       "    <tr>\n",
       "      <th>4</th>\n",
       "      <td>896</td>\n",
       "      <td>3</td>\n",
       "      <td>Hirvonen, Mrs. Alexander (Helga E Lindqvist)</td>\n",
       "      <td>female</td>\n",
       "      <td>22.0</td>\n",
       "      <td>1</td>\n",
       "      <td>1</td>\n",
       "      <td>3101298</td>\n",
       "      <td>12.2875</td>\n",
       "      <td>NaN</td>\n",
       "      <td>S</td>\n",
       "    </tr>\n",
       "  </tbody>\n",
       "</table>\n",
       "</div>"
      ],
      "text/plain": [
       "   PassengerId  Pclass                                          Name     Sex  \\\n",
       "0          892       3                              Kelly, Mr. James    male   \n",
       "1          893       3              Wilkes, Mrs. James (Ellen Needs)  female   \n",
       "2          894       2                     Myles, Mr. Thomas Francis    male   \n",
       "3          895       3                              Wirz, Mr. Albert    male   \n",
       "4          896       3  Hirvonen, Mrs. Alexander (Helga E Lindqvist)  female   \n",
       "\n",
       "    Age  SibSp  Parch   Ticket     Fare Cabin Embarked  \n",
       "0  34.5      0      0   330911   7.8292   NaN        Q  \n",
       "1  47.0      1      0   363272   7.0000   NaN        S  \n",
       "2  62.0      0      0   240276   9.6875   NaN        Q  \n",
       "3  27.0      0      0   315154   8.6625   NaN        S  \n",
       "4  22.0      1      1  3101298  12.2875   NaN        S  "
      ]
     },
     "execution_count": 4,
     "metadata": {},
     "output_type": "execute_result"
    }
   ],
   "source": [
    "test.head()"
   ]
  },
  {
   "cell_type": "code",
   "execution_count": 5,
   "id": "3fdf8aca",
   "metadata": {
    "execution": {
     "iopub.execute_input": "2023-06-27T21:57:14.396401Z",
     "iopub.status.busy": "2023-06-27T21:57:14.395554Z",
     "iopub.status.idle": "2023-06-27T21:57:14.423516Z",
     "shell.execute_reply": "2023-06-27T21:57:14.422654Z"
    },
    "id": "r3w36-yq0H1p",
    "outputId": "64896bdb-0b6b-4752-9c28-57a792a3fb5c",
    "papermill": {
     "duration": 0.048773,
     "end_time": "2023-06-27T21:57:14.425490",
     "exception": false,
     "start_time": "2023-06-27T21:57:14.376717",
     "status": "completed"
    },
    "tags": []
   },
   "outputs": [
    {
     "name": "stdout",
     "output_type": "stream",
     "text": [
      "<class 'pandas.core.frame.DataFrame'>\n",
      "RangeIndex: 891 entries, 0 to 890\n",
      "Data columns (total 12 columns):\n",
      " #   Column       Non-Null Count  Dtype  \n",
      "---  ------       --------------  -----  \n",
      " 0   PassengerId  891 non-null    int64  \n",
      " 1   Survived     891 non-null    int64  \n",
      " 2   Pclass       891 non-null    int64  \n",
      " 3   Name         891 non-null    object \n",
      " 4   Sex          891 non-null    object \n",
      " 5   Age          714 non-null    float64\n",
      " 6   SibSp        891 non-null    int64  \n",
      " 7   Parch        891 non-null    int64  \n",
      " 8   Ticket       891 non-null    object \n",
      " 9   Fare         891 non-null    float64\n",
      " 10  Cabin        204 non-null    object \n",
      " 11  Embarked     889 non-null    object \n",
      "dtypes: float64(2), int64(5), object(5)\n",
      "memory usage: 83.7+ KB\n"
     ]
    }
   ],
   "source": [
    "train.info()"
   ]
  },
  {
   "cell_type": "markdown",
   "id": "f34af136",
   "metadata": {
    "id": "-DOrqyLz0H1p",
    "papermill": {
     "duration": 0.01777,
     "end_time": "2023-06-27T21:57:14.460244",
     "exception": false,
     "start_time": "2023-06-27T21:57:14.442474",
     "status": "completed"
    },
    "tags": []
   },
   "source": [
    "# **Feature Engineering**"
   ]
  },
  {
   "cell_type": "code",
   "execution_count": 6,
   "id": "12492bbe",
   "metadata": {
    "execution": {
     "iopub.execute_input": "2023-06-27T21:57:14.495154Z",
     "iopub.status.busy": "2023-06-27T21:57:14.494800Z",
     "iopub.status.idle": "2023-06-27T21:57:14.702619Z",
     "shell.execute_reply": "2023-06-27T21:57:14.701922Z"
    },
    "id": "R_pHjKhg0H1q",
    "outputId": "0cf2bb47-29e4-4aff-cc8e-b298bb95ce4d",
    "papermill": {
     "duration": 0.227382,
     "end_time": "2023-06-27T21:57:14.704375",
     "exception": false,
     "start_time": "2023-06-27T21:57:14.476993",
     "status": "completed"
    },
    "tags": []
   },
   "outputs": [
    {
     "data": {
      "text/plain": [
       "<Axes: >"
      ]
     },
     "execution_count": 6,
     "metadata": {},
     "output_type": "execute_result"
    },
    {
     "data": {
      "image/png": "[encoded data removed]",
      "text/plain": [
       "<Figure size 640x480 with 1 Axes>"
      ]
     },
     "metadata": {},
     "output_type": "display_data"
    }
   ],
   "source": [
    "sns.heatmap(train.isnull(),yticklabels=False, cbar=False, cmap='viridis')"
   ]
  },
  {
   "cell_type": "code",
   "execution_count": 7,
   "id": "0b79fe92",
   "metadata": {
    "execution": {
     "iopub.execute_input": "2023-06-27T21:57:14.740564Z",
     "iopub.status.busy": "2023-06-27T21:57:14.739641Z",
     "iopub.status.idle": "2023-06-27T21:57:14.948018Z",
     "shell.execute_reply": "2023-06-27T21:57:14.947097Z"
    },
    "id": "hNpYHBJF0H1q",
    "outputId": "1de739c5-23f9-4b8e-b209-ce609f275922",
    "papermill": {
     "duration": 0.227782,
     "end_time": "2023-06-27T21:57:14.949700",
     "exception": false,
     "start_time": "2023-06-27T21:57:14.721918",
     "status": "completed"
    },
    "tags": []
   },
   "outputs": [
    {
     "data": {
      "text/plain": [
       "<Axes: xlabel='Survived', ylabel='count'>"
      ]
     },
     "execution_count": 7,
     "metadata": {},
     "output_type": "execute_result"
    },
    {
     "data": {
      "image/png": "[encoded data removed]",
      "text/plain": [
       "<Figure size 640x480 with 1 Axes>"
      ]
     },
     "metadata": {},
     "output_type": "display_data"
    }
   ],
   "source": [
    "sns.set_style('whitegrid')\n",
    "sns.countplot(x='Survived',hue='Sex', data=train)"
   ]
  },
  {
   "cell_type": "code",
   "execution_count": 8,
   "id": "418cc184",
   "metadata": {
    "execution": {
     "iopub.execute_input": "2023-06-27T21:57:14.986534Z",
     "iopub.status.busy": "2023-06-27T21:57:14.985240Z",
     "iopub.status.idle": "2023-06-27T21:57:15.219021Z",
     "shell.execute_reply": "2023-06-27T21:57:15.217953Z"
    },
    "id": "r5Lz_oMl0H1q",
    "outputId": "c44194a1-3258-4fc9-c566-a9fad0a4bf75",
    "papermill": {
     "duration": 0.254276,
     "end_time": "2023-06-27T21:57:15.221243",
     "exception": false,
     "start_time": "2023-06-27T21:57:14.966967",
     "status": "completed"
    },
    "tags": []
   },
   "outputs": [
    {
     "data": {
      "text/plain": [
       "<Axes: xlabel='Survived', ylabel='count'>"
      ]
     },
     "execution_count": 8,
     "metadata": {},
     "output_type": "execute_result"
    },
    {
     "data": {
      "image/png": "[encoded data removed]",
      "text/plain": [
       "<Figure size 640x480 with 1 Axes>"
      ]
     },
     "metadata": {},
     "output_type": "display_data"
    }
   ],
   "source": [
    "sns.set_style('whitegrid')\n",
    "sns.countplot(x='Survived',hue='Pclass', data=train)"
   ]
  },
  {
   "cell_type": "code",
   "execution_count": 9,
   "id": "64756920",
   "metadata": {
    "execution": {
     "iopub.execute_input": "2023-06-27T21:57:15.258373Z",
     "iopub.status.busy": "2023-06-27T21:57:15.258039Z",
     "iopub.status.idle": "2023-06-27T21:57:15.276371Z",
     "shell.execute_reply": "2023-06-27T21:57:15.275530Z"
    },
    "id": "Efs1d1YY0H1r",
    "outputId": "0f06a50d-29fb-430f-b8b8-fdc8d77cf864",
    "papermill": {
     "duration": 0.039002,
     "end_time": "2023-06-27T21:57:15.278104",
     "exception": false,
     "start_time": "2023-06-27T21:57:15.239102",
     "status": "completed"
    },
    "tags": []
   },
   "outputs": [
    {
     "data": {
      "text/html": [
       "<div>\n",
       "<style scoped>\n",
       "    .dataframe tbody tr th:only-of-type {\n",
       "        vertical-align: middle;\n",
       "    }\n",
       "\n",
       "    .dataframe tbody tr th {\n",
       "        vertical-align: top;\n",
       "    }\n",
       "\n",
       "    .dataframe thead th {\n",
       "        text-align: right;\n",
       "    }\n",
       "</style>\n",
       "<table border=\"1\" class=\"dataframe\">\n",
       "  <thead>\n",
       "    <tr style=\"text-align: right;\">\n",
       "      <th></th>\n",
       "      <th>Name</th>\n",
       "      <th>Sex</th>\n",
       "      <th>Ticket</th>\n",
       "      <th>Cabin</th>\n",
       "      <th>Embarked</th>\n",
       "    </tr>\n",
       "  </thead>\n",
       "  <tbody>\n",
       "    <tr>\n",
       "      <th>count</th>\n",
       "      <td>891</td>\n",
       "      <td>891</td>\n",
       "      <td>891</td>\n",
       "      <td>204</td>\n",
       "      <td>889</td>\n",
       "    </tr>\n",
       "    <tr>\n",
       "      <th>unique</th>\n",
       "      <td>891</td>\n",
       "      <td>2</td>\n",
       "      <td>681</td>\n",
       "      <td>147</td>\n",
       "      <td>3</td>\n",
       "    </tr>\n",
       "    <tr>\n",
       "      <th>top</th>\n",
       "      <td>Braund, Mr. Owen Harris</td>\n",
       "      <td>male</td>\n",
       "      <td>347082</td>\n",
       "      <td>B96 B98</td>\n",
       "      <td>S</td>\n",
       "    </tr>\n",
       "    <tr>\n",
       "      <th>freq</th>\n",
       "      <td>1</td>\n",
       "      <td>577</td>\n",
       "      <td>7</td>\n",
       "      <td>4</td>\n",
       "      <td>644</td>\n",
       "    </tr>\n",
       "  </tbody>\n",
       "</table>\n",
       "</div>"
      ],
      "text/plain": [
       "                           Name   Sex  Ticket    Cabin Embarked\n",
       "count                       891   891     891      204      889\n",
       "unique                      891     2     681      147        3\n",
       "top     Braund, Mr. Owen Harris  male  347082  B96 B98        S\n",
       "freq                          1   577       7        4      644"
      ]
     },
     "execution_count": 9,
     "metadata": {},
     "output_type": "execute_result"
    }
   ],
   "source": [
    "train.describe(include=object)"
   ]
  },
  {
   "cell_type": "code",
   "execution_count": 10,
   "id": "1cb73d85",
   "metadata": {
    "execution": {
     "iopub.execute_input": "2023-06-27T21:57:15.315704Z",
     "iopub.status.busy": "2023-06-27T21:57:15.314912Z",
     "iopub.status.idle": "2023-06-27T21:57:15.331934Z",
     "shell.execute_reply": "2023-06-27T21:57:15.330828Z"
    },
    "id": "3-cVCW8_0H1r",
    "outputId": "3828ec92-55da-4c41-c99a-f5f9ec88c1eb",
    "papermill": {
     "duration": 0.037807,
     "end_time": "2023-06-27T21:57:15.333716",
     "exception": false,
     "start_time": "2023-06-27T21:57:15.295909",
     "status": "completed"
    },
    "tags": []
   },
   "outputs": [
    {
     "name": "stderr",
     "output_type": "stream",
     "text": [
      "/tmp/ipykernel_20/4265813472.py:1: FutureWarning: The default value of numeric_only in DataFrameGroupBy.mean is deprecated. In a future version, numeric_only will default to False. Either specify numeric_only or select only columns which should be valid for the function.\n",
      "  tm = train.groupby(\"Survived\").mean()\n"
     ]
    },
    {
     "data": {
      "text/html": [
       "<div>\n",
       "<style scoped>\n",
       "    .dataframe tbody tr th:only-of-type {\n",
       "        vertical-align: middle;\n",
       "    }\n",
       "\n",
       "    .dataframe tbody tr th {\n",
       "        vertical-align: top;\n",
       "    }\n",
       "\n",
       "    .dataframe thead th {\n",
       "        text-align: right;\n",
       "    }\n",
       "</style>\n",
       "<table border=\"1\" class=\"dataframe\">\n",
       "  <thead>\n",
       "    <tr style=\"text-align: right;\">\n",
       "      <th></th>\n",
       "      <th>PassengerId</th>\n",
       "      <th>Pclass</th>\n",
       "      <th>Age</th>\n",
       "      <th>SibSp</th>\n",
       "      <th>Parch</th>\n",
       "      <th>Fare</th>\n",
       "    </tr>\n",
       "    <tr>\n",
       "      <th>Survived</th>\n",
       "      <th></th>\n",
       "      <th></th>\n",
       "      <th></th>\n",
       "      <th></th>\n",
       "      <th></th>\n",
       "      <th></th>\n",
       "    </tr>\n",
       "  </thead>\n",
       "  <tbody>\n",
       "    <tr>\n",
       "      <th>0</th>\n",
       "      <td>447.016393</td>\n",
       "      <td>2.531876</td>\n",
       "      <td>30.626179</td>\n",
       "      <td>0.553734</td>\n",
       "      <td>0.329690</td>\n",
       "      <td>22.117887</td>\n",
       "    </tr>\n",
       "    <tr>\n",
       "      <th>1</th>\n",
       "      <td>444.368421</td>\n",
       "      <td>1.950292</td>\n",
       "      <td>28.343690</td>\n",
       "      <td>0.473684</td>\n",
       "      <td>0.464912</td>\n",
       "      <td>48.395408</td>\n",
       "    </tr>\n",
       "  </tbody>\n",
       "</table>\n",
       "</div>"
      ],
      "text/plain": [
       "          PassengerId    Pclass        Age     SibSp     Parch       Fare\n",
       "Survived                                                                 \n",
       "0          447.016393  2.531876  30.626179  0.553734  0.329690  22.117887\n",
       "1          444.368421  1.950292  28.343690  0.473684  0.464912  48.395408"
      ]
     },
     "execution_count": 10,
     "metadata": {},
     "output_type": "execute_result"
    }
   ],
   "source": [
    "tm = train.groupby(\"Survived\").mean()\n",
    "tm"
   ]
  },
  {
   "cell_type": "code",
   "execution_count": 11,
   "id": "01ce6fe8",
   "metadata": {
    "execution": {
     "iopub.execute_input": "2023-06-27T21:57:15.371191Z",
     "iopub.status.busy": "2023-06-27T21:57:15.370835Z",
     "iopub.status.idle": "2023-06-27T21:57:15.378985Z",
     "shell.execute_reply": "2023-06-27T21:57:15.378280Z"
    },
    "id": "2GzPsW720H1r",
    "outputId": "1de63ec3-3fe9-4316-c47e-8a2dd3f4f432",
    "papermill": {
     "duration": 0.028635,
     "end_time": "2023-06-27T21:57:15.380520",
     "exception": false,
     "start_time": "2023-06-27T21:57:15.351885",
     "status": "completed"
    },
    "tags": []
   },
   "outputs": [
    {
     "data": {
      "text/plain": [
       "PassengerId    0.002971\n",
       "Pclass         0.129755\n",
       "Age            0.038706\n",
       "SibSp          0.077914\n",
       "Parch          0.170176\n",
       "Fare           0.372661\n",
       "dtype: float64"
      ]
     },
     "execution_count": 11,
     "metadata": {},
     "output_type": "execute_result"
    }
   ],
   "source": [
    "v1 = tm.iloc[0,:]\n",
    "v2 = tm.iloc[1,:]\n",
    "abs((v2-v1)/(v1+v2))"
   ]
  },
  {
   "cell_type": "code",
   "execution_count": 12,
   "id": "268d39b9",
   "metadata": {
    "execution": {
     "iopub.execute_input": "2023-06-27T21:57:15.418361Z",
     "iopub.status.busy": "2023-06-27T21:57:15.417410Z",
     "iopub.status.idle": "2023-06-27T21:57:15.431653Z",
     "shell.execute_reply": "2023-06-27T21:57:15.430645Z"
    },
    "id": "7yCE6K0T0H1r",
    "papermill": {
     "duration": 0.035293,
     "end_time": "2023-06-27T21:57:15.433918",
     "exception": false,
     "start_time": "2023-06-27T21:57:15.398625",
     "status": "completed"
    },
    "tags": []
   },
   "outputs": [],
   "source": [
    "# print(train[\"Name\"].head())\n",
    "\n",
    "# def get_title(name):\n",
    "#     if '.' in name:\n",
    "#         return name.split(',')[1].split('.')[0].strip()\n",
    "#     else:\n",
    "#         return 'Unknown'\n",
    "\n",
    "# def title_map(title):\n",
    "#     if title in ['Mr']:\n",
    "#         return 1\n",
    "#     elif title in ['Master']:\n",
    "#         return 3\n",
    "#     elif title in ['Ms', 'Mlle', 'Miss']:\n",
    "#         return 4\n",
    "#     elif title in ['Mme', 'Mrs']:\n",
    "#         return 5\n",
    "#     else:\n",
    "#         return 2\n",
    "\n",
    "# train['title'] = train['Name'].apply(get_title).apply(title_map)\n",
    "# test['title'] = test['Name'].apply(get_title).apply(title_map)\n",
    "\n",
    "train['title']  =train.Name.str.split(', ').str[1].str.split('. ').str[0]\n",
    "train['title'].value_counts()\n",
    "\n",
    "train.loc[train.title.eq('Mrs'), 'title'] = 'Mrs'\n",
    "train.loc[train.title.eq('Mr'), 'title'] = 'Mr'\n",
    "\n",
    "train.loc[train.title.isin(['Miss','Ms']),'title'] = 'Miss'\n",
    "train.loc[train.title.eq('Master'),'title'] = 'Master'\n",
    "\n",
    "train.loc[~train.title.isin(['Mrs','Mr','Miss','Master']),'title'] = 'Celeb'"
   ]
  },
  {
   "cell_type": "code",
   "execution_count": 13,
   "id": "158b7aea",
   "metadata": {
    "execution": {
     "iopub.execute_input": "2023-06-27T21:57:15.472977Z",
     "iopub.status.busy": "2023-06-27T21:57:15.471809Z",
     "iopub.status.idle": "2023-06-27T21:57:15.484752Z",
     "shell.execute_reply": "2023-06-27T21:57:15.483682Z"
    },
    "id": "Q9_-Yfub0H1s",
    "papermill": {
     "duration": 0.033984,
     "end_time": "2023-06-27T21:57:15.486596",
     "exception": false,
     "start_time": "2023-06-27T21:57:15.452612",
     "status": "completed"
    },
    "tags": []
   },
   "outputs": [],
   "source": [
    "test['title']  =test.Name.str.split(', ').str[1].str.split('. ').str[0]\n",
    "test['title'].value_counts()\n",
    "\n",
    "test.loc[test.title.eq('Mrs'), 'title'] = 'Mrs'\n",
    "test.loc[test.title.eq('Mr'), 'title'] = 'Mr'\n",
    "\n",
    "test.loc[test.title.isin(['Miss','Ms']),'title'] = 'Miss'\n",
    "test.loc[test.title.eq('Master'),'title'] = 'Master'\n",
    "\n",
    "test.loc[~test.title.isin(['Mrs','Mr','Miss','Master']),'title'] = 'Celeb'"
   ]
  },
  {
   "cell_type": "code",
   "execution_count": 14,
   "id": "f90d3106",
   "metadata": {
    "execution": {
     "iopub.execute_input": "2023-06-27T21:57:15.524634Z",
     "iopub.status.busy": "2023-06-27T21:57:15.524302Z",
     "iopub.status.idle": "2023-06-27T21:57:15.545638Z",
     "shell.execute_reply": "2023-06-27T21:57:15.544574Z"
    },
    "id": "E7QhSc0q0H1s",
    "outputId": "1bfadab9-adc2-48f1-d8c2-d1fa0468cd28",
    "papermill": {
     "duration": 0.042375,
     "end_time": "2023-06-27T21:57:15.547570",
     "exception": false,
     "start_time": "2023-06-27T21:57:15.505195",
     "status": "completed"
    },
    "tags": []
   },
   "outputs": [
    {
     "name": "stdout",
     "output_type": "stream",
     "text": [
      "<class 'pandas.core.frame.DataFrame'>\n",
      "RangeIndex: 891 entries, 0 to 890\n",
      "Data columns (total 11 columns):\n",
      " #   Column    Non-Null Count  Dtype  \n",
      "---  ------    --------------  -----  \n",
      " 0   Survived  891 non-null    int64  \n",
      " 1   Pclass    891 non-null    int64  \n",
      " 2   Sex       891 non-null    object \n",
      " 3   Age       714 non-null    float64\n",
      " 4   SibSp     891 non-null    int64  \n",
      " 5   Parch     891 non-null    int64  \n",
      " 6   Ticket    891 non-null    object \n",
      " 7   Fare      891 non-null    float64\n",
      " 8   Cabin     204 non-null    object \n",
      " 9   Embarked  889 non-null    object \n",
      " 10  title     891 non-null    object \n",
      "dtypes: float64(2), int64(4), object(5)\n",
      "memory usage: 76.7+ KB\n",
      "<class 'pandas.core.frame.DataFrame'>\n",
      "RangeIndex: 418 entries, 0 to 417\n",
      "Data columns (total 10 columns):\n",
      " #   Column    Non-Null Count  Dtype  \n",
      "---  ------    --------------  -----  \n",
      " 0   Pclass    418 non-null    int64  \n",
      " 1   Sex       418 non-null    object \n",
      " 2   Age       332 non-null    float64\n",
      " 3   SibSp     418 non-null    int64  \n",
      " 4   Parch     418 non-null    int64  \n",
      " 5   Ticket    418 non-null    object \n",
      " 6   Fare      417 non-null    float64\n",
      " 7   Cabin     91 non-null     object \n",
      " 8   Embarked  418 non-null    object \n",
      " 9   title     418 non-null    object \n",
      "dtypes: float64(2), int64(3), object(5)\n",
      "memory usage: 32.8+ KB\n"
     ]
    }
   ],
   "source": [
    "train = train.drop([\"PassengerId\", \"Name\"], axis = \"columns\")\n",
    "train.info()\n",
    "test = test.drop([\"PassengerId\", \"Name\"], axis = \"columns\")\n",
    "test.info()"
   ]
  },
  {
   "cell_type": "code",
   "execution_count": 15,
   "id": "eaa4dc51",
   "metadata": {
    "execution": {
     "iopub.execute_input": "2023-06-27T21:57:15.586811Z",
     "iopub.status.busy": "2023-06-27T21:57:15.585801Z",
     "iopub.status.idle": "2023-06-27T21:57:15.607308Z",
     "shell.execute_reply": "2023-06-27T21:57:15.605631Z"
    },
    "id": "zWW9JItN0H1s",
    "outputId": "22ae4c7b-2f23-4109-cfc4-ec8e105e030c",
    "papermill": {
     "duration": 0.043087,
     "end_time": "2023-06-27T21:57:15.609274",
     "exception": false,
     "start_time": "2023-06-27T21:57:15.566187",
     "status": "completed"
    },
    "tags": []
   },
   "outputs": [
    {
     "name": "stdout",
     "output_type": "stream",
     "text": [
      "<class 'pandas.core.frame.DataFrame'>\n",
      "RangeIndex: 891 entries, 0 to 890\n",
      "Data columns (total 11 columns):\n",
      " #   Column    Non-Null Count  Dtype  \n",
      "---  ------    --------------  -----  \n",
      " 0   Survived  891 non-null    int64  \n",
      " 1   Pclass    891 non-null    int64  \n",
      " 2   Sex       891 non-null    int64  \n",
      " 3   Age       714 non-null    float64\n",
      " 4   SibSp     891 non-null    int64  \n",
      " 5   Parch     891 non-null    int64  \n",
      " 6   Ticket    891 non-null    object \n",
      " 7   Fare      891 non-null    float64\n",
      " 8   Cabin     204 non-null    object \n",
      " 9   Embarked  889 non-null    object \n",
      " 10  title     891 non-null    object \n",
      "dtypes: float64(2), int64(5), object(4)\n",
      "memory usage: 76.7+ KB\n",
      "<class 'pandas.core.frame.DataFrame'>\n",
      "RangeIndex: 418 entries, 0 to 417\n",
      "Data columns (total 10 columns):\n",
      " #   Column    Non-Null Count  Dtype  \n",
      "---  ------    --------------  -----  \n",
      " 0   Pclass    418 non-null    int64  \n",
      " 1   Sex       418 non-null    int64  \n",
      " 2   Age       332 non-null    float64\n",
      " 3   SibSp     418 non-null    int64  \n",
      " 4   Parch     418 non-null    int64  \n",
      " 5   Ticket    418 non-null    object \n",
      " 6   Fare      417 non-null    float64\n",
      " 7   Cabin     91 non-null     object \n",
      " 8   Embarked  418 non-null    object \n",
      " 9   title     418 non-null    object \n",
      "dtypes: float64(2), int64(4), object(4)\n",
      "memory usage: 32.8+ KB\n"
     ]
    }
   ],
   "source": [
    "train[\"Sex\"] = train[\"Sex\"].replace([\"male\", \"female\"], [0, 1])\n",
    "train.info()\n",
    "test[\"Sex\"] = test[\"Sex\"].replace([\"male\", \"female\"], [0, 1])\n",
    "test.info()"
   ]
  },
  {
   "cell_type": "code",
   "execution_count": 16,
   "id": "a3d2fe58",
   "metadata": {
    "execution": {
     "iopub.execute_input": "2023-06-27T21:57:15.647460Z",
     "iopub.status.busy": "2023-06-27T21:57:15.647109Z",
     "iopub.status.idle": "2023-06-27T21:57:15.652496Z",
     "shell.execute_reply": "2023-06-27T21:57:15.650767Z"
    },
    "id": "238TwUBX0H1t",
    "papermill": {
     "duration": 0.027224,
     "end_time": "2023-06-27T21:57:15.655035",
     "exception": false,
     "start_time": "2023-06-27T21:57:15.627811",
     "status": "completed"
    },
    "tags": []
   },
   "outputs": [],
   "source": [
    "# train[\"Cabin\"] = train[\"Cabin\"].isna()\n",
    "# train.info()\n",
    "# test[\"Cabin\"] = test[\"Cabin\"].isna()\n",
    "# test.info()"
   ]
  },
  {
   "cell_type": "code",
   "execution_count": 17,
   "id": "681edc94",
   "metadata": {
    "execution": {
     "iopub.execute_input": "2023-06-27T21:57:15.693930Z",
     "iopub.status.busy": "2023-06-27T21:57:15.693406Z",
     "iopub.status.idle": "2023-06-27T21:57:15.708281Z",
     "shell.execute_reply": "2023-06-27T21:57:15.707259Z"
    },
    "id": "9I6vYWV90H1t",
    "papermill": {
     "duration": 0.037077,
     "end_time": "2023-06-27T21:57:15.710716",
     "exception": false,
     "start_time": "2023-06-27T21:57:15.673639",
     "status": "completed"
    },
    "tags": []
   },
   "outputs": [],
   "source": [
    "def dum(df,x):\n",
    "    dum1 = pd.get_dummies(df[x], drop_first=True)\n",
    "    df = pd.concat([df,dum1],axis=1)\n",
    "    df.drop(x,axis=1,inplace=True)\n",
    "    return df\n",
    "\n",
    "for i in ['Embarked','title']:\n",
    "    train = dum(train ,i)\n",
    "for i in ['Embarked','title']:\n",
    "    test = dum(test ,i)"
   ]
  },
  {
   "cell_type": "code",
   "execution_count": 18,
   "id": "3ac05c29",
   "metadata": {
    "execution": {
     "iopub.execute_input": "2023-06-27T21:57:15.750657Z",
     "iopub.status.busy": "2023-06-27T21:57:15.750006Z",
     "iopub.status.idle": "2023-06-27T21:57:15.755388Z",
     "shell.execute_reply": "2023-06-27T21:57:15.754405Z"
    },
    "id": "EteJccv20H1t",
    "papermill": {
     "duration": 0.027918,
     "end_time": "2023-06-27T21:57:15.757266",
     "exception": false,
     "start_time": "2023-06-27T21:57:15.729348",
     "status": "completed"
    },
    "tags": []
   },
   "outputs": [],
   "source": [
    "# mean_f = train['Fare'].mean()\n",
    "# train['Fare'] = train['Fare']>mean_f\n",
    "\n",
    "# train.loc[train['Fare']<=8, 'Fare'] = 0\n",
    "# train.loc[(train['Fare']>8) & (train['Fare']<=14), 'Fare'] = 1\n",
    "# train.loc[(train['Fare']>14) & (train['Fare']<=31), 'Fare'] = 2\n",
    "# train.loc[train['Fare']>31, 'Fare'] = 3\n",
    "\n",
    "# train['Fare'] = train['Fare'].astype(int)\n",
    "\n",
    "# test.loc[test['Fare']<=8, 'Fare'] = 0\n",
    "# test.loc[(test['Fare']>8) & (test['Fare']<=14), 'Fare'] = 1\n",
    "# test.loc[(test['Fare']>14) & (test['Fare']<=31), 'Fare'] = 2\n",
    "# test.loc[test['Fare']>31, 'Fare'] = 3\n",
    "# test['Fare'][test['Fare'].isna()] = 0\n",
    "# test['Fare'] = test['Fare'].astype(int)\n",
    "\n",
    "# test['Fare']"
   ]
  },
  {
   "cell_type": "code",
   "execution_count": 19,
   "id": "a76ceaab",
   "metadata": {
    "execution": {
     "iopub.execute_input": "2023-06-27T21:57:15.801046Z",
     "iopub.status.busy": "2023-06-27T21:57:15.800191Z",
     "iopub.status.idle": "2023-06-27T21:57:15.813121Z",
     "shell.execute_reply": "2023-06-27T21:57:15.812091Z"
    },
    "id": "oJTg3-bN0H1t",
    "outputId": "2e328ac5-3ad4-4aec-8baf-4daf8f76b234",
    "papermill": {
     "duration": 0.037833,
     "end_time": "2023-06-27T21:57:15.814736",
     "exception": false,
     "start_time": "2023-06-27T21:57:15.776903",
     "status": "completed"
    },
    "tags": []
   },
   "outputs": [
    {
     "name": "stderr",
     "output_type": "stream",
     "text": [
      "/tmp/ipykernel_20/3322082531.py:1: FutureWarning: The default value of numeric_only in DataFrameGroupBy.mean is deprecated. In a future version, numeric_only will default to False. Either specify numeric_only or select only columns which should be valid for the function.\n",
      "  tm = train.groupby(\"Survived\").mean()\n"
     ]
    },
    {
     "data": {
      "text/plain": [
       "Pclass    0.129755\n",
       "Sex       0.643977\n",
       "Age       0.038706\n",
       "SibSp     0.077914\n",
       "Parch     0.170176\n",
       "Fare      0.372661\n",
       "Q         0.012168\n",
       "S         0.101449\n",
       "Master    0.369449\n",
       "Miss      0.577692\n",
       "Mr        0.540564\n",
       "Mrs       0.718799\n",
       "dtype: float64"
      ]
     },
     "execution_count": 19,
     "metadata": {},
     "output_type": "execute_result"
    }
   ],
   "source": [
    "tm = train.groupby(\"Survived\").mean()\n",
    "v1 = tm.iloc[0,:]\n",
    "v2 = tm.iloc[1,:]\n",
    "abs((v2-v1)/(v1+v2))"
   ]
  },
  {
   "cell_type": "code",
   "execution_count": 20,
   "id": "e05d33bc",
   "metadata": {
    "execution": {
     "iopub.execute_input": "2023-06-27T21:57:15.852604Z",
     "iopub.status.busy": "2023-06-27T21:57:15.852078Z",
     "iopub.status.idle": "2023-06-27T21:57:15.862815Z",
     "shell.execute_reply": "2023-06-27T21:57:15.861703Z"
    },
    "id": "JpWmVEy40H1t",
    "outputId": "fc064a77-9f01-4851-ae7b-65050a53afaf",
    "papermill": {
     "duration": 0.03194,
     "end_time": "2023-06-27T21:57:15.864966",
     "exception": false,
     "start_time": "2023-06-27T21:57:15.833026",
     "status": "completed"
    },
    "tags": []
   },
   "outputs": [
    {
     "name": "stderr",
     "output_type": "stream",
     "text": [
      "/tmp/ipykernel_20/3681337204.py:5: SettingWithCopyWarning: \n",
      "A value is trying to be set on a copy of a slice from a DataFrame\n",
      "\n",
      "See the caveats in the documentation: https://pandas.pydata.org/pandas-docs/stable/user_guide/indexing.html#returning-a-view-versus-a-copy\n",
      "  train[\"Age\"][train[\"Master\"]==1] = 5\n",
      "/tmp/ipykernel_20/3681337204.py:14: SettingWithCopyWarning: \n",
      "A value is trying to be set on a copy of a slice from a DataFrame\n",
      "\n",
      "See the caveats in the documentation: https://pandas.pydata.org/pandas-docs/stable/user_guide/indexing.html#returning-a-view-versus-a-copy\n",
      "  test[\"Age\"][test[\"Master\"]==1] = 6\n"
     ]
    }
   ],
   "source": [
    "# train[\"Age\"][train[\"Age\"].isna()] = train[\"Age\"].mean()\n",
    "\n",
    "# train[\"Age\"][train[\"title\"]==1] = 32\n",
    "# train[\"Age\"][train[\"title\"]==2] = 45\n",
    "train[\"Age\"][train[\"Master\"]==1] = 5\n",
    "# train[\"Age\"][train[\"title\"]==4] = 22\n",
    "# train[\"Age\"][train[\"title\"]==5] = 36\n",
    "\n",
    "mean_age = train.Age.mean()\n",
    "train.Age = train.Age.fillna(mean_age)\n",
    "\n",
    "#train = train.drop([\"title\"], axis = \"columns\")\n",
    "\n",
    "test[\"Age\"][test[\"Master\"]==1] = 6\n",
    "mean_age = test.Age.mean()\n",
    "test.Age = test.Age.fillna(mean_age)"
   ]
  },
  {
   "cell_type": "code",
   "execution_count": 21,
   "id": "c8531774",
   "metadata": {
    "execution": {
     "iopub.execute_input": "2023-06-27T21:57:15.902336Z",
     "iopub.status.busy": "2023-06-27T21:57:15.901983Z",
     "iopub.status.idle": "2023-06-27T21:57:15.913095Z",
     "shell.execute_reply": "2023-06-27T21:57:15.911601Z"
    },
    "id": "9UeIui5-0H1u",
    "outputId": "9eba6b10-4630-4289-dd8f-5ed0ea7cbc26",
    "papermill": {
     "duration": 0.031741,
     "end_time": "2023-06-27T21:57:15.914748",
     "exception": false,
     "start_time": "2023-06-27T21:57:15.883007",
     "status": "completed"
    },
    "tags": []
   },
   "outputs": [
    {
     "name": "stderr",
     "output_type": "stream",
     "text": [
      "/tmp/ipykernel_20/3901458896.py:14: SettingWithCopyWarning: \n",
      "A value is trying to be set on a copy of a slice from a DataFrame\n",
      "\n",
      "See the caveats in the documentation: https://pandas.pydata.org/pandas-docs/stable/user_guide/indexing.html#returning-a-view-versus-a-copy\n",
      "  train[\"WCG\"][(train[\"Age\"]<=14.0) & (train[\"Sex\"]==1)] = 1\n",
      "/tmp/ipykernel_20/3901458896.py:17: SettingWithCopyWarning: \n",
      "A value is trying to be set on a copy of a slice from a DataFrame\n",
      "\n",
      "See the caveats in the documentation: https://pandas.pydata.org/pandas-docs/stable/user_guide/indexing.html#returning-a-view-versus-a-copy\n",
      "  test[\"WCG\"][(test[\"Age\"]<=14.0) & (test[\"Sex\"]==1)] = 1\n"
     ]
    }
   ],
   "source": [
    "# def WCG(df):\n",
    "#     wcg = []\n",
    "\n",
    "#     for i in df[\"Sex\"]:\n",
    "#         if i==0:\n",
    "#             wcg.append(0)\n",
    "#         elif i==1 & df[\"Age\"]>14.0:\n",
    "#             sibsp.append(1)\n",
    "\n",
    "#     df[\"WCG\"] = sibsp\n",
    "\n",
    "# WCG(train)\n",
    "train[\"WCG\"]=np.zeros(891)\n",
    "train[\"WCG\"][(train[\"Age\"]<=14.0) & (train[\"Sex\"]==1)] = 1\n",
    "\n",
    "test[\"WCG\"]=np.zeros(418)\n",
    "test[\"WCG\"][(test[\"Age\"]<=14.0) & (test[\"Sex\"]==1)] = 1"
   ]
  },
  {
   "cell_type": "code",
   "execution_count": 22,
   "id": "61bc780e",
   "metadata": {
    "execution": {
     "iopub.execute_input": "2023-06-27T21:57:15.952717Z",
     "iopub.status.busy": "2023-06-27T21:57:15.952410Z",
     "iopub.status.idle": "2023-06-27T21:57:15.958794Z",
     "shell.execute_reply": "2023-06-27T21:57:15.957914Z"
    },
    "id": "p1IrgG5y0H1u",
    "papermill": {
     "duration": 0.02755,
     "end_time": "2023-06-27T21:57:15.960461",
     "exception": false,
     "start_time": "2023-06-27T21:57:15.932911",
     "status": "completed"
    },
    "tags": []
   },
   "outputs": [],
   "source": [
    "train[\"Age_Category\"] = pd.cut(train[\"Age\"], bins=[0,12,20,50,100], labels=[\"Children\",\"Teenager\",\"Adult\",\"Senior Citizen\"])"
   ]
  },
  {
   "cell_type": "code",
   "execution_count": 23,
   "id": "f2521ce4",
   "metadata": {
    "execution": {
     "iopub.execute_input": "2023-06-27T21:57:15.999835Z",
     "iopub.status.busy": "2023-06-27T21:57:15.999508Z",
     "iopub.status.idle": "2023-06-27T21:57:16.006702Z",
     "shell.execute_reply": "2023-06-27T21:57:16.005747Z"
    },
    "id": "b6jXN2rF0H1u",
    "papermill": {
     "duration": 0.028944,
     "end_time": "2023-06-27T21:57:16.008394",
     "exception": false,
     "start_time": "2023-06-27T21:57:15.979450",
     "status": "completed"
    },
    "tags": []
   },
   "outputs": [],
   "source": [
    "test[\"Age_Category\"] = pd.cut(test[\"Age\"], bins=[0,12,20,50,100], labels=[\"Children\",\"Teenager\",\"Adult\",\"Senior Citizen\"])"
   ]
  },
  {
   "cell_type": "code",
   "execution_count": 24,
   "id": "7694dc9c",
   "metadata": {
    "execution": {
     "iopub.execute_input": "2023-06-27T21:57:16.047571Z",
     "iopub.status.busy": "2023-06-27T21:57:16.047038Z",
     "iopub.status.idle": "2023-06-27T21:57:16.065832Z",
     "shell.execute_reply": "2023-06-27T21:57:16.064841Z"
    },
    "id": "cDHTZAHZ0H1u",
    "outputId": "70250e17-9d3f-4aee-b1ac-d2c99b9983d7",
    "papermill": {
     "duration": 0.040291,
     "end_time": "2023-06-27T21:57:16.067556",
     "exception": false,
     "start_time": "2023-06-27T21:57:16.027265",
     "status": "completed"
    },
    "tags": []
   },
   "outputs": [
    {
     "data": {
      "text/html": [
       "<div>\n",
       "<style scoped>\n",
       "    .dataframe tbody tr th:only-of-type {\n",
       "        vertical-align: middle;\n",
       "    }\n",
       "\n",
       "    .dataframe tbody tr th {\n",
       "        vertical-align: top;\n",
       "    }\n",
       "\n",
       "    .dataframe thead th {\n",
       "        text-align: right;\n",
       "    }\n",
       "</style>\n",
       "<table border=\"1\" class=\"dataframe\">\n",
       "  <thead>\n",
       "    <tr style=\"text-align: right;\">\n",
       "      <th></th>\n",
       "      <th>Survived</th>\n",
       "      <th>Pclass</th>\n",
       "      <th>Sex</th>\n",
       "      <th>Age</th>\n",
       "      <th>SibSp</th>\n",
       "      <th>Parch</th>\n",
       "      <th>Ticket</th>\n",
       "      <th>Fare</th>\n",
       "      <th>Cabin</th>\n",
       "      <th>Q</th>\n",
       "      <th>S</th>\n",
       "      <th>Master</th>\n",
       "      <th>Miss</th>\n",
       "      <th>Mr</th>\n",
       "      <th>Mrs</th>\n",
       "      <th>WCG</th>\n",
       "      <th>Age_Category</th>\n",
       "      <th>Family_Size</th>\n",
       "    </tr>\n",
       "  </thead>\n",
       "  <tbody>\n",
       "    <tr>\n",
       "      <th>0</th>\n",
       "      <td>0</td>\n",
       "      <td>3</td>\n",
       "      <td>0</td>\n",
       "      <td>22.0</td>\n",
       "      <td>1</td>\n",
       "      <td>0</td>\n",
       "      <td>A/5 21171</td>\n",
       "      <td>7.2500</td>\n",
       "      <td>NaN</td>\n",
       "      <td>0</td>\n",
       "      <td>1</td>\n",
       "      <td>0</td>\n",
       "      <td>0</td>\n",
       "      <td>1</td>\n",
       "      <td>0</td>\n",
       "      <td>0.0</td>\n",
       "      <td>Adult</td>\n",
       "      <td>2</td>\n",
       "    </tr>\n",
       "    <tr>\n",
       "      <th>1</th>\n",
       "      <td>1</td>\n",
       "      <td>1</td>\n",
       "      <td>1</td>\n",
       "      <td>38.0</td>\n",
       "      <td>1</td>\n",
       "      <td>0</td>\n",
       "      <td>PC 17599</td>\n",
       "      <td>71.2833</td>\n",
       "      <td>C85</td>\n",
       "      <td>0</td>\n",
       "      <td>0</td>\n",
       "      <td>0</td>\n",
       "      <td>0</td>\n",
       "      <td>0</td>\n",
       "      <td>1</td>\n",
       "      <td>0.0</td>\n",
       "      <td>Adult</td>\n",
       "      <td>2</td>\n",
       "    </tr>\n",
       "    <tr>\n",
       "      <th>2</th>\n",
       "      <td>1</td>\n",
       "      <td>3</td>\n",
       "      <td>1</td>\n",
       "      <td>26.0</td>\n",
       "      <td>0</td>\n",
       "      <td>0</td>\n",
       "      <td>STON/O2. 3101282</td>\n",
       "      <td>7.9250</td>\n",
       "      <td>NaN</td>\n",
       "      <td>0</td>\n",
       "      <td>1</td>\n",
       "      <td>0</td>\n",
       "      <td>1</td>\n",
       "      <td>0</td>\n",
       "      <td>0</td>\n",
       "      <td>0.0</td>\n",
       "      <td>Adult</td>\n",
       "      <td>1</td>\n",
       "    </tr>\n",
       "    <tr>\n",
       "      <th>3</th>\n",
       "      <td>1</td>\n",
       "      <td>1</td>\n",
       "      <td>1</td>\n",
       "      <td>35.0</td>\n",
       "      <td>1</td>\n",
       "      <td>0</td>\n",
       "      <td>113803</td>\n",
       "      <td>53.1000</td>\n",
       "      <td>C123</td>\n",
       "      <td>0</td>\n",
       "      <td>1</td>\n",
       "      <td>0</td>\n",
       "      <td>0</td>\n",
       "      <td>0</td>\n",
       "      <td>1</td>\n",
       "      <td>0.0</td>\n",
       "      <td>Adult</td>\n",
       "      <td>2</td>\n",
       "    </tr>\n",
       "    <tr>\n",
       "      <th>4</th>\n",
       "      <td>0</td>\n",
       "      <td>3</td>\n",
       "      <td>0</td>\n",
       "      <td>35.0</td>\n",
       "      <td>0</td>\n",
       "      <td>0</td>\n",
       "      <td>373450</td>\n",
       "      <td>8.0500</td>\n",
       "      <td>NaN</td>\n",
       "      <td>0</td>\n",
       "      <td>1</td>\n",
       "      <td>0</td>\n",
       "      <td>0</td>\n",
       "      <td>1</td>\n",
       "      <td>0</td>\n",
       "      <td>0.0</td>\n",
       "      <td>Adult</td>\n",
       "      <td>1</td>\n",
       "    </tr>\n",
       "  </tbody>\n",
       "</table>\n",
       "</div>"
      ],
      "text/plain": [
       "   Survived  Pclass  Sex   Age  SibSp  Parch            Ticket     Fare Cabin  \\\n",
       "0         0       3    0  22.0      1      0         A/5 21171   7.2500   NaN   \n",
       "1         1       1    1  38.0      1      0          PC 17599  71.2833   C85   \n",
       "2         1       3    1  26.0      0      0  STON/O2. 3101282   7.9250   NaN   \n",
       "3         1       1    1  35.0      1      0            113803  53.1000  C123   \n",
       "4         0       3    0  35.0      0      0            373450   8.0500   NaN   \n",
       "\n",
       "   Q  S  Master  Miss  Mr  Mrs  WCG Age_Category  Family_Size  \n",
       "0  0  1       0     0   1    0  0.0        Adult            2  \n",
       "1  0  0       0     0   0    1  0.0        Adult            2  \n",
       "2  0  1       0     1   0    0  0.0        Adult            1  \n",
       "3  0  1       0     0   0    1  0.0        Adult            2  \n",
       "4  0  1       0     0   1    0  0.0        Adult            1  "
      ]
     },
     "execution_count": 24,
     "metadata": {},
     "output_type": "execute_result"
    }
   ],
   "source": [
    "train[\"Family_Size\"] = (train[\"SibSp\"] + train[\"Parch\"] + 1)\n",
    "train.head()"
   ]
  },
  {
   "cell_type": "code",
   "execution_count": 25,
   "id": "591ddc08",
   "metadata": {
    "execution": {
     "iopub.execute_input": "2023-06-27T21:57:16.107328Z",
     "iopub.status.busy": "2023-06-27T21:57:16.106971Z",
     "iopub.status.idle": "2023-06-27T21:57:16.123191Z",
     "shell.execute_reply": "2023-06-27T21:57:16.122580Z"
    },
    "id": "DlRodSlU0H1u",
    "outputId": "90b020fa-6399-44ed-a8d3-d29d692a2e56",
    "papermill": {
     "duration": 0.037736,
     "end_time": "2023-06-27T21:57:16.124700",
     "exception": false,
     "start_time": "2023-06-27T21:57:16.086964",
     "status": "completed"
    },
    "tags": []
   },
   "outputs": [
    {
     "data": {
      "text/html": [
       "<div>\n",
       "<style scoped>\n",
       "    .dataframe tbody tr th:only-of-type {\n",
       "        vertical-align: middle;\n",
       "    }\n",
       "\n",
       "    .dataframe tbody tr th {\n",
       "        vertical-align: top;\n",
       "    }\n",
       "\n",
       "    .dataframe thead th {\n",
       "        text-align: right;\n",
       "    }\n",
       "</style>\n",
       "<table border=\"1\" class=\"dataframe\">\n",
       "  <thead>\n",
       "    <tr style=\"text-align: right;\">\n",
       "      <th></th>\n",
       "      <th>Survived</th>\n",
       "      <th>Pclass</th>\n",
       "      <th>Sex</th>\n",
       "      <th>Age</th>\n",
       "      <th>SibSp</th>\n",
       "      <th>Parch</th>\n",
       "      <th>Ticket</th>\n",
       "      <th>Fare</th>\n",
       "      <th>Cabin</th>\n",
       "      <th>Q</th>\n",
       "      <th>S</th>\n",
       "      <th>Master</th>\n",
       "      <th>Miss</th>\n",
       "      <th>Mr</th>\n",
       "      <th>Mrs</th>\n",
       "      <th>WCG</th>\n",
       "      <th>Age_Category</th>\n",
       "      <th>Family_Size</th>\n",
       "      <th>Solo_Traveller</th>\n",
       "    </tr>\n",
       "  </thead>\n",
       "  <tbody>\n",
       "    <tr>\n",
       "      <th>0</th>\n",
       "      <td>0</td>\n",
       "      <td>3</td>\n",
       "      <td>0</td>\n",
       "      <td>22.0</td>\n",
       "      <td>1</td>\n",
       "      <td>0</td>\n",
       "      <td>A/5 21171</td>\n",
       "      <td>7.2500</td>\n",
       "      <td>NaN</td>\n",
       "      <td>0</td>\n",
       "      <td>1</td>\n",
       "      <td>0</td>\n",
       "      <td>0</td>\n",
       "      <td>1</td>\n",
       "      <td>0</td>\n",
       "      <td>0.0</td>\n",
       "      <td>Adult</td>\n",
       "      <td>2</td>\n",
       "      <td>False</td>\n",
       "    </tr>\n",
       "    <tr>\n",
       "      <th>1</th>\n",
       "      <td>1</td>\n",
       "      <td>1</td>\n",
       "      <td>1</td>\n",
       "      <td>38.0</td>\n",
       "      <td>1</td>\n",
       "      <td>0</td>\n",
       "      <td>PC 17599</td>\n",
       "      <td>71.2833</td>\n",
       "      <td>C85</td>\n",
       "      <td>0</td>\n",
       "      <td>0</td>\n",
       "      <td>0</td>\n",
       "      <td>0</td>\n",
       "      <td>0</td>\n",
       "      <td>1</td>\n",
       "      <td>0.0</td>\n",
       "      <td>Adult</td>\n",
       "      <td>2</td>\n",
       "      <td>False</td>\n",
       "    </tr>\n",
       "    <tr>\n",
       "      <th>2</th>\n",
       "      <td>1</td>\n",
       "      <td>3</td>\n",
       "      <td>1</td>\n",
       "      <td>26.0</td>\n",
       "      <td>0</td>\n",
       "      <td>0</td>\n",
       "      <td>STON/O2. 3101282</td>\n",
       "      <td>7.9250</td>\n",
       "      <td>NaN</td>\n",
       "      <td>0</td>\n",
       "      <td>1</td>\n",
       "      <td>0</td>\n",
       "      <td>1</td>\n",
       "      <td>0</td>\n",
       "      <td>0</td>\n",
       "      <td>0.0</td>\n",
       "      <td>Adult</td>\n",
       "      <td>1</td>\n",
       "      <td>True</td>\n",
       "    </tr>\n",
       "    <tr>\n",
       "      <th>3</th>\n",
       "      <td>1</td>\n",
       "      <td>1</td>\n",
       "      <td>1</td>\n",
       "      <td>35.0</td>\n",
       "      <td>1</td>\n",
       "      <td>0</td>\n",
       "      <td>113803</td>\n",
       "      <td>53.1000</td>\n",
       "      <td>C123</td>\n",
       "      <td>0</td>\n",
       "      <td>1</td>\n",
       "      <td>0</td>\n",
       "      <td>0</td>\n",
       "      <td>0</td>\n",
       "      <td>1</td>\n",
       "      <td>0.0</td>\n",
       "      <td>Adult</td>\n",
       "      <td>2</td>\n",
       "      <td>False</td>\n",
       "    </tr>\n",
       "    <tr>\n",
       "      <th>4</th>\n",
       "      <td>0</td>\n",
       "      <td>3</td>\n",
       "      <td>0</td>\n",
       "      <td>35.0</td>\n",
       "      <td>0</td>\n",
       "      <td>0</td>\n",
       "      <td>373450</td>\n",
       "      <td>8.0500</td>\n",
       "      <td>NaN</td>\n",
       "      <td>0</td>\n",
       "      <td>1</td>\n",
       "      <td>0</td>\n",
       "      <td>0</td>\n",
       "      <td>1</td>\n",
       "      <td>0</td>\n",
       "      <td>0.0</td>\n",
       "      <td>Adult</td>\n",
       "      <td>1</td>\n",
       "      <td>True</td>\n",
       "    </tr>\n",
       "  </tbody>\n",
       "</table>\n",
       "</div>"
      ],
      "text/plain": [
       "   Survived  Pclass  Sex   Age  SibSp  Parch            Ticket     Fare Cabin  \\\n",
       "0         0       3    0  22.0      1      0         A/5 21171   7.2500   NaN   \n",
       "1         1       1    1  38.0      1      0          PC 17599  71.2833   C85   \n",
       "2         1       3    1  26.0      0      0  STON/O2. 3101282   7.9250   NaN   \n",
       "3         1       1    1  35.0      1      0            113803  53.1000  C123   \n",
       "4         0       3    0  35.0      0      0            373450   8.0500   NaN   \n",
       "\n",
       "   Q  S  Master  Miss  Mr  Mrs  WCG Age_Category  Family_Size  Solo_Traveller  \n",
       "0  0  1       0     0   1    0  0.0        Adult            2           False  \n",
       "1  0  0       0     0   0    1  0.0        Adult            2           False  \n",
       "2  0  1       0     1   0    0  0.0        Adult            1            True  \n",
       "3  0  1       0     0   0    1  0.0        Adult            2           False  \n",
       "4  0  1       0     0   1    0  0.0        Adult            1            True  "
      ]
     },
     "execution_count": 25,
     "metadata": {},
     "output_type": "execute_result"
    }
   ],
   "source": [
    "train[\"Solo_Traveller\"] = (train[\"Family_Size\"]==1)\n",
    "train.head()"
   ]
  },
  {
   "cell_type": "code",
   "execution_count": 26,
   "id": "3c227c3a",
   "metadata": {
    "execution": {
     "iopub.execute_input": "2023-06-27T21:57:16.164534Z",
     "iopub.status.busy": "2023-06-27T21:57:16.164223Z",
     "iopub.status.idle": "2023-06-27T21:57:16.177959Z",
     "shell.execute_reply": "2023-06-27T21:57:16.176753Z"
    },
    "id": "feWHiGsW0H1u",
    "outputId": "a85f9d2c-399e-4d09-9cc3-13d04e76d230",
    "papermill": {
     "duration": 0.035968,
     "end_time": "2023-06-27T21:57:16.179966",
     "exception": false,
     "start_time": "2023-06-27T21:57:16.143998",
     "status": "completed"
    },
    "tags": []
   },
   "outputs": [
    {
     "name": "stderr",
     "output_type": "stream",
     "text": [
      "/tmp/ipykernel_20/3322082531.py:1: FutureWarning: The default value of numeric_only in DataFrameGroupBy.mean is deprecated. In a future version, numeric_only will default to False. Either specify numeric_only or select only columns which should be valid for the function.\n",
      "  tm = train.groupby(\"Survived\").mean()\n"
     ]
    },
    {
     "data": {
      "text/plain": [
       "Pclass            0.129755\n",
       "Sex               0.643977\n",
       "Age               0.031281\n",
       "SibSp             0.077914\n",
       "Parch             0.170176\n",
       "Fare              0.372661\n",
       "Q                 0.012168\n",
       "S                 0.101449\n",
       "Master            0.369449\n",
       "Miss              0.577692\n",
       "Mr                0.540564\n",
       "Mrs               0.718799\n",
       "WCG               0.466934\n",
       "Family_Size       0.014435\n",
       "Solo_Traveller    0.176734\n",
       "dtype: float64"
      ]
     },
     "execution_count": 26,
     "metadata": {},
     "output_type": "execute_result"
    }
   ],
   "source": [
    "tm = train.groupby(\"Survived\").mean()\n",
    "v1 = tm.iloc[0,:]\n",
    "v2 = tm.iloc[1,:]\n",
    "abs((v2-v1)/(v1+v2))"
   ]
  },
  {
   "cell_type": "code",
   "execution_count": 27,
   "id": "48f54a58",
   "metadata": {
    "execution": {
     "iopub.execute_input": "2023-06-27T21:57:16.220971Z",
     "iopub.status.busy": "2023-06-27T21:57:16.220629Z",
     "iopub.status.idle": "2023-06-27T21:57:16.238421Z",
     "shell.execute_reply": "2023-06-27T21:57:16.237432Z"
    },
    "id": "NtMo1VAG0H1u",
    "outputId": "a300fc60-b338-4bef-b520-77661a29826d",
    "papermill": {
     "duration": 0.04037,
     "end_time": "2023-06-27T21:57:16.240040",
     "exception": false,
     "start_time": "2023-06-27T21:57:16.199670",
     "status": "completed"
    },
    "tags": []
   },
   "outputs": [
    {
     "data": {
      "text/html": [
       "<div>\n",
       "<style scoped>\n",
       "    .dataframe tbody tr th:only-of-type {\n",
       "        vertical-align: middle;\n",
       "    }\n",
       "\n",
       "    .dataframe tbody tr th {\n",
       "        vertical-align: top;\n",
       "    }\n",
       "\n",
       "    .dataframe thead th {\n",
       "        text-align: right;\n",
       "    }\n",
       "</style>\n",
       "<table border=\"1\" class=\"dataframe\">\n",
       "  <thead>\n",
       "    <tr style=\"text-align: right;\">\n",
       "      <th></th>\n",
       "      <th>Pclass</th>\n",
       "      <th>Sex</th>\n",
       "      <th>Age</th>\n",
       "      <th>SibSp</th>\n",
       "      <th>Parch</th>\n",
       "      <th>Ticket</th>\n",
       "      <th>Fare</th>\n",
       "      <th>Cabin</th>\n",
       "      <th>Q</th>\n",
       "      <th>S</th>\n",
       "      <th>Master</th>\n",
       "      <th>Miss</th>\n",
       "      <th>Mr</th>\n",
       "      <th>Mrs</th>\n",
       "      <th>WCG</th>\n",
       "      <th>Age_Category</th>\n",
       "      <th>Family_Size</th>\n",
       "    </tr>\n",
       "  </thead>\n",
       "  <tbody>\n",
       "    <tr>\n",
       "      <th>0</th>\n",
       "      <td>3</td>\n",
       "      <td>0</td>\n",
       "      <td>34.5</td>\n",
       "      <td>0</td>\n",
       "      <td>0</td>\n",
       "      <td>330911</td>\n",
       "      <td>7.8292</td>\n",
       "      <td>NaN</td>\n",
       "      <td>1</td>\n",
       "      <td>0</td>\n",
       "      <td>0</td>\n",
       "      <td>0</td>\n",
       "      <td>1</td>\n",
       "      <td>0</td>\n",
       "      <td>0.0</td>\n",
       "      <td>Adult</td>\n",
       "      <td>1</td>\n",
       "    </tr>\n",
       "    <tr>\n",
       "      <th>1</th>\n",
       "      <td>3</td>\n",
       "      <td>1</td>\n",
       "      <td>47.0</td>\n",
       "      <td>1</td>\n",
       "      <td>0</td>\n",
       "      <td>363272</td>\n",
       "      <td>7.0000</td>\n",
       "      <td>NaN</td>\n",
       "      <td>0</td>\n",
       "      <td>1</td>\n",
       "      <td>0</td>\n",
       "      <td>0</td>\n",
       "      <td>0</td>\n",
       "      <td>1</td>\n",
       "      <td>0.0</td>\n",
       "      <td>Adult</td>\n",
       "      <td>2</td>\n",
       "    </tr>\n",
       "    <tr>\n",
       "      <th>2</th>\n",
       "      <td>2</td>\n",
       "      <td>0</td>\n",
       "      <td>62.0</td>\n",
       "      <td>0</td>\n",
       "      <td>0</td>\n",
       "      <td>240276</td>\n",
       "      <td>9.6875</td>\n",
       "      <td>NaN</td>\n",
       "      <td>1</td>\n",
       "      <td>0</td>\n",
       "      <td>0</td>\n",
       "      <td>0</td>\n",
       "      <td>1</td>\n",
       "      <td>0</td>\n",
       "      <td>0.0</td>\n",
       "      <td>Senior Citizen</td>\n",
       "      <td>1</td>\n",
       "    </tr>\n",
       "    <tr>\n",
       "      <th>3</th>\n",
       "      <td>3</td>\n",
       "      <td>0</td>\n",
       "      <td>27.0</td>\n",
       "      <td>0</td>\n",
       "      <td>0</td>\n",
       "      <td>315154</td>\n",
       "      <td>8.6625</td>\n",
       "      <td>NaN</td>\n",
       "      <td>0</td>\n",
       "      <td>1</td>\n",
       "      <td>0</td>\n",
       "      <td>0</td>\n",
       "      <td>1</td>\n",
       "      <td>0</td>\n",
       "      <td>0.0</td>\n",
       "      <td>Adult</td>\n",
       "      <td>1</td>\n",
       "    </tr>\n",
       "    <tr>\n",
       "      <th>4</th>\n",
       "      <td>3</td>\n",
       "      <td>1</td>\n",
       "      <td>22.0</td>\n",
       "      <td>1</td>\n",
       "      <td>1</td>\n",
       "      <td>3101298</td>\n",
       "      <td>12.2875</td>\n",
       "      <td>NaN</td>\n",
       "      <td>0</td>\n",
       "      <td>1</td>\n",
       "      <td>0</td>\n",
       "      <td>0</td>\n",
       "      <td>0</td>\n",
       "      <td>1</td>\n",
       "      <td>0.0</td>\n",
       "      <td>Adult</td>\n",
       "      <td>3</td>\n",
       "    </tr>\n",
       "  </tbody>\n",
       "</table>\n",
       "</div>"
      ],
      "text/plain": [
       "   Pclass  Sex   Age  SibSp  Parch   Ticket     Fare Cabin  Q  S  Master  \\\n",
       "0       3    0  34.5      0      0   330911   7.8292   NaN  1  0       0   \n",
       "1       3    1  47.0      1      0   363272   7.0000   NaN  0  1       0   \n",
       "2       2    0  62.0      0      0   240276   9.6875   NaN  1  0       0   \n",
       "3       3    0  27.0      0      0   315154   8.6625   NaN  0  1       0   \n",
       "4       3    1  22.0      1      1  3101298  12.2875   NaN  0  1       0   \n",
       "\n",
       "   Miss  Mr  Mrs  WCG    Age_Category  Family_Size  \n",
       "0     0   1    0  0.0           Adult            1  \n",
       "1     0   0    1  0.0           Adult            2  \n",
       "2     0   1    0  0.0  Senior Citizen            1  \n",
       "3     0   1    0  0.0           Adult            1  \n",
       "4     0   0    1  0.0           Adult            3  "
      ]
     },
     "execution_count": 27,
     "metadata": {},
     "output_type": "execute_result"
    }
   ],
   "source": [
    "test[\"Family_Size\"] = (test[\"SibSp\"] + test[\"Parch\"] + 1)\n",
    "test.head()"
   ]
  },
  {
   "cell_type": "code",
   "execution_count": 28,
   "id": "52e400f9",
   "metadata": {
    "execution": {
     "iopub.execute_input": "2023-06-27T21:57:16.280549Z",
     "iopub.status.busy": "2023-06-27T21:57:16.280183Z",
     "iopub.status.idle": "2023-06-27T21:57:16.297267Z",
     "shell.execute_reply": "2023-06-27T21:57:16.296144Z"
    },
    "id": "z2BHuvX30H1u",
    "outputId": "93b0bf8c-cef6-43e2-a14e-f8f225515f6f",
    "papermill": {
     "duration": 0.039066,
     "end_time": "2023-06-27T21:57:16.298886",
     "exception": false,
     "start_time": "2023-06-27T21:57:16.259820",
     "status": "completed"
    },
    "tags": []
   },
   "outputs": [
    {
     "data": {
      "text/html": [
       "<div>\n",
       "<style scoped>\n",
       "    .dataframe tbody tr th:only-of-type {\n",
       "        vertical-align: middle;\n",
       "    }\n",
       "\n",
       "    .dataframe tbody tr th {\n",
       "        vertical-align: top;\n",
       "    }\n",
       "\n",
       "    .dataframe thead th {\n",
       "        text-align: right;\n",
       "    }\n",
       "</style>\n",
       "<table border=\"1\" class=\"dataframe\">\n",
       "  <thead>\n",
       "    <tr style=\"text-align: right;\">\n",
       "      <th></th>\n",
       "      <th>Pclass</th>\n",
       "      <th>Sex</th>\n",
       "      <th>Age</th>\n",
       "      <th>SibSp</th>\n",
       "      <th>Parch</th>\n",
       "      <th>Ticket</th>\n",
       "      <th>Fare</th>\n",
       "      <th>Cabin</th>\n",
       "      <th>Q</th>\n",
       "      <th>S</th>\n",
       "      <th>Master</th>\n",
       "      <th>Miss</th>\n",
       "      <th>Mr</th>\n",
       "      <th>Mrs</th>\n",
       "      <th>WCG</th>\n",
       "      <th>Age_Category</th>\n",
       "      <th>Family_Size</th>\n",
       "      <th>Solo_Traveller</th>\n",
       "    </tr>\n",
       "  </thead>\n",
       "  <tbody>\n",
       "    <tr>\n",
       "      <th>0</th>\n",
       "      <td>3</td>\n",
       "      <td>0</td>\n",
       "      <td>34.5</td>\n",
       "      <td>0</td>\n",
       "      <td>0</td>\n",
       "      <td>330911</td>\n",
       "      <td>7.8292</td>\n",
       "      <td>NaN</td>\n",
       "      <td>1</td>\n",
       "      <td>0</td>\n",
       "      <td>0</td>\n",
       "      <td>0</td>\n",
       "      <td>1</td>\n",
       "      <td>0</td>\n",
       "      <td>0.0</td>\n",
       "      <td>Adult</td>\n",
       "      <td>1</td>\n",
       "      <td>True</td>\n",
       "    </tr>\n",
       "    <tr>\n",
       "      <th>1</th>\n",
       "      <td>3</td>\n",
       "      <td>1</td>\n",
       "      <td>47.0</td>\n",
       "      <td>1</td>\n",
       "      <td>0</td>\n",
       "      <td>363272</td>\n",
       "      <td>7.0000</td>\n",
       "      <td>NaN</td>\n",
       "      <td>0</td>\n",
       "      <td>1</td>\n",
       "      <td>0</td>\n",
       "      <td>0</td>\n",
       "      <td>0</td>\n",
       "      <td>1</td>\n",
       "      <td>0.0</td>\n",
       "      <td>Adult</td>\n",
       "      <td>2</td>\n",
       "      <td>False</td>\n",
       "    </tr>\n",
       "    <tr>\n",
       "      <th>2</th>\n",
       "      <td>2</td>\n",
       "      <td>0</td>\n",
       "      <td>62.0</td>\n",
       "      <td>0</td>\n",
       "      <td>0</td>\n",
       "      <td>240276</td>\n",
       "      <td>9.6875</td>\n",
       "      <td>NaN</td>\n",
       "      <td>1</td>\n",
       "      <td>0</td>\n",
       "      <td>0</td>\n",
       "      <td>0</td>\n",
       "      <td>1</td>\n",
       "      <td>0</td>\n",
       "      <td>0.0</td>\n",
       "      <td>Senior Citizen</td>\n",
       "      <td>1</td>\n",
       "      <td>True</td>\n",
       "    </tr>\n",
       "    <tr>\n",
       "      <th>3</th>\n",
       "      <td>3</td>\n",
       "      <td>0</td>\n",
       "      <td>27.0</td>\n",
       "      <td>0</td>\n",
       "      <td>0</td>\n",
       "      <td>315154</td>\n",
       "      <td>8.6625</td>\n",
       "      <td>NaN</td>\n",
       "      <td>0</td>\n",
       "      <td>1</td>\n",
       "      <td>0</td>\n",
       "      <td>0</td>\n",
       "      <td>1</td>\n",
       "      <td>0</td>\n",
       "      <td>0.0</td>\n",
       "      <td>Adult</td>\n",
       "      <td>1</td>\n",
       "      <td>True</td>\n",
       "    </tr>\n",
       "    <tr>\n",
       "      <th>4</th>\n",
       "      <td>3</td>\n",
       "      <td>1</td>\n",
       "      <td>22.0</td>\n",
       "      <td>1</td>\n",
       "      <td>1</td>\n",
       "      <td>3101298</td>\n",
       "      <td>12.2875</td>\n",
       "      <td>NaN</td>\n",
       "      <td>0</td>\n",
       "      <td>1</td>\n",
       "      <td>0</td>\n",
       "      <td>0</td>\n",
       "      <td>0</td>\n",
       "      <td>1</td>\n",
       "      <td>0.0</td>\n",
       "      <td>Adult</td>\n",
       "      <td>3</td>\n",
       "      <td>False</td>\n",
       "    </tr>\n",
       "  </tbody>\n",
       "</table>\n",
       "</div>"
      ],
      "text/plain": [
       "   Pclass  Sex   Age  SibSp  Parch   Ticket     Fare Cabin  Q  S  Master  \\\n",
       "0       3    0  34.5      0      0   330911   7.8292   NaN  1  0       0   \n",
       "1       3    1  47.0      1      0   363272   7.0000   NaN  0  1       0   \n",
       "2       2    0  62.0      0      0   240276   9.6875   NaN  1  0       0   \n",
       "3       3    0  27.0      0      0   315154   8.6625   NaN  0  1       0   \n",
       "4       3    1  22.0      1      1  3101298  12.2875   NaN  0  1       0   \n",
       "\n",
       "   Miss  Mr  Mrs  WCG    Age_Category  Family_Size  Solo_Traveller  \n",
       "0     0   1    0  0.0           Adult            1            True  \n",
       "1     0   0    1  0.0           Adult            2           False  \n",
       "2     0   1    0  0.0  Senior Citizen            1            True  \n",
       "3     0   1    0  0.0           Adult            1            True  \n",
       "4     0   0    1  0.0           Adult            3           False  "
      ]
     },
     "execution_count": 28,
     "metadata": {},
     "output_type": "execute_result"
    }
   ],
   "source": [
    "test[\"Solo_Traveller\"] = (test[\"Family_Size\"]==1)\n",
    "test.head()"
   ]
  },
  {
   "cell_type": "code",
   "execution_count": 29,
   "id": "439a243d",
   "metadata": {
    "execution": {
     "iopub.execute_input": "2023-06-27T21:57:16.340115Z",
     "iopub.status.busy": "2023-06-27T21:57:16.339784Z",
     "iopub.status.idle": "2023-06-27T21:57:16.367582Z",
     "shell.execute_reply": "2023-06-27T21:57:16.366152Z"
    },
    "id": "vuZkcuJg0H1u",
    "outputId": "b3d65fda-f6d8-4031-ed01-3ee36afa44a8",
    "papermill": {
     "duration": 0.051148,
     "end_time": "2023-06-27T21:57:16.370169",
     "exception": false,
     "start_time": "2023-06-27T21:57:16.319021",
     "status": "completed"
    },
    "tags": []
   },
   "outputs": [
    {
     "name": "stdout",
     "output_type": "stream",
     "text": [
      "<class 'pandas.core.frame.DataFrame'>\n",
      "RangeIndex: 891 entries, 0 to 890\n",
      "Data columns (total 18 columns):\n",
      " #   Column          Non-Null Count  Dtype  \n",
      "---  ------          --------------  -----  \n",
      " 0   Survived        891 non-null    int64  \n",
      " 1   Pclass          891 non-null    int64  \n",
      " 2   Sex             891 non-null    int64  \n",
      " 3   Age             891 non-null    float64\n",
      " 4   SibSp           891 non-null    int64  \n",
      " 5   Parch           891 non-null    int64  \n",
      " 6   Ticket          891 non-null    object \n",
      " 7   Fare            891 non-null    float64\n",
      " 8   Cabin           204 non-null    object \n",
      " 9   Q               891 non-null    uint8  \n",
      " 10  S               891 non-null    uint8  \n",
      " 11  Master          891 non-null    uint8  \n",
      " 12  Miss            891 non-null    uint8  \n",
      " 13  Mr              891 non-null    uint8  \n",
      " 14  Mrs             891 non-null    uint8  \n",
      " 15  WCG             891 non-null    float64\n",
      " 16  Family_Size     891 non-null    int64  \n",
      " 17  Solo_Traveller  891 non-null    bool   \n",
      "dtypes: bool(1), float64(3), int64(6), object(2), uint8(6)\n",
      "memory usage: 82.8+ KB\n",
      "<class 'pandas.core.frame.DataFrame'>\n",
      "RangeIndex: 418 entries, 0 to 417\n",
      "Data columns (total 17 columns):\n",
      " #   Column          Non-Null Count  Dtype  \n",
      "---  ------          --------------  -----  \n",
      " 0   Pclass          418 non-null    int64  \n",
      " 1   Sex             418 non-null    int64  \n",
      " 2   Age             418 non-null    float64\n",
      " 3   SibSp           418 non-null    int64  \n",
      " 4   Parch           418 non-null    int64  \n",
      " 5   Ticket          418 non-null    object \n",
      " 6   Fare            417 non-null    float64\n",
      " 7   Cabin           91 non-null     object \n",
      " 8   Q               418 non-null    uint8  \n",
      " 9   S               418 non-null    uint8  \n",
      " 10  Master          418 non-null    uint8  \n",
      " 11  Miss            418 non-null    uint8  \n",
      " 12  Mr              418 non-null    uint8  \n",
      " 13  Mrs             418 non-null    uint8  \n",
      " 14  WCG             418 non-null    float64\n",
      " 15  Family_Size     418 non-null    int64  \n",
      " 16  Solo_Traveller  418 non-null    bool   \n",
      "dtypes: bool(1), float64(3), int64(5), object(2), uint8(6)\n",
      "memory usage: 35.6+ KB\n"
     ]
    }
   ],
   "source": [
    "train[\"Age_Category\"] = train[\"Age_Category\"].replace([\"Children\",\"Teenager\",\"Adult\",\"Senior Citizen\"], [0, 1, 2, 3])\n",
    "test[\"Age_Category\"] = test[\"Age_Category\"].replace([\"Children\",\"Teenager\",\"Adult\",\"Senior Citizen\"], [0, 1, 2, 3])\n",
    "\n",
    "train = train.drop([\"Age_Category\"], axis = \"columns\")\n",
    "test = test.drop([\"Age_Category\"], axis = \"columns\")\n",
    "train.info()\n",
    "test.info()"
   ]
  },
  {
   "cell_type": "code",
   "execution_count": 30,
   "id": "664ed94c",
   "metadata": {
    "execution": {
     "iopub.execute_input": "2023-06-27T21:57:16.413284Z",
     "iopub.status.busy": "2023-06-27T21:57:16.412875Z",
     "iopub.status.idle": "2023-06-27T21:57:16.422516Z",
     "shell.execute_reply": "2023-06-27T21:57:16.421271Z"
    },
    "id": "MVrcGSjB0H1v",
    "papermill": {
     "duration": 0.034237,
     "end_time": "2023-06-27T21:57:16.425478",
     "exception": false,
     "start_time": "2023-06-27T21:57:16.391241",
     "status": "completed"
    },
    "tags": []
   },
   "outputs": [],
   "source": [
    "def sibsp_category(df):\n",
    "    sibsp = []\n",
    "\n",
    "    for i in df[\"SibSp\"]:\n",
    "        if i==0:\n",
    "            sibsp.append(\"No Sibling/Spouse\")\n",
    "        elif i==1 or i==2:\n",
    "            sibsp.append(\"Average Sibling/Spouse\")\n",
    "        else:\n",
    "            sibsp.append(\"Extra Sibling/Spouse\")\n",
    "    df[\"SibSp_Category\"] = sibsp\n",
    "sibsp_category(train)\n",
    "sibsp_category(test)"
   ]
  },
  {
   "cell_type": "code",
   "execution_count": 31,
   "id": "42439f45",
   "metadata": {
    "execution": {
     "iopub.execute_input": "2023-06-27T21:57:16.468633Z",
     "iopub.status.busy": "2023-06-27T21:57:16.468078Z",
     "iopub.status.idle": "2023-06-27T21:57:16.495529Z",
     "shell.execute_reply": "2023-06-27T21:57:16.493752Z"
    },
    "id": "ygjUrx7g0H1v",
    "outputId": "031d1a81-781b-46dd-9210-cfb1eef685dc",
    "papermill": {
     "duration": 0.05139,
     "end_time": "2023-06-27T21:57:16.498070",
     "exception": false,
     "start_time": "2023-06-27T21:57:16.446680",
     "status": "completed"
    },
    "tags": []
   },
   "outputs": [
    {
     "name": "stdout",
     "output_type": "stream",
     "text": [
      "<class 'pandas.core.frame.DataFrame'>\n",
      "RangeIndex: 891 entries, 0 to 890\n",
      "Data columns (total 19 columns):\n",
      " #   Column          Non-Null Count  Dtype  \n",
      "---  ------          --------------  -----  \n",
      " 0   Survived        891 non-null    int64  \n",
      " 1   Pclass          891 non-null    int64  \n",
      " 2   Sex             891 non-null    int64  \n",
      " 3   Age             891 non-null    float64\n",
      " 4   SibSp           891 non-null    int64  \n",
      " 5   Parch           891 non-null    int64  \n",
      " 6   Ticket          891 non-null    object \n",
      " 7   Fare            891 non-null    float64\n",
      " 8   Cabin           204 non-null    object \n",
      " 9   Q               891 non-null    uint8  \n",
      " 10  S               891 non-null    uint8  \n",
      " 11  Master          891 non-null    uint8  \n",
      " 12  Miss            891 non-null    uint8  \n",
      " 13  Mr              891 non-null    uint8  \n",
      " 14  Mrs             891 non-null    uint8  \n",
      " 15  WCG             891 non-null    float64\n",
      " 16  Family_Size     891 non-null    int64  \n",
      " 17  Solo_Traveller  891 non-null    bool   \n",
      " 18  SibSp_Category  891 non-null    int64  \n",
      "dtypes: bool(1), float64(3), int64(7), object(2), uint8(6)\n",
      "memory usage: 89.7+ KB\n",
      "<class 'pandas.core.frame.DataFrame'>\n",
      "RangeIndex: 418 entries, 0 to 417\n",
      "Data columns (total 18 columns):\n",
      " #   Column          Non-Null Count  Dtype  \n",
      "---  ------          --------------  -----  \n",
      " 0   Pclass          418 non-null    int64  \n",
      " 1   Sex             418 non-null    int64  \n",
      " 2   Age             418 non-null    float64\n",
      " 3   SibSp           418 non-null    int64  \n",
      " 4   Parch           418 non-null    int64  \n",
      " 5   Ticket          418 non-null    object \n",
      " 6   Fare            417 non-null    float64\n",
      " 7   Cabin           91 non-null     object \n",
      " 8   Q               418 non-null    uint8  \n",
      " 9   S               418 non-null    uint8  \n",
      " 10  Master          418 non-null    uint8  \n",
      " 11  Miss            418 non-null    uint8  \n",
      " 12  Mr              418 non-null    uint8  \n",
      " 13  Mrs             418 non-null    uint8  \n",
      " 14  WCG             418 non-null    float64\n",
      " 15  Family_Size     418 non-null    int64  \n",
      " 16  Solo_Traveller  418 non-null    bool   \n",
      " 17  SibSp_Category  418 non-null    int64  \n",
      "dtypes: bool(1), float64(3), int64(6), object(2), uint8(6)\n",
      "memory usage: 38.9+ KB\n"
     ]
    }
   ],
   "source": [
    "train[\"SibSp_Category\"] = train[\"SibSp_Category\"].replace([\"No Sibling/Spouse\",\"Average Sibling/Spouse\",\"Extra Sibling/Spouse\"], [0, 1, 2])\n",
    "train.info()\n",
    "test[\"SibSp_Category\"] = test[\"SibSp_Category\"].replace([\"No Sibling/Spouse\",\"Average Sibling/Spouse\",\"Extra Sibling/Spouse\"], [0, 1, 2])\n",
    "test.info()"
   ]
  },
  {
   "cell_type": "code",
   "execution_count": 32,
   "id": "4d315668",
   "metadata": {
    "execution": {
     "iopub.execute_input": "2023-06-27T21:57:16.539835Z",
     "iopub.status.busy": "2023-06-27T21:57:16.539470Z",
     "iopub.status.idle": "2023-06-27T21:57:16.549901Z",
     "shell.execute_reply": "2023-06-27T21:57:16.549003Z"
    },
    "id": "JKDbbGQV0H1v",
    "papermill": {
     "duration": 0.0334,
     "end_time": "2023-06-27T21:57:16.551502",
     "exception": false,
     "start_time": "2023-06-27T21:57:16.518102",
     "status": "completed"
    },
    "tags": []
   },
   "outputs": [],
   "source": [
    "def cabin_count(x):\n",
    "    if str(x) == 'nan':\n",
    "        return 0\n",
    "    else: return len(str(x).split(\" \"))\n",
    "\n",
    "test['Cabin_Count'] =test['Cabin'].apply(cabin_count)\n",
    "test\n",
    "train['Cabin_Count'] =train['Cabin'].apply(cabin_count)\n",
    "train\n",
    "train = train.drop([\"Cabin\"], axis = \"columns\")\n",
    "test = test.drop([\"Cabin\"], axis = \"columns\")"
   ]
  },
  {
   "cell_type": "code",
   "execution_count": 33,
   "id": "5d1c4c61",
   "metadata": {
    "execution": {
     "iopub.execute_input": "2023-06-27T21:57:16.593353Z",
     "iopub.status.busy": "2023-06-27T21:57:16.592536Z",
     "iopub.status.idle": "2023-06-27T21:57:16.601307Z",
     "shell.execute_reply": "2023-06-27T21:57:16.600273Z"
    },
    "id": "IgXYSEH80H1v",
    "papermill": {
     "duration": 0.032066,
     "end_time": "2023-06-27T21:57:16.603698",
     "exception": false,
     "start_time": "2023-06-27T21:57:16.571632",
     "status": "completed"
    },
    "tags": []
   },
   "outputs": [],
   "source": [
    "train['Ticket_group_size'] = train.groupby('Ticket')['Ticket'].transform('count')\n",
    "test['Ticket_group_size'] = test.groupby('Ticket')['Ticket'].transform('count')"
   ]
  },
  {
   "cell_type": "code",
   "execution_count": 34,
   "id": "aeb309c2",
   "metadata": {
    "execution": {
     "iopub.execute_input": "2023-06-27T21:57:16.645070Z",
     "iopub.status.busy": "2023-06-27T21:57:16.644688Z",
     "iopub.status.idle": "2023-06-27T21:57:16.652684Z",
     "shell.execute_reply": "2023-06-27T21:57:16.652078Z"
    },
    "id": "F9zr-x-U0H1v",
    "papermill": {
     "duration": 0.031065,
     "end_time": "2023-06-27T21:57:16.654905",
     "exception": false,
     "start_time": "2023-06-27T21:57:16.623840",
     "status": "completed"
    },
    "tags": []
   },
   "outputs": [],
   "source": [
    "train['Party_size'] = train[['Family_Size', 'Ticket_group_size']].max(axis=1)\n",
    "test['Party_size'] = test[['Family_Size', 'Ticket_group_size']].max(axis=1)"
   ]
  },
  {
   "cell_type": "code",
   "execution_count": 35,
   "id": "da7a853d",
   "metadata": {
    "execution": {
     "iopub.execute_input": "2023-06-27T21:57:16.696452Z",
     "iopub.status.busy": "2023-06-27T21:57:16.696108Z",
     "iopub.status.idle": "2023-06-27T21:57:16.701706Z",
     "shell.execute_reply": "2023-06-27T21:57:16.700722Z"
    },
    "id": "pv8MlJQ60H1v",
    "papermill": {
     "duration": 0.028622,
     "end_time": "2023-06-27T21:57:16.703491",
     "exception": false,
     "start_time": "2023-06-27T21:57:16.674869",
     "status": "completed"
    },
    "tags": []
   },
   "outputs": [],
   "source": [
    "train['Fare_per_passenger'] = train['Fare'] / train['Ticket_group_size']\n",
    "test['Fare_per_passenger'] = test['Fare'] / test['Ticket_group_size']"
   ]
  },
  {
   "cell_type": "code",
   "execution_count": 36,
   "id": "a24cfee2",
   "metadata": {
    "execution": {
     "iopub.execute_input": "2023-06-27T21:57:16.746120Z",
     "iopub.status.busy": "2023-06-27T21:57:16.745778Z",
     "iopub.status.idle": "2023-06-27T21:57:16.752458Z",
     "shell.execute_reply": "2023-06-27T21:57:16.751583Z"
    },
    "id": "raJ-7fsj0H1v",
    "papermill": {
     "duration": 0.030739,
     "end_time": "2023-06-27T21:57:16.754491",
     "exception": false,
     "start_time": "2023-06-27T21:57:16.723752",
     "status": "completed"
    },
    "tags": []
   },
   "outputs": [],
   "source": [
    "train = train.drop([\"SibSp_Category\",\"SibSp\",\"Age\", \"Ticket\",\"Family_Size\",\"Ticket_group_size\",\"Party_size\",\"Fare\",\"Fare_per_passenger\"], axis = \"columns\")\n",
    "test = test.drop([\"SibSp_Category\",\"SibSp\",\"Age\", \"Ticket\",\"Family_Size\",\"Ticket_group_size\",\"Party_size\",\"Fare\",\"Fare_per_passenger\"], axis = \"columns\")"
   ]
  },
  {
   "cell_type": "code",
   "execution_count": 37,
   "id": "50961570",
   "metadata": {
    "execution": {
     "iopub.execute_input": "2023-06-27T21:57:16.798171Z",
     "iopub.status.busy": "2023-06-27T21:57:16.797845Z",
     "iopub.status.idle": "2023-06-27T21:57:16.803630Z",
     "shell.execute_reply": "2023-06-27T21:57:16.802723Z"
    },
    "id": "9fWK04tw0H1v",
    "papermill": {
     "duration": 0.030717,
     "end_time": "2023-06-27T21:57:16.805836",
     "exception": false,
     "start_time": "2023-06-27T21:57:16.775119",
     "status": "completed"
    },
    "tags": []
   },
   "outputs": [],
   "source": [
    "test['WCG'] = test['WCG'].astype(int)\n",
    "train['WCG'] = train['WCG'].astype(int)"
   ]
  },
  {
   "cell_type": "code",
   "execution_count": 38,
   "id": "33120054",
   "metadata": {
    "execution": {
     "iopub.execute_input": "2023-06-27T21:57:16.847285Z",
     "iopub.status.busy": "2023-06-27T21:57:16.846441Z",
     "iopub.status.idle": "2023-06-27T21:57:16.858588Z",
     "shell.execute_reply": "2023-06-27T21:57:16.857813Z"
    },
    "id": "FMQCIjiS0H1w",
    "outputId": "9e72f44a-f113-49c8-bb41-7534d4c683cd",
    "papermill": {
     "duration": 0.034292,
     "end_time": "2023-06-27T21:57:16.860179",
     "exception": false,
     "start_time": "2023-06-27T21:57:16.825887",
     "status": "completed"
    },
    "tags": []
   },
   "outputs": [
    {
     "data": {
      "text/html": [
       "<div>\n",
       "<style scoped>\n",
       "    .dataframe tbody tr th:only-of-type {\n",
       "        vertical-align: middle;\n",
       "    }\n",
       "\n",
       "    .dataframe tbody tr th {\n",
       "        vertical-align: top;\n",
       "    }\n",
       "\n",
       "    .dataframe thead th {\n",
       "        text-align: right;\n",
       "    }\n",
       "</style>\n",
       "<table border=\"1\" class=\"dataframe\">\n",
       "  <thead>\n",
       "    <tr style=\"text-align: right;\">\n",
       "      <th></th>\n",
       "      <th>Survived</th>\n",
       "      <th>Pclass</th>\n",
       "      <th>Sex</th>\n",
       "      <th>Parch</th>\n",
       "      <th>Q</th>\n",
       "      <th>S</th>\n",
       "      <th>Master</th>\n",
       "      <th>Miss</th>\n",
       "      <th>Mr</th>\n",
       "      <th>Mrs</th>\n",
       "      <th>WCG</th>\n",
       "      <th>Solo_Traveller</th>\n",
       "      <th>Cabin_Count</th>\n",
       "    </tr>\n",
       "  </thead>\n",
       "  <tbody>\n",
       "    <tr>\n",
       "      <th>0</th>\n",
       "      <td>0</td>\n",
       "      <td>3</td>\n",
       "      <td>0</td>\n",
       "      <td>0</td>\n",
       "      <td>0</td>\n",
       "      <td>1</td>\n",
       "      <td>0</td>\n",
       "      <td>0</td>\n",
       "      <td>1</td>\n",
       "      <td>0</td>\n",
       "      <td>0</td>\n",
       "      <td>False</td>\n",
       "      <td>0</td>\n",
       "    </tr>\n",
       "    <tr>\n",
       "      <th>1</th>\n",
       "      <td>1</td>\n",
       "      <td>1</td>\n",
       "      <td>1</td>\n",
       "      <td>0</td>\n",
       "      <td>0</td>\n",
       "      <td>0</td>\n",
       "      <td>0</td>\n",
       "      <td>0</td>\n",
       "      <td>0</td>\n",
       "      <td>1</td>\n",
       "      <td>0</td>\n",
       "      <td>False</td>\n",
       "      <td>1</td>\n",
       "    </tr>\n",
       "    <tr>\n",
       "      <th>2</th>\n",
       "      <td>1</td>\n",
       "      <td>3</td>\n",
       "      <td>1</td>\n",
       "      <td>0</td>\n",
       "      <td>0</td>\n",
       "      <td>1</td>\n",
       "      <td>0</td>\n",
       "      <td>1</td>\n",
       "      <td>0</td>\n",
       "      <td>0</td>\n",
       "      <td>0</td>\n",
       "      <td>True</td>\n",
       "      <td>0</td>\n",
       "    </tr>\n",
       "    <tr>\n",
       "      <th>3</th>\n",
       "      <td>1</td>\n",
       "      <td>1</td>\n",
       "      <td>1</td>\n",
       "      <td>0</td>\n",
       "      <td>0</td>\n",
       "      <td>1</td>\n",
       "      <td>0</td>\n",
       "      <td>0</td>\n",
       "      <td>0</td>\n",
       "      <td>1</td>\n",
       "      <td>0</td>\n",
       "      <td>False</td>\n",
       "      <td>1</td>\n",
       "    </tr>\n",
       "    <tr>\n",
       "      <th>4</th>\n",
       "      <td>0</td>\n",
       "      <td>3</td>\n",
       "      <td>0</td>\n",
       "      <td>0</td>\n",
       "      <td>0</td>\n",
       "      <td>1</td>\n",
       "      <td>0</td>\n",
       "      <td>0</td>\n",
       "      <td>1</td>\n",
       "      <td>0</td>\n",
       "      <td>0</td>\n",
       "      <td>True</td>\n",
       "      <td>0</td>\n",
       "    </tr>\n",
       "  </tbody>\n",
       "</table>\n",
       "</div>"
      ],
      "text/plain": [
       "   Survived  Pclass  Sex  Parch  Q  S  Master  Miss  Mr  Mrs  WCG  \\\n",
       "0         0       3    0      0  0  1       0     0   1    0    0   \n",
       "1         1       1    1      0  0  0       0     0   0    1    0   \n",
       "2         1       3    1      0  0  1       0     1   0    0    0   \n",
       "3         1       1    1      0  0  1       0     0   0    1    0   \n",
       "4         0       3    0      0  0  1       0     0   1    0    0   \n",
       "\n",
       "   Solo_Traveller  Cabin_Count  \n",
       "0           False            0  \n",
       "1           False            1  \n",
       "2            True            0  \n",
       "3           False            1  \n",
       "4            True            0  "
      ]
     },
     "execution_count": 38,
     "metadata": {},
     "output_type": "execute_result"
    }
   ],
   "source": [
    "train.head()"
   ]
  },
  {
   "cell_type": "code",
   "execution_count": 39,
   "id": "19160765",
   "metadata": {
    "execution": {
     "iopub.execute_input": "2023-06-27T21:57:16.902170Z",
     "iopub.status.busy": "2023-06-27T21:57:16.901570Z",
     "iopub.status.idle": "2023-06-27T21:57:16.914085Z",
     "shell.execute_reply": "2023-06-27T21:57:16.913220Z"
    },
    "id": "3FkHt4Bi0H1w",
    "outputId": "62616504-8245-4d09-fb0b-faffeca167c3",
    "papermill": {
     "duration": 0.035531,
     "end_time": "2023-06-27T21:57:16.915779",
     "exception": false,
     "start_time": "2023-06-27T21:57:16.880248",
     "status": "completed"
    },
    "tags": []
   },
   "outputs": [
    {
     "data": {
      "text/html": [
       "<div>\n",
       "<style scoped>\n",
       "    .dataframe tbody tr th:only-of-type {\n",
       "        vertical-align: middle;\n",
       "    }\n",
       "\n",
       "    .dataframe tbody tr th {\n",
       "        vertical-align: top;\n",
       "    }\n",
       "\n",
       "    .dataframe thead th {\n",
       "        text-align: right;\n",
       "    }\n",
       "</style>\n",
       "<table border=\"1\" class=\"dataframe\">\n",
       "  <thead>\n",
       "    <tr style=\"text-align: right;\">\n",
       "      <th></th>\n",
       "      <th>Pclass</th>\n",
       "      <th>Sex</th>\n",
       "      <th>Parch</th>\n",
       "      <th>Q</th>\n",
       "      <th>S</th>\n",
       "      <th>Master</th>\n",
       "      <th>Miss</th>\n",
       "      <th>Mr</th>\n",
       "      <th>Mrs</th>\n",
       "      <th>WCG</th>\n",
       "      <th>Solo_Traveller</th>\n",
       "      <th>Cabin_Count</th>\n",
       "    </tr>\n",
       "  </thead>\n",
       "  <tbody>\n",
       "    <tr>\n",
       "      <th>0</th>\n",
       "      <td>3</td>\n",
       "      <td>0</td>\n",
       "      <td>0</td>\n",
       "      <td>1</td>\n",
       "      <td>0</td>\n",
       "      <td>0</td>\n",
       "      <td>0</td>\n",
       "      <td>1</td>\n",
       "      <td>0</td>\n",
       "      <td>0</td>\n",
       "      <td>True</td>\n",
       "      <td>0</td>\n",
       "    </tr>\n",
       "    <tr>\n",
       "      <th>1</th>\n",
       "      <td>3</td>\n",
       "      <td>1</td>\n",
       "      <td>0</td>\n",
       "      <td>0</td>\n",
       "      <td>1</td>\n",
       "      <td>0</td>\n",
       "      <td>0</td>\n",
       "      <td>0</td>\n",
       "      <td>1</td>\n",
       "      <td>0</td>\n",
       "      <td>False</td>\n",
       "      <td>0</td>\n",
       "    </tr>\n",
       "    <tr>\n",
       "      <th>2</th>\n",
       "      <td>2</td>\n",
       "      <td>0</td>\n",
       "      <td>0</td>\n",
       "      <td>1</td>\n",
       "      <td>0</td>\n",
       "      <td>0</td>\n",
       "      <td>0</td>\n",
       "      <td>1</td>\n",
       "      <td>0</td>\n",
       "      <td>0</td>\n",
       "      <td>True</td>\n",
       "      <td>0</td>\n",
       "    </tr>\n",
       "    <tr>\n",
       "      <th>3</th>\n",
       "      <td>3</td>\n",
       "      <td>0</td>\n",
       "      <td>0</td>\n",
       "      <td>0</td>\n",
       "      <td>1</td>\n",
       "      <td>0</td>\n",
       "      <td>0</td>\n",
       "      <td>1</td>\n",
       "      <td>0</td>\n",
       "      <td>0</td>\n",
       "      <td>True</td>\n",
       "      <td>0</td>\n",
       "    </tr>\n",
       "    <tr>\n",
       "      <th>4</th>\n",
       "      <td>3</td>\n",
       "      <td>1</td>\n",
       "      <td>1</td>\n",
       "      <td>0</td>\n",
       "      <td>1</td>\n",
       "      <td>0</td>\n",
       "      <td>0</td>\n",
       "      <td>0</td>\n",
       "      <td>1</td>\n",
       "      <td>0</td>\n",
       "      <td>False</td>\n",
       "      <td>0</td>\n",
       "    </tr>\n",
       "  </tbody>\n",
       "</table>\n",
       "</div>"
      ],
      "text/plain": [
       "   Pclass  Sex  Parch  Q  S  Master  Miss  Mr  Mrs  WCG  Solo_Traveller  \\\n",
       "0       3    0      0  1  0       0     0   1    0    0            True   \n",
       "1       3    1      0  0  1       0     0   0    1    0           False   \n",
       "2       2    0      0  1  0       0     0   1    0    0            True   \n",
       "3       3    0      0  0  1       0     0   1    0    0            True   \n",
       "4       3    1      1  0  1       0     0   0    1    0           False   \n",
       "\n",
       "   Cabin_Count  \n",
       "0            0  \n",
       "1            0  \n",
       "2            0  \n",
       "3            0  \n",
       "4            0  "
      ]
     },
     "execution_count": 39,
     "metadata": {},
     "output_type": "execute_result"
    }
   ],
   "source": [
    "test.head()"
   ]
  },
  {
   "cell_type": "code",
   "execution_count": 40,
   "id": "4b67a71d",
   "metadata": {
    "execution": {
     "iopub.execute_input": "2023-06-27T21:57:16.957637Z",
     "iopub.status.busy": "2023-06-27T21:57:16.956737Z",
     "iopub.status.idle": "2023-06-27T21:57:16.965822Z",
     "shell.execute_reply": "2023-06-27T21:57:16.965252Z"
    },
    "id": "KhDtonvQ0H1x",
    "outputId": "3490843f-61c5-498a-a263-5708a764d524",
    "papermill": {
     "duration": 0.031568,
     "end_time": "2023-06-27T21:57:16.967301",
     "exception": false,
     "start_time": "2023-06-27T21:57:16.935733",
     "status": "completed"
    },
    "tags": []
   },
   "outputs": [
    {
     "data": {
      "text/plain": [
       "Pclass            0.129755\n",
       "Sex               0.643977\n",
       "Parch             0.170176\n",
       "Q                 0.012168\n",
       "S                 0.101449\n",
       "Master            0.369449\n",
       "Miss              0.577692\n",
       "Mr                0.540564\n",
       "Mrs               0.718799\n",
       "WCG               0.466934\n",
       "Solo_Traveller    0.176734\n",
       "Cabin_Count       0.513552\n",
       "dtype: float64"
      ]
     },
     "execution_count": 40,
     "metadata": {},
     "output_type": "execute_result"
    }
   ],
   "source": [
    "tm = train.groupby(\"Survived\").mean()\n",
    "v1 = tm.iloc[0,:]\n",
    "v2 = tm.iloc[1,:]\n",
    "abs((v2-v1)/(v1+v2))"
   ]
  },
  {
   "cell_type": "code",
   "execution_count": 41,
   "id": "e849226c",
   "metadata": {
    "execution": {
     "iopub.execute_input": "2023-06-27T21:57:17.009529Z",
     "iopub.status.busy": "2023-06-27T21:57:17.008768Z",
     "iopub.status.idle": "2023-06-27T21:57:17.027155Z",
     "shell.execute_reply": "2023-06-27T21:57:17.025733Z"
    },
    "id": "hgMBlJTy0H1x",
    "outputId": "27f01a69-05d3-41b4-970e-774250fc6fb5",
    "papermill": {
     "duration": 0.041507,
     "end_time": "2023-06-27T21:57:17.029019",
     "exception": false,
     "start_time": "2023-06-27T21:57:16.987512",
     "status": "completed"
    },
    "tags": []
   },
   "outputs": [
    {
     "name": "stdout",
     "output_type": "stream",
     "text": [
      "<class 'pandas.core.frame.DataFrame'>\n",
      "RangeIndex: 891 entries, 0 to 890\n",
      "Data columns (total 13 columns):\n",
      " #   Column          Non-Null Count  Dtype\n",
      "---  ------          --------------  -----\n",
      " 0   Survived        891 non-null    int64\n",
      " 1   Pclass          891 non-null    int64\n",
      " 2   Sex             891 non-null    int64\n",
      " 3   Parch           891 non-null    int64\n",
      " 4   Q               891 non-null    uint8\n",
      " 5   S               891 non-null    uint8\n",
      " 6   Master          891 non-null    uint8\n",
      " 7   Miss            891 non-null    uint8\n",
      " 8   Mr              891 non-null    uint8\n",
      " 9   Mrs             891 non-null    uint8\n",
      " 10  WCG             891 non-null    int64\n",
      " 11  Solo_Traveller  891 non-null    bool \n",
      " 12  Cabin_Count     891 non-null    int64\n",
      "dtypes: bool(1), int64(6), uint8(6)\n",
      "memory usage: 48.0 KB\n",
      "<class 'pandas.core.frame.DataFrame'>\n",
      "RangeIndex: 418 entries, 0 to 417\n",
      "Data columns (total 12 columns):\n",
      " #   Column          Non-Null Count  Dtype\n",
      "---  ------          --------------  -----\n",
      " 0   Pclass          418 non-null    int64\n",
      " 1   Sex             418 non-null    int64\n",
      " 2   Parch           418 non-null    int64\n",
      " 3   Q               418 non-null    uint8\n",
      " 4   S               418 non-null    uint8\n",
      " 5   Master          418 non-null    uint8\n",
      " 6   Miss            418 non-null    uint8\n",
      " 7   Mr              418 non-null    uint8\n",
      " 8   Mrs             418 non-null    uint8\n",
      " 9   WCG             418 non-null    int64\n",
      " 10  Solo_Traveller  418 non-null    bool \n",
      " 11  Cabin_Count     418 non-null    int64\n",
      "dtypes: bool(1), int64(5), uint8(6)\n",
      "memory usage: 19.3 KB\n"
     ]
    }
   ],
   "source": [
    "train.info()\n",
    "test.info()"
   ]
  },
  {
   "cell_type": "markdown",
   "id": "f5dc90db",
   "metadata": {
    "id": "wqn4nwQx0H1x",
    "papermill": {
     "duration": 0.020339,
     "end_time": "2023-06-27T21:57:17.070229",
     "exception": false,
     "start_time": "2023-06-27T21:57:17.049890",
     "status": "completed"
    },
    "tags": []
   },
   "source": [
    "# **ML Models**"
   ]
  },
  {
   "cell_type": "code",
   "execution_count": 42,
   "id": "2cafb565",
   "metadata": {
    "execution": {
     "iopub.execute_input": "2023-06-27T21:57:17.112272Z",
     "iopub.status.busy": "2023-06-27T21:57:17.111934Z",
     "iopub.status.idle": "2023-06-27T21:57:27.425978Z",
     "shell.execute_reply": "2023-06-27T21:57:27.425356Z"
    },
    "id": "OnAnVuDh0asp",
    "outputId": "65d2ac6d-2f57-4573-cb37-8f8a1956a2e0",
    "papermill": {
     "duration": 10.337197,
     "end_time": "2023-06-27T21:57:27.427766",
     "exception": false,
     "start_time": "2023-06-27T21:57:17.090569",
     "status": "completed"
    },
    "tags": []
   },
   "outputs": [
    {
     "name": "stdout",
     "output_type": "stream",
     "text": [
      "Requirement already satisfied: catboost in /opt/conda/lib/python3.10/site-packages (1.2)\r\n",
      "Requirement already satisfied: graphviz in /opt/conda/lib/python3.10/site-packages (from catboost) (0.20.1)\r\n",
      "Requirement already satisfied: matplotlib in /opt/conda/lib/python3.10/site-packages (from catboost) (3.6.3)\r\n",
      "Requirement already satisfied: numpy>=1.16.0 in /opt/conda/lib/python3.10/site-packages (from catboost) (1.23.5)\r\n",
      "Requirement already satisfied: pandas>=0.24 in /opt/conda/lib/python3.10/site-packages (from catboost) (1.5.3)\r\n",
      "Requirement already satisfied: scipy in /opt/conda/lib/python3.10/site-packages (from catboost) (1.10.1)\r\n",
      "Requirement already satisfied: plotly in /opt/conda/lib/python3.10/site-packages (from catboost) (5.14.1)\r\n",
      "Requirement already satisfied: six in /opt/conda/lib/python3.10/site-packages (from catboost) (1.16.0)\r\n",
      "Requirement already satisfied: python-dateutil>=2.8.1 in /opt/conda/lib/python3.10/site-packages (from pandas>=0.24->catboost) (2.8.2)\r\n",
      "Requirement already satisfied: pytz>=2020.1 in /opt/conda/lib/python3.10/site-packages (from pandas>=0.24->catboost) (2023.3)\r\n",
      "Requirement already satisfied: contourpy>=1.0.1 in /opt/conda/lib/python3.10/site-packages (from matplotlib->catboost) (1.0.7)\r\n",
      "Requirement already satisfied: cycler>=0.10 in /opt/conda/lib/python3.10/site-packages (from matplotlib->catboost) (0.11.0)\r\n",
      "Requirement already satisfied: fonttools>=4.22.0 in /opt/conda/lib/python3.10/site-packages (from matplotlib->catboost) (4.39.3)\r\n",
      "Requirement already satisfied: kiwisolver>=1.0.1 in /opt/conda/lib/python3.10/site-packages (from matplotlib->catboost) (1.4.4)\r\n",
      "Requirement already satisfied: packaging>=20.0 in /opt/conda/lib/python3.10/site-packages (from matplotlib->catboost) (21.3)\r\n",
      "Requirement already satisfied: pillow>=6.2.0 in /opt/conda/lib/python3.10/site-packages (from matplotlib->catboost) (9.5.0)\r\n",
      "Requirement already satisfied: pyparsing>=2.2.1 in /opt/conda/lib/python3.10/site-packages (from matplotlib->catboost) (3.0.9)\r\n",
      "Requirement already satisfied: tenacity>=6.2.0 in /opt/conda/lib/python3.10/site-packages (from plotly->catboost) (8.2.2)\r\n",
      "\u001b[33mWARNING: Running pip as the 'root' user can result in broken permissions and conflicting behaviour with the system package manager. It is recommended to use a virtual environment instead: https://pip.pypa.io/warnings/venv\u001b[0m\u001b[33m\r\n",
      "\u001b[0mNote: you may need to restart the kernel to use updated packages.\n"
     ]
    }
   ],
   "source": [
    "pip install catboost"
   ]
  },
  {
   "cell_type": "code",
   "execution_count": 43,
   "id": "a1b975ba",
   "metadata": {
    "execution": {
     "iopub.execute_input": "2023-06-27T21:57:27.470152Z",
     "iopub.status.busy": "2023-06-27T21:57:27.469822Z",
     "iopub.status.idle": "2023-06-27T21:57:29.442397Z",
     "shell.execute_reply": "2023-06-27T21:57:29.441165Z"
    },
    "id": "cc-5iet90H1x",
    "papermill": {
     "duration": 1.996411,
     "end_time": "2023-06-27T21:57:29.444584",
     "exception": false,
     "start_time": "2023-06-27T21:57:27.448173",
     "status": "completed"
    },
    "tags": []
   },
   "outputs": [],
   "source": [
    "from sklearn.linear_model import LogisticRegression, RidgeClassifierCV\n",
    "from sklearn.tree import DecisionTreeClassifier\n",
    "from sklearn.ensemble import RandomForestClassifier, AdaBoostClassifier, GradientBoostingClassifier, StackingClassifier, BaggingClassifier, VotingClassifier\n",
    "from xgboost import XGBClassifier\n",
    "from lightgbm import LGBMClassifier\n",
    "from catboost import CatBoostClassifier\n",
    "from sklearn.svm import SVC\n",
    "\n",
    "from sklearn.metrics import confusion_matrix\n",
    "from sklearn.metrics import accuracy_score, recall_score, precision_score, f1_score, confusion_matrix, classification_report\n",
    "from sklearn.model_selection import train_test_split"
   ]
  },
  {
   "cell_type": "code",
   "execution_count": 44,
   "id": "d0d6c93c",
   "metadata": {
    "execution": {
     "iopub.execute_input": "2023-06-27T21:57:29.486983Z",
     "iopub.status.busy": "2023-06-27T21:57:29.486648Z",
     "iopub.status.idle": "2023-06-27T21:57:29.493414Z",
     "shell.execute_reply": "2023-06-27T21:57:29.492115Z"
    },
    "id": "S2cRvODz0H1x",
    "papermill": {
     "duration": 0.030083,
     "end_time": "2023-06-27T21:57:29.495223",
     "exception": false,
     "start_time": "2023-06-27T21:57:29.465140",
     "status": "completed"
    },
    "tags": []
   },
   "outputs": [],
   "source": [
    "y = train[\"Survived\"]\n",
    "train.drop(\"Survived\", axis = \"columns\", inplace = True)\n",
    "x = train"
   ]
  },
  {
   "cell_type": "code",
   "execution_count": 45,
   "id": "efc8b415",
   "metadata": {
    "execution": {
     "iopub.execute_input": "2023-06-27T21:57:29.537752Z",
     "iopub.status.busy": "2023-06-27T21:57:29.537410Z",
     "iopub.status.idle": "2023-06-27T21:57:29.544894Z",
     "shell.execute_reply": "2023-06-27T21:57:29.543997Z"
    },
    "id": "tcjnpKo60H1x",
    "papermill": {
     "duration": 0.031003,
     "end_time": "2023-06-27T21:57:29.546952",
     "exception": false,
     "start_time": "2023-06-27T21:57:29.515949",
     "status": "completed"
    },
    "tags": []
   },
   "outputs": [],
   "source": [
    "x_train, x_test, y_train, y_test = train_test_split(x, y, test_size=0.2, random_state=11)\n",
    "training_score = []\n",
    "testing_score = []"
   ]
  },
  {
   "cell_type": "code",
   "execution_count": 46,
   "id": "c8c3d906",
   "metadata": {
    "execution": {
     "iopub.execute_input": "2023-06-27T21:57:29.590633Z",
     "iopub.status.busy": "2023-06-27T21:57:29.590300Z",
     "iopub.status.idle": "2023-06-27T21:57:29.596901Z",
     "shell.execute_reply": "2023-06-27T21:57:29.595847Z"
    },
    "id": "98Fs5JRA0H1x",
    "papermill": {
     "duration": 0.03079,
     "end_time": "2023-06-27T21:57:29.598800",
     "exception": false,
     "start_time": "2023-06-27T21:57:29.568010",
     "status": "completed"
    },
    "tags": []
   },
   "outputs": [],
   "source": [
    "def model_predict(model):\n",
    "    model.fit(x_train,y_train)\n",
    "    x_train_pred = model.predict(x_train)\n",
    "    x_test_pred = model.predict(x_test)\n",
    "    a = accuracy_score(y_train,x_train_pred)\n",
    "    b = accuracy_score(y_test,x_test_pred)\n",
    "    training_score.append(a)\n",
    "    testing_score.append(b)\n",
    "    print(f\"Accuracy_Score of {model} model on Training Data is:\",a)\n",
    "    print(f\"Accuracy_Score of {model} model on Testing Data is:\",b)\n",
    "    print(\"\\n ----------------------------------------------------\")\n",
    "    print(f\"Precision Score of {model} model is:\",precision_score(y_test,x_test_pred))\n",
    "    print(f\"Recall Score of {model} model is:\",recall_score(y_test,x_test_pred))\n",
    "    print(f\"F1 Score of {model} model is:\",f1_score(y_test,x_test_pred))"
   ]
  },
  {
   "cell_type": "code",
   "execution_count": 47,
   "id": "51590d83",
   "metadata": {
    "execution": {
     "iopub.execute_input": "2023-06-27T21:57:29.641423Z",
     "iopub.status.busy": "2023-06-27T21:57:29.641048Z",
     "iopub.status.idle": "2023-06-27T21:57:29.667183Z",
     "shell.execute_reply": "2023-06-27T21:57:29.666135Z"
    },
    "id": "KnRioC6P0H1y",
    "outputId": "5ff2c395-f093-48e4-b549-36c07b85f0fc",
    "papermill": {
     "duration": 0.049672,
     "end_time": "2023-06-27T21:57:29.669268",
     "exception": false,
     "start_time": "2023-06-27T21:57:29.619596",
     "status": "completed"
    },
    "tags": []
   },
   "outputs": [
    {
     "name": "stdout",
     "output_type": "stream",
     "text": [
      "Accuracy_Score of DecisionTreeClassifier() model on Training Data is: 0.8412921348314607\n",
      "Accuracy_Score of DecisionTreeClassifier() model on Testing Data is: 0.8379888268156425\n",
      "\n",
      " ----------------------------------------------------\n",
      "Precision Score of DecisionTreeClassifier() model is: 0.8333333333333334\n",
      "Recall Score of DecisionTreeClassifier() model is: 0.6557377049180327\n",
      "F1 Score of DecisionTreeClassifier() model is: 0.7339449541284403\n"
     ]
    }
   ],
   "source": [
    "model_predict(DecisionTreeClassifier())"
   ]
  },
  {
   "cell_type": "code",
   "execution_count": 48,
   "id": "9835fb7d",
   "metadata": {
    "execution": {
     "iopub.execute_input": "2023-06-27T21:57:29.712542Z",
     "iopub.status.busy": "2023-06-27T21:57:29.712191Z",
     "iopub.status.idle": "2023-06-27T21:57:29.906153Z",
     "shell.execute_reply": "2023-06-27T21:57:29.904991Z"
    },
    "id": "NtMrXe0l0H1y",
    "outputId": "e824b061-7773-404a-90ec-d59df7d41662",
    "papermill": {
     "duration": 0.218009,
     "end_time": "2023-06-27T21:57:29.908247",
     "exception": false,
     "start_time": "2023-06-27T21:57:29.690238",
     "status": "completed"
    },
    "tags": []
   },
   "outputs": [
    {
     "name": "stdout",
     "output_type": "stream",
     "text": [
      "Accuracy_Score of RandomForestClassifier() model on Training Data is: 0.8412921348314607\n",
      "Accuracy_Score of RandomForestClassifier() model on Testing Data is: 0.8659217877094972\n",
      "\n",
      " ----------------------------------------------------\n",
      "Precision Score of RandomForestClassifier() model is: 0.8363636363636363\n",
      "Recall Score of RandomForestClassifier() model is: 0.7540983606557377\n",
      "F1 Score of RandomForestClassifier() model is: 0.793103448275862\n"
     ]
    }
   ],
   "source": [
    "model_predict(RandomForestClassifier())"
   ]
  },
  {
   "cell_type": "code",
   "execution_count": 49,
   "id": "3156d918",
   "metadata": {
    "execution": {
     "iopub.execute_input": "2023-06-27T21:57:29.952059Z",
     "iopub.status.busy": "2023-06-27T21:57:29.951751Z",
     "iopub.status.idle": "2023-06-27T21:57:29.983865Z",
     "shell.execute_reply": "2023-06-27T21:57:29.982943Z"
    },
    "id": "weok_OW50H1y",
    "outputId": "5629b929-6edb-48a1-c147-ae8b78c295ec",
    "papermill": {
     "duration": 0.057229,
     "end_time": "2023-06-27T21:57:29.986076",
     "exception": false,
     "start_time": "2023-06-27T21:57:29.928847",
     "status": "completed"
    },
    "tags": []
   },
   "outputs": [
    {
     "name": "stdout",
     "output_type": "stream",
     "text": [
      "Accuracy_Score of LogisticRegression() model on Training Data is: 0.8117977528089888\n",
      "Accuracy_Score of LogisticRegression() model on Testing Data is: 0.8994413407821229\n",
      "\n",
      " ----------------------------------------------------\n",
      "Precision Score of LogisticRegression() model is: 0.8524590163934426\n",
      "Recall Score of LogisticRegression() model is: 0.8524590163934426\n",
      "F1 Score of LogisticRegression() model is: 0.8524590163934426\n"
     ]
    }
   ],
   "source": [
    "model_predict(LogisticRegression())"
   ]
  },
  {
   "cell_type": "code",
   "execution_count": 50,
   "id": "a0cc3667",
   "metadata": {
    "execution": {
     "iopub.execute_input": "2023-06-27T21:57:30.029642Z",
     "iopub.status.busy": "2023-06-27T21:57:30.029088Z",
     "iopub.status.idle": "2023-06-27T21:57:30.137260Z",
     "shell.execute_reply": "2023-06-27T21:57:30.136602Z"
    },
    "id": "YoSzJIeo0H1y",
    "outputId": "1c2a8785-28a1-4184-c690-658caf64ab57",
    "papermill": {
     "duration": 0.132242,
     "end_time": "2023-06-27T21:57:30.139426",
     "exception": false,
     "start_time": "2023-06-27T21:57:30.007184",
     "status": "completed"
    },
    "tags": []
   },
   "outputs": [
    {
     "name": "stdout",
     "output_type": "stream",
     "text": [
      "Accuracy_Score of XGBClassifier(base_score=None, booster=None, callbacks=None,\n",
      "              colsample_bylevel=None, colsample_bynode=None,\n",
      "              colsample_bytree=None, early_stopping_rounds=None,\n",
      "              enable_categorical=False, eval_metric=None, feature_types=None,\n",
      "              gamma=None, gpu_id=None, grow_policy=None, importance_type=None,\n",
      "              interaction_constraints=None, learning_rate=None, max_bin=None,\n",
      "              max_cat_threshold=None, max_cat_to_onehot=None,\n",
      "              max_delta_step=None, max_depth=None, max_leaves=None,\n",
      "              min_child_weight=None, missing=nan, monotone_constraints=None,\n",
      "              n_estimators=100, n_jobs=None, num_parallel_tree=None,\n",
      "              predictor=None, random_state=None, ...) model on Training Data is: 0.8398876404494382\n",
      "Accuracy_Score of XGBClassifier(base_score=None, booster=None, callbacks=None,\n",
      "              colsample_bylevel=None, colsample_bynode=None,\n",
      "              colsample_bytree=None, early_stopping_rounds=None,\n",
      "              enable_categorical=False, eval_metric=None, feature_types=None,\n",
      "              gamma=None, gpu_id=None, grow_policy=None, importance_type=None,\n",
      "              interaction_constraints=None, learning_rate=None, max_bin=None,\n",
      "              max_cat_threshold=None, max_cat_to_onehot=None,\n",
      "              max_delta_step=None, max_depth=None, max_leaves=None,\n",
      "              min_child_weight=None, missing=nan, monotone_constraints=None,\n",
      "              n_estimators=100, n_jobs=None, num_parallel_tree=None,\n",
      "              predictor=None, random_state=None, ...) model on Testing Data is: 0.8491620111731844\n",
      "\n",
      " ----------------------------------------------------\n",
      "Precision Score of XGBClassifier(base_score=None, booster=None, callbacks=None,\n",
      "              colsample_bylevel=None, colsample_bynode=None,\n",
      "              colsample_bytree=None, early_stopping_rounds=None,\n",
      "              enable_categorical=False, eval_metric=None, feature_types=None,\n",
      "              gamma=None, gpu_id=None, grow_policy=None, importance_type=None,\n",
      "              interaction_constraints=None, learning_rate=None, max_bin=None,\n",
      "              max_cat_threshold=None, max_cat_to_onehot=None,\n",
      "              max_delta_step=None, max_depth=None, max_leaves=None,\n",
      "              min_child_weight=None, missing=nan, monotone_constraints=None,\n",
      "              n_estimators=100, n_jobs=None, num_parallel_tree=None,\n",
      "              predictor=None, random_state=None, ...) model is: 0.8035714285714286\n",
      "Recall Score of XGBClassifier(base_score=None, booster=None, callbacks=None,\n",
      "              colsample_bylevel=None, colsample_bynode=None,\n",
      "              colsample_bytree=None, early_stopping_rounds=None,\n",
      "              enable_categorical=False, eval_metric=None, feature_types=None,\n",
      "              gamma=None, gpu_id=None, grow_policy=None, importance_type=None,\n",
      "              interaction_constraints=None, learning_rate=None, max_bin=None,\n",
      "              max_cat_threshold=None, max_cat_to_onehot=None,\n",
      "              max_delta_step=None, max_depth=None, max_leaves=None,\n",
      "              min_child_weight=None, missing=nan, monotone_constraints=None,\n",
      "              n_estimators=100, n_jobs=None, num_parallel_tree=None,\n",
      "              predictor=None, random_state=None, ...) model is: 0.7377049180327869\n",
      "F1 Score of XGBClassifier(base_score=None, booster=None, callbacks=None,\n",
      "              colsample_bylevel=None, colsample_bynode=None,\n",
      "              colsample_bytree=None, early_stopping_rounds=None,\n",
      "              enable_categorical=False, eval_metric=None, feature_types=None,\n",
      "              gamma=None, gpu_id=None, grow_policy=None, importance_type=None,\n",
      "              interaction_constraints=None, learning_rate=None, max_bin=None,\n",
      "              max_cat_threshold=None, max_cat_to_onehot=None,\n",
      "              max_delta_step=None, max_depth=None, max_leaves=None,\n",
      "              min_child_weight=None, missing=nan, monotone_constraints=None,\n",
      "              n_estimators=100, n_jobs=None, num_parallel_tree=None,\n",
      "              predictor=None, random_state=None, ...) model is: 0.7692307692307693\n"
     ]
    }
   ],
   "source": [
    "model_predict(XGBClassifier())"
   ]
  },
  {
   "cell_type": "code",
   "execution_count": 51,
   "id": "012e2546",
   "metadata": {
    "execution": {
     "iopub.execute_input": "2023-06-27T21:57:30.183695Z",
     "iopub.status.busy": "2023-06-27T21:57:30.183396Z",
     "iopub.status.idle": "2023-06-27T21:57:30.292342Z",
     "shell.execute_reply": "2023-06-27T21:57:30.291323Z"
    },
    "id": "coicGdjn0H1y",
    "outputId": "eed87202-c248-4f41-fcb4-047bf52d226f",
    "papermill": {
     "duration": 0.133581,
     "end_time": "2023-06-27T21:57:30.294000",
     "exception": false,
     "start_time": "2023-06-27T21:57:30.160419",
     "status": "completed"
    },
    "tags": []
   },
   "outputs": [
    {
     "name": "stdout",
     "output_type": "stream",
     "text": [
      "Accuracy_Score of AdaBoostClassifier() model on Training Data is: 0.800561797752809\n",
      "Accuracy_Score of AdaBoostClassifier() model on Testing Data is: 0.8715083798882681\n",
      "\n",
      " ----------------------------------------------------\n",
      "Precision Score of AdaBoostClassifier() model is: 0.796875\n",
      "Recall Score of AdaBoostClassifier() model is: 0.8360655737704918\n",
      "F1 Score of AdaBoostClassifier() model is: 0.816\n"
     ]
    }
   ],
   "source": [
    "model_predict(AdaBoostClassifier())"
   ]
  },
  {
   "cell_type": "code",
   "execution_count": 52,
   "id": "6cfe7216",
   "metadata": {
    "execution": {
     "iopub.execute_input": "2023-06-27T21:57:30.337528Z",
     "iopub.status.busy": "2023-06-27T21:57:30.337144Z",
     "iopub.status.idle": "2023-06-27T21:57:30.443615Z",
     "shell.execute_reply": "2023-06-27T21:57:30.442370Z"
    },
    "id": "VwuzkSmf0H1y",
    "outputId": "61abd936-f466-4b15-d4ad-6bc3c595230c",
    "papermill": {
     "duration": 0.130777,
     "end_time": "2023-06-27T21:57:30.445829",
     "exception": false,
     "start_time": "2023-06-27T21:57:30.315052",
     "status": "completed"
    },
    "tags": []
   },
   "outputs": [
    {
     "name": "stdout",
     "output_type": "stream",
     "text": [
      "Accuracy_Score of GradientBoostingClassifier() model on Training Data is: 0.827247191011236\n",
      "Accuracy_Score of GradientBoostingClassifier() model on Testing Data is: 0.88268156424581\n",
      "\n",
      " ----------------------------------------------------\n",
      "Precision Score of GradientBoostingClassifier() model is: 0.9166666666666666\n",
      "Recall Score of GradientBoostingClassifier() model is: 0.7213114754098361\n",
      "F1 Score of GradientBoostingClassifier() model is: 0.8073394495412843\n"
     ]
    }
   ],
   "source": [
    "model_predict(GradientBoostingClassifier())"
   ]
  },
  {
   "cell_type": "code",
   "execution_count": 53,
   "id": "fa6525b0",
   "metadata": {
    "execution": {
     "iopub.execute_input": "2023-06-27T21:57:30.491060Z",
     "iopub.status.busy": "2023-06-27T21:57:30.490546Z",
     "iopub.status.idle": "2023-06-27T21:57:30.971426Z",
     "shell.execute_reply": "2023-06-27T21:57:30.970028Z"
    },
    "id": "rJORiwU60H1y",
    "outputId": "5e9f9b19-c22a-4112-b6ee-cb06bc96daa5",
    "papermill": {
     "duration": 0.50649,
     "end_time": "2023-06-27T21:57:30.973924",
     "exception": false,
     "start_time": "2023-06-27T21:57:30.467434",
     "status": "completed"
    },
    "tags": []
   },
   "outputs": [
    {
     "name": "stdout",
     "output_type": "stream",
     "text": [
      "Accuracy_Score of LGBMClassifier() model on Training Data is: 0.8300561797752809\n",
      "Accuracy_Score of LGBMClassifier() model on Testing Data is: 0.8547486033519553\n",
      "\n",
      " ----------------------------------------------------\n",
      "Precision Score of LGBMClassifier() model is: 0.8181818181818182\n",
      "Recall Score of LGBMClassifier() model is: 0.7377049180327869\n",
      "F1 Score of LGBMClassifier() model is: 0.7758620689655172\n"
     ]
    }
   ],
   "source": [
    "model_predict(LGBMClassifier())"
   ]
  },
  {
   "cell_type": "code",
   "execution_count": 54,
   "id": "aa55aca4",
   "metadata": {
    "execution": {
     "iopub.execute_input": "2023-06-27T21:57:31.018732Z",
     "iopub.status.busy": "2023-06-27T21:57:31.018383Z",
     "iopub.status.idle": "2023-06-27T21:57:32.049492Z",
     "shell.execute_reply": "2023-06-27T21:57:32.048090Z"
    },
    "id": "OvTN5-Yz0H1y",
    "outputId": "415c8314-ea53-4cbd-e547-45d6a5a71da5",
    "papermill": {
     "duration": 1.056981,
     "end_time": "2023-06-27T21:57:32.052665",
     "exception": false,
     "start_time": "2023-06-27T21:57:30.995684",
     "status": "completed"
    },
    "tags": []
   },
   "outputs": [
    {
     "name": "stdout",
     "output_type": "stream",
     "text": [
      "Accuracy_Score of <catboost.core.CatBoostClassifier object at 0x79d62bfc8250> model on Training Data is: 0.8370786516853933\n",
      "Accuracy_Score of <catboost.core.CatBoostClassifier object at 0x79d62bfc8250> model on Testing Data is: 0.8659217877094972\n",
      "\n",
      " ----------------------------------------------------\n",
      "Precision Score of <catboost.core.CatBoostClassifier object at 0x79d62bfc8250> model is: 0.8627450980392157\n",
      "Recall Score of <catboost.core.CatBoostClassifier object at 0x79d62bfc8250> model is: 0.7213114754098361\n",
      "F1 Score of <catboost.core.CatBoostClassifier object at 0x79d62bfc8250> model is: 0.7857142857142857\n"
     ]
    }
   ],
   "source": [
    "model_predict(CatBoostClassifier(verbose=False))"
   ]
  },
  {
   "cell_type": "code",
   "execution_count": 55,
   "id": "97330be7",
   "metadata": {
    "execution": {
     "iopub.execute_input": "2023-06-27T21:57:32.098243Z",
     "iopub.status.busy": "2023-06-27T21:57:32.097864Z",
     "iopub.status.idle": "2023-06-27T21:57:32.141635Z",
     "shell.execute_reply": "2023-06-27T21:57:32.140506Z"
    },
    "id": "Gl5IooVe0H1z",
    "outputId": "406ba901-4b45-4be9-d62b-a2f7b490ff72",
    "papermill": {
     "duration": 0.069498,
     "end_time": "2023-06-27T21:57:32.143944",
     "exception": false,
     "start_time": "2023-06-27T21:57:32.074446",
     "status": "completed"
    },
    "tags": []
   },
   "outputs": [
    {
     "name": "stdout",
     "output_type": "stream",
     "text": [
      "Accuracy_Score of SVC() model on Training Data is: 0.8132022471910112\n",
      "Accuracy_Score of SVC() model on Testing Data is: 0.8603351955307262\n",
      "\n",
      " ----------------------------------------------------\n",
      "Precision Score of SVC() model is: 0.8461538461538461\n",
      "Recall Score of SVC() model is: 0.7213114754098361\n",
      "F1 Score of SVC() model is: 0.7787610619469026\n"
     ]
    }
   ],
   "source": [
    "model_predict(SVC())"
   ]
  },
  {
   "cell_type": "code",
   "execution_count": 56,
   "id": "2ef6c17d",
   "metadata": {
    "execution": {
     "iopub.execute_input": "2023-06-27T21:57:32.189183Z",
     "iopub.status.busy": "2023-06-27T21:57:32.188865Z",
     "iopub.status.idle": "2023-06-27T21:57:32.200384Z",
     "shell.execute_reply": "2023-06-27T21:57:32.199268Z"
    },
    "id": "eEbc8vi00H1z",
    "outputId": "41dc191b-06c9-48c2-f1d1-47e22a428bbe",
    "papermill": {
     "duration": 0.037156,
     "end_time": "2023-06-27T21:57:32.202805",
     "exception": false,
     "start_time": "2023-06-27T21:57:32.165649",
     "status": "completed"
    },
    "tags": []
   },
   "outputs": [
    {
     "data": {
      "text/html": [
       "<div>\n",
       "<style scoped>\n",
       "    .dataframe tbody tr th:only-of-type {\n",
       "        vertical-align: middle;\n",
       "    }\n",
       "\n",
       "    .dataframe tbody tr th {\n",
       "        vertical-align: top;\n",
       "    }\n",
       "\n",
       "    .dataframe thead th {\n",
       "        text-align: right;\n",
       "    }\n",
       "</style>\n",
       "<table border=\"1\" class=\"dataframe\">\n",
       "  <thead>\n",
       "    <tr style=\"text-align: right;\">\n",
       "      <th></th>\n",
       "      <th>Algorithms</th>\n",
       "      <th>Training score</th>\n",
       "      <th>Testing score</th>\n",
       "    </tr>\n",
       "  </thead>\n",
       "  <tbody>\n",
       "    <tr>\n",
       "      <th>0</th>\n",
       "      <td>DecisionTreeClassifier</td>\n",
       "      <td>0.841292</td>\n",
       "      <td>0.837989</td>\n",
       "    </tr>\n",
       "    <tr>\n",
       "      <th>1</th>\n",
       "      <td>RandomForestClassifier</td>\n",
       "      <td>0.841292</td>\n",
       "      <td>0.865922</td>\n",
       "    </tr>\n",
       "    <tr>\n",
       "      <th>2</th>\n",
       "      <td>LogisticRegression</td>\n",
       "      <td>0.811798</td>\n",
       "      <td>0.899441</td>\n",
       "    </tr>\n",
       "    <tr>\n",
       "      <th>3</th>\n",
       "      <td>XGBClassifier</td>\n",
       "      <td>0.839888</td>\n",
       "      <td>0.849162</td>\n",
       "    </tr>\n",
       "    <tr>\n",
       "      <th>4</th>\n",
       "      <td>AdaBoostClassifier</td>\n",
       "      <td>0.800562</td>\n",
       "      <td>0.871508</td>\n",
       "    </tr>\n",
       "    <tr>\n",
       "      <th>5</th>\n",
       "      <td>GradientBoostingClassifier</td>\n",
       "      <td>0.827247</td>\n",
       "      <td>0.882682</td>\n",
       "    </tr>\n",
       "    <tr>\n",
       "      <th>6</th>\n",
       "      <td>LGBMClassifier</td>\n",
       "      <td>0.830056</td>\n",
       "      <td>0.854749</td>\n",
       "    </tr>\n",
       "    <tr>\n",
       "      <th>7</th>\n",
       "      <td>CatBoostClassifier</td>\n",
       "      <td>0.837079</td>\n",
       "      <td>0.865922</td>\n",
       "    </tr>\n",
       "    <tr>\n",
       "      <th>8</th>\n",
       "      <td>SVC</td>\n",
       "      <td>0.813202</td>\n",
       "      <td>0.860335</td>\n",
       "    </tr>\n",
       "  </tbody>\n",
       "</table>\n",
       "</div>"
      ],
      "text/plain": [
       "                   Algorithms  Training score  Testing score\n",
       "0      DecisionTreeClassifier        0.841292       0.837989\n",
       "1      RandomForestClassifier        0.841292       0.865922\n",
       "2          LogisticRegression        0.811798       0.899441\n",
       "3               XGBClassifier        0.839888       0.849162\n",
       "4          AdaBoostClassifier        0.800562       0.871508\n",
       "5  GradientBoostingClassifier        0.827247       0.882682\n",
       "6              LGBMClassifier        0.830056       0.854749\n",
       "7          CatBoostClassifier        0.837079       0.865922\n",
       "8                         SVC        0.813202       0.860335"
      ]
     },
     "execution_count": 56,
     "metadata": {},
     "output_type": "execute_result"
    }
   ],
   "source": [
    "models = [\"DecisionTreeClassifier\", \"RandomForestClassifier\", \"LogisticRegression\", \"XGBClassifier\", \"AdaBoostClassifier\", \"GradientBoostingClassifier\", \"LGBMClassifier\", \"CatBoostClassifier\", \"SVC\"]\n",
    "df = pd.DataFrame({\"Algorithms\":models,\n",
    "                 \"Training score\":training_score,\n",
    "                 \"Testing score\":testing_score})\n",
    "df"
   ]
  },
  {
   "cell_type": "markdown",
   "id": "5ba9c2f5",
   "metadata": {
    "id": "6yuPAj8z0H1z",
    "papermill": {
     "duration": 0.021632,
     "end_time": "2023-06-27T21:57:32.247325",
     "exception": false,
     "start_time": "2023-06-27T21:57:32.225693",
     "status": "completed"
    },
    "tags": []
   },
   "source": [
    "# **Hyperparameter tuning**"
   ]
  },
  {
   "cell_type": "code",
   "execution_count": 57,
   "id": "efd7d58c",
   "metadata": {
    "execution": {
     "iopub.execute_input": "2023-06-27T21:57:32.291611Z",
     "iopub.status.busy": "2023-06-27T21:57:32.291306Z",
     "iopub.status.idle": "2023-06-27T21:57:32.295873Z",
     "shell.execute_reply": "2023-06-27T21:57:32.294917Z"
    },
    "id": "kcX_w8uq0H1z",
    "papermill": {
     "duration": 0.029105,
     "end_time": "2023-06-27T21:57:32.297622",
     "exception": false,
     "start_time": "2023-06-27T21:57:32.268517",
     "status": "completed"
    },
    "tags": []
   },
   "outputs": [],
   "source": [
    "# #hyperparameter tuning on GradientBoostingClassifier\n",
    "from sklearn.model_selection import RandomizedSearchCV, GridSearchCV\n",
    "# model1 = GradientBoostingClassifier()\n",
    "# parameters1 = {'n_estimators': [100,300,500,550],\n",
    "#                'min_samples_split':[7,8,9],\n",
    "#                'max_depth': [10,11,12],\n",
    "#                'min_samples_leaf':[4,5,6]}\n",
    "# grid_search1 = GridSearchCV(model1, parameters1, cv=5, n_jobs=-1)\n",
    "# grid_search1.fit(x_train,y_train)\n",
    "# print(grid_search1.best_score_)\n",
    "# best_parameters1 = grid_search1.best_params_\n",
    "# print(best_parameters1)\n",
    "# 0.7878755047769131\n",
    "# {'max_depth': 10, 'min_samples_leaf': 6, 'min_samples_split': 7, 'n_estimators': 100}"
   ]
  },
  {
   "cell_type": "code",
   "execution_count": 58,
   "id": "b183358f",
   "metadata": {
    "execution": {
     "iopub.execute_input": "2023-06-27T21:57:32.343172Z",
     "iopub.status.busy": "2023-06-27T21:57:32.342852Z",
     "iopub.status.idle": "2023-06-27T21:57:32.536938Z",
     "shell.execute_reply": "2023-06-27T21:57:32.535633Z"
    },
    "id": "0M0v4QQ80H1z",
    "outputId": "7f6326d0-19fd-41dd-8a2c-db072b2a8b08",
    "papermill": {
     "duration": 0.219308,
     "end_time": "2023-06-27T21:57:32.539254",
     "exception": false,
     "start_time": "2023-06-27T21:57:32.319946",
     "status": "completed"
    },
    "tags": []
   },
   "outputs": [
    {
     "data": {
      "text/plain": [
       "0.8547486033519553"
      ]
     },
     "execution_count": 58,
     "metadata": {},
     "output_type": "execute_result"
    }
   ],
   "source": [
    "gradientboost = GradientBoostingClassifier(max_depth= 12, min_samples_leaf= 6, min_samples_split= 9, n_estimators= 100)\n",
    "gradientboost.fit(x_train,y_train)\n",
    "x_test_pred1 = gradientboost.predict(x_test)\n",
    "accuracy_score(y_test,x_test_pred1)"
   ]
  },
  {
   "cell_type": "code",
   "execution_count": 59,
   "id": "f3efdf60",
   "metadata": {
    "execution": {
     "iopub.execute_input": "2023-06-27T21:57:32.584736Z",
     "iopub.status.busy": "2023-06-27T21:57:32.584392Z",
     "iopub.status.idle": "2023-06-27T21:57:32.588559Z",
     "shell.execute_reply": "2023-06-27T21:57:32.587656Z"
    },
    "id": "YtiLvs-X0H1z",
    "papermill": {
     "duration": 0.029299,
     "end_time": "2023-06-27T21:57:32.590399",
     "exception": false,
     "start_time": "2023-06-27T21:57:32.561100",
     "status": "completed"
    },
    "tags": []
   },
   "outputs": [],
   "source": [
    "# model2 = CatBoostClassifier(verbose=False)\n",
    "# parameters2 = {\"learning_rate\":[0.1,0.3,0.5,0.6,0.7],\n",
    "#               \"random_state\":[0,42,48,50],\n",
    "#                \"depth\":[8,9,10],\n",
    "#                \"iterations\":[35,40,50]}\n",
    "# grid_search2 = GridSearchCV(model2, parameters2, cv=5, n_jobs=-1)\n",
    "# grid_search2.fit(x_train,y_train)\n",
    "# print(grid_search2.best_score_)\n",
    "# best_parameters2 = grid_search2.best_params_\n",
    "# print(best_parameters2)\n",
    "# 0.8230079779375554\n",
    "# {'depth': 8, 'iterations': 50, 'learning_rate': 0.5, 'random_state': 0}"
   ]
  },
  {
   "cell_type": "code",
   "execution_count": 60,
   "id": "b0aa1f67",
   "metadata": {
    "execution": {
     "iopub.execute_input": "2023-06-27T21:57:32.636435Z",
     "iopub.status.busy": "2023-06-27T21:57:32.636085Z",
     "iopub.status.idle": "2023-06-27T21:57:32.723322Z",
     "shell.execute_reply": "2023-06-27T21:57:32.721773Z"
    },
    "id": "4FJm4YUl0H1z",
    "outputId": "1ca8b047-77cb-4959-8a96-1dae91237d8b",
    "papermill": {
     "duration": 0.112607,
     "end_time": "2023-06-27T21:57:32.725836",
     "exception": false,
     "start_time": "2023-06-27T21:57:32.613229",
     "status": "completed"
    },
    "tags": []
   },
   "outputs": [
    {
     "name": "stdout",
     "output_type": "stream",
     "text": [
      "0:\tlearn: 0.6577718\ttotal: 439us\tremaining: 14.9ms\n",
      "1:\tlearn: 0.6279806\ttotal: 3.08ms\tremaining: 50.8ms\n",
      "2:\tlearn: 0.6042418\ttotal: 3.78ms\tremaining: 40.3ms\n",
      "3:\tlearn: 0.5821881\ttotal: 3.99ms\tremaining: 31ms\n",
      "4:\tlearn: 0.5636722\ttotal: 4.26ms\tremaining: 25.6ms\n",
      "5:\tlearn: 0.5486337\ttotal: 6.22ms\tremaining: 30.1ms\n",
      "6:\tlearn: 0.5348668\ttotal: 6.65ms\tremaining: 26.6ms\n",
      "7:\tlearn: 0.5224271\ttotal: 7.43ms\tremaining: 25.1ms\n",
      "8:\tlearn: 0.5120394\ttotal: 7.63ms\tremaining: 22.1ms\n",
      "9:\tlearn: 0.5020238\ttotal: 9.77ms\tremaining: 24.4ms\n",
      "10:\tlearn: 0.4954715\ttotal: 10.1ms\tremaining: 22ms\n",
      "11:\tlearn: 0.4890197\ttotal: 10.7ms\tremaining: 20.5ms\n",
      "12:\tlearn: 0.4816962\ttotal: 12.8ms\tremaining: 21.7ms\n",
      "13:\tlearn: 0.4759958\ttotal: 15.7ms\tremaining: 23.6ms\n",
      "14:\tlearn: 0.4706276\ttotal: 16.4ms\tremaining: 21.9ms\n",
      "15:\tlearn: 0.4664454\ttotal: 16.7ms\tremaining: 19.8ms\n",
      "16:\tlearn: 0.4617704\ttotal: 18.7ms\tremaining: 19.8ms\n",
      "17:\tlearn: 0.4604903\ttotal: 19ms\tremaining: 18ms\n",
      "18:\tlearn: 0.4567692\ttotal: 21.2ms\tremaining: 17.8ms\n",
      "19:\tlearn: 0.4539078\ttotal: 21.4ms\tremaining: 16ms\n",
      "20:\tlearn: 0.4499693\ttotal: 23.5ms\tremaining: 15.6ms\n",
      "21:\tlearn: 0.4468965\ttotal: 23.9ms\tremaining: 14.1ms\n",
      "22:\tlearn: 0.4455217\ttotal: 24.1ms\tremaining: 12.6ms\n",
      "23:\tlearn: 0.4427712\ttotal: 26.1ms\tremaining: 12ms\n",
      "24:\tlearn: 0.4409611\ttotal: 26.4ms\tremaining: 10.5ms\n",
      "25:\tlearn: 0.4388874\ttotal: 27.5ms\tremaining: 9.51ms\n",
      "26:\tlearn: 0.4371994\ttotal: 29.5ms\tremaining: 8.74ms\n",
      "27:\tlearn: 0.4365819\ttotal: 29.8ms\tremaining: 7.45ms\n",
      "28:\tlearn: 0.4349053\ttotal: 31.2ms\tremaining: 6.45ms\n",
      "29:\tlearn: 0.4327261\ttotal: 31.9ms\tremaining: 5.31ms\n",
      "30:\tlearn: 0.4313464\ttotal: 32.5ms\tremaining: 4.2ms\n",
      "31:\tlearn: 0.4299078\ttotal: 34.5ms\tremaining: 3.24ms\n",
      "32:\tlearn: 0.4294820\ttotal: 35.2ms\tremaining: 2.13ms\n",
      "33:\tlearn: 0.4281885\ttotal: 35.9ms\tremaining: 1.05ms\n",
      "34:\tlearn: 0.4271694\ttotal: 36.3ms\tremaining: 0us\n",
      "0.8435754189944135\n"
     ]
    }
   ],
   "source": [
    "catboost = CatBoostClassifier(depth= 8, iterations= 35, learning_rate= 0.1, random_state= 42)\n",
    "catboost.fit(x_train,y_train)\n",
    "x_test_pred2 = catboost.predict(x_test)\n",
    "print(accuracy_score(y_test,x_test_pred2))"
   ]
  },
  {
   "cell_type": "code",
   "execution_count": 61,
   "id": "1d854eaf",
   "metadata": {
    "execution": {
     "iopub.execute_input": "2023-06-27T21:57:32.771402Z",
     "iopub.status.busy": "2023-06-27T21:57:32.771070Z",
     "iopub.status.idle": "2023-06-27T21:57:32.776594Z",
     "shell.execute_reply": "2023-06-27T21:57:32.775520Z"
    },
    "id": "0oIUciuc0H1z",
    "papermill": {
     "duration": 0.030703,
     "end_time": "2023-06-27T21:57:32.778703",
     "exception": false,
     "start_time": "2023-06-27T21:57:32.748000",
     "status": "completed"
    },
    "tags": []
   },
   "outputs": [],
   "source": [
    "# model3 = XGBClassifier()\n",
    "# parameters3 = {\"n_estimators\":[50,100,150],\n",
    "#              \"random_state\":[0,42,50],\n",
    "#              \"learning_rate\":[0.1,0.3,0.5,1.0]}\n",
    "# grid_search3 = GridSearchCV(model3, parameters3, cv=5, n_jobs=-1)\n",
    "# grid_search3.fit(x_train,y_train)\n",
    "# print(grid_search3.best_score_)\n",
    "# best_parameters3 = grid_search3.best_params_\n",
    "# print(best_parameters3)\n",
    "# 0.8216093765389539\n",
    "# {'learning_rate': 0.1, 'n_estimators': 50, 'random_state': 0}"
   ]
  },
  {
   "cell_type": "code",
   "execution_count": 62,
   "id": "d1a4bdce",
   "metadata": {
    "execution": {
     "iopub.execute_input": "2023-06-27T21:57:32.823628Z",
     "iopub.status.busy": "2023-06-27T21:57:32.823327Z",
     "iopub.status.idle": "2023-06-27T21:57:32.962368Z",
     "shell.execute_reply": "2023-06-27T21:57:32.961251Z"
    },
    "id": "lp0Pt9hL0H10",
    "outputId": "ab5626bb-7f10-4315-ca8d-87077bf0b88d",
    "papermill": {
     "duration": 0.163733,
     "end_time": "2023-06-27T21:57:32.964426",
     "exception": false,
     "start_time": "2023-06-27T21:57:32.800693",
     "status": "completed"
    },
    "tags": []
   },
   "outputs": [
    {
     "name": "stdout",
     "output_type": "stream",
     "text": [
      "0.8659217877094972\n"
     ]
    }
   ],
   "source": [
    "xgboost = XGBClassifier(max_depth= 12, n_estimators= 100)\n",
    "xgboost.fit(x_train,y_train)\n",
    "x_test_pred3 = xgboost.predict(x_test)\n",
    "print(accuracy_score(y_test,x_test_pred3))\n"
   ]
  },
  {
   "cell_type": "code",
   "execution_count": 63,
   "id": "ed354aef",
   "metadata": {
    "execution": {
     "iopub.execute_input": "2023-06-27T21:57:33.012225Z",
     "iopub.status.busy": "2023-06-27T21:57:33.011856Z",
     "iopub.status.idle": "2023-06-27T21:57:33.016334Z",
     "shell.execute_reply": "2023-06-27T21:57:33.015096Z"
    },
    "id": "-QdFi7Bv0H10",
    "papermill": {
     "duration": 0.032055,
     "end_time": "2023-06-27T21:57:33.018736",
     "exception": false,
     "start_time": "2023-06-27T21:57:32.986681",
     "status": "completed"
    },
    "tags": []
   },
   "outputs": [],
   "source": [
    "# model4 = RandomForestClassifier()\n",
    "# parameters4 = {'n_estimators': [100,300,500,550],\n",
    "#                'min_samples_split':[7,8,9],\n",
    "#                'max_depth': [10,11,12],\n",
    "#                'min_samples_leaf':[4,5,6]}\n",
    "# grid_search4 = GridSearchCV(model4, parameters4, cv=5, n_jobs=-1)\n",
    "# grid_search4.fit(x_train,y_train)\n",
    "# print(grid_search4.best_score_)\n",
    "# best_parameters4 = grid_search4.best_params_\n",
    "# print(best_parameters4)\n",
    "# 0.8202501723628484\n",
    "# {'max_depth': 12, 'min_samples_leaf': 6, 'min_samples_split': 8, 'n_estimators': 300}"
   ]
  },
  {
   "cell_type": "code",
   "execution_count": 64,
   "id": "9e89a018",
   "metadata": {
    "execution": {
     "iopub.execute_input": "2023-06-27T21:57:33.064743Z",
     "iopub.status.busy": "2023-06-27T21:57:33.064420Z",
     "iopub.status.idle": "2023-06-27T21:57:33.228387Z",
     "shell.execute_reply": "2023-06-27T21:57:33.227140Z"
    },
    "id": "wYxvWSMh0H10",
    "outputId": "39f981f7-8845-498d-9a12-90535b1bbb38",
    "papermill": {
     "duration": 0.189236,
     "end_time": "2023-06-27T21:57:33.230190",
     "exception": false,
     "start_time": "2023-06-27T21:57:33.040954",
     "status": "completed"
    },
    "tags": []
   },
   "outputs": [
    {
     "name": "stdout",
     "output_type": "stream",
     "text": [
      "0.8659217877094972\n"
     ]
    }
   ],
   "source": [
    "randomforest = RandomForestClassifier(max_depth= 12, min_samples_leaf= 6, min_samples_split= 9, n_estimators= 100)\n",
    "randomforest.fit(x_train,y_train)\n",
    "x_test_pred4 = randomforest.predict(x_test)\n",
    "print(accuracy_score(y_test,x_test_pred4))"
   ]
  },
  {
   "cell_type": "code",
   "execution_count": 65,
   "id": "367a0b3f",
   "metadata": {
    "execution": {
     "iopub.execute_input": "2023-06-27T21:57:33.282375Z",
     "iopub.status.busy": "2023-06-27T21:57:33.281818Z",
     "iopub.status.idle": "2023-06-27T21:57:33.286042Z",
     "shell.execute_reply": "2023-06-27T21:57:33.285141Z"
    },
    "id": "dT5QRafE0H10",
    "papermill": {
     "duration": 0.030975,
     "end_time": "2023-06-27T21:57:33.288282",
     "exception": false,
     "start_time": "2023-06-27T21:57:33.257307",
     "status": "completed"
    },
    "tags": []
   },
   "outputs": [],
   "source": [
    "# model5 = LogisticRegression()\n",
    "# parameters5 = {'C': [0.1, 1, 10, 100],\n",
    "#               'penalty': ['l1', 'l2']}\n",
    "# grid_search5 = GridSearchCV(model5, parameters5, cv=5, n_jobs=-1)\n",
    "# grid_search5.fit(x_train,y_train)\n",
    "# print(grid_search5.best_score_)\n",
    "# best_parameters5 = grid_search5.best_params_\n",
    "# print(best_parameters5)\n",
    "# 0.8075741160248203\n",
    "# {'C': 1, 'penalty': 'l2'}\n"
   ]
  },
  {
   "cell_type": "code",
   "execution_count": 66,
   "id": "776ace79",
   "metadata": {
    "execution": {
     "iopub.execute_input": "2023-06-27T21:57:33.334877Z",
     "iopub.status.busy": "2023-06-27T21:57:33.334526Z",
     "iopub.status.idle": "2023-06-27T21:57:33.353111Z",
     "shell.execute_reply": "2023-06-27T21:57:33.351672Z"
    },
    "id": "EccC1YB60H10",
    "outputId": "031da8ec-e58f-4521-9102-a55668510d65",
    "papermill": {
     "duration": 0.044382,
     "end_time": "2023-06-27T21:57:33.355419",
     "exception": false,
     "start_time": "2023-06-27T21:57:33.311037",
     "status": "completed"
    },
    "tags": []
   },
   "outputs": [
    {
     "name": "stdout",
     "output_type": "stream",
     "text": [
      "0.8994413407821229\n"
     ]
    }
   ],
   "source": [
    "lr = LogisticRegression(C= 1, penalty= 'l2')\n",
    "lr.fit(x_train,y_train)\n",
    "x_test_pred5 = lr.predict(x_test)\n",
    "print(accuracy_score(y_test,x_test_pred5))"
   ]
  },
  {
   "cell_type": "code",
   "execution_count": 67,
   "id": "54e09f9d",
   "metadata": {
    "execution": {
     "iopub.execute_input": "2023-06-27T21:57:33.400578Z",
     "iopub.status.busy": "2023-06-27T21:57:33.400224Z",
     "iopub.status.idle": "2023-06-27T21:57:33.405355Z",
     "shell.execute_reply": "2023-06-27T21:57:33.404368Z"
    },
    "id": "CSU7zyTB0H10",
    "papermill": {
     "duration": 0.02977,
     "end_time": "2023-06-27T21:57:33.407293",
     "exception": false,
     "start_time": "2023-06-27T21:57:33.377523",
     "status": "completed"
    },
    "tags": []
   },
   "outputs": [],
   "source": [
    "# model6 = SVC()\n",
    "# parameters6 = {'C': [0.1, 1, 10],\n",
    "#                'kernel': ['linear', 'sigmoid', 'poly'],\n",
    "#                'degree': [2, 3, 4]}\n",
    "# grid_search6 = GridSearchCV(model6, parameters6, cv=5, n_jobs=-1)\n",
    "# grid_search6.fit(x_train,y_train)\n",
    "# print(grid_search6.best_score_)\n",
    "# best_parameters6 = grid_search6.best_params_\n",
    "# print(best_parameters6)\n",
    "# 0.810381168127647\n",
    "# {'C': 10, 'degree': 2, 'kernel': 'linear'}\n"
   ]
  },
  {
   "cell_type": "code",
   "execution_count": 68,
   "id": "be7cb650",
   "metadata": {
    "execution": {
     "iopub.execute_input": "2023-06-27T21:57:33.455088Z",
     "iopub.status.busy": "2023-06-27T21:57:33.454779Z",
     "iopub.status.idle": "2023-06-27T21:57:33.459584Z",
     "shell.execute_reply": "2023-06-27T21:57:33.458732Z"
    },
    "id": "yvbVdLmJ0H10",
    "papermill": {
     "duration": 0.030823,
     "end_time": "2023-06-27T21:57:33.461742",
     "exception": false,
     "start_time": "2023-06-27T21:57:33.430919",
     "status": "completed"
    },
    "tags": []
   },
   "outputs": [],
   "source": [
    "# 'degree': [2, 3, 4],\n",
    "#                'gamma': ['scale', 'auto']"
   ]
  },
  {
   "cell_type": "code",
   "execution_count": 69,
   "id": "91dc5fc5",
   "metadata": {
    "execution": {
     "iopub.execute_input": "2023-06-27T21:57:33.507997Z",
     "iopub.status.busy": "2023-06-27T21:57:33.507648Z",
     "iopub.status.idle": "2023-06-27T21:57:33.511493Z",
     "shell.execute_reply": "2023-06-27T21:57:33.510639Z"
    },
    "id": "nJDrPjzB0H11",
    "papermill": {
     "duration": 0.029059,
     "end_time": "2023-06-27T21:57:33.513684",
     "exception": false,
     "start_time": "2023-06-27T21:57:33.484625",
     "status": "completed"
    },
    "tags": []
   },
   "outputs": [],
   "source": [
    "# svc = SVC(**best_parameters6)\n",
    "# svc.fit(x_train,y_train)\n",
    "# x_test_pred6 = svc.predict(x_test)\n",
    "# print(accuracy_score(y_test,x_test_pred6))"
   ]
  },
  {
   "cell_type": "code",
   "execution_count": 70,
   "id": "7acb2d6b",
   "metadata": {
    "execution": {
     "iopub.execute_input": "2023-06-27T21:57:33.559397Z",
     "iopub.status.busy": "2023-06-27T21:57:33.558995Z",
     "iopub.status.idle": "2023-06-27T21:57:33.562851Z",
     "shell.execute_reply": "2023-06-27T21:57:33.562221Z"
    },
    "id": "qUPLJv6x0H11",
    "papermill": {
     "duration": 0.028693,
     "end_time": "2023-06-27T21:57:33.564459",
     "exception": false,
     "start_time": "2023-06-27T21:57:33.535766",
     "status": "completed"
    },
    "tags": []
   },
   "outputs": [],
   "source": [
    "# model6 = LGBMClassifier()\n",
    "# parameters6 = {\"n_estimators\":[100,300,500,600,650],\n",
    "#               \"learning_rate\":[0.01,0.02,0.03],\n",
    "#               \"random_state\":[0,42,48,50],\n",
    "#                \"num_leaves\":[16,17,18]}\n",
    "# grid_search6 = GridSearchCV(model6, parameters6, cv=5, n_jobs=-1)\n",
    "# grid_search6.fit(x_train,y_train)\n",
    "# print(grid_search6.best_score_)\n",
    "# best_parameters6 = grid_search6.best_params_\n",
    "# print(best_parameters6)\n",
    "\n",
    "# 0.8131685216192259\n",
    "# {'learning_rate': 0.02, 'n_estimators': 300, 'num_leaves': 16, 'random_state': 0}"
   ]
  },
  {
   "cell_type": "code",
   "execution_count": 71,
   "id": "17e3edcb",
   "metadata": {
    "execution": {
     "iopub.execute_input": "2023-06-27T21:57:33.610943Z",
     "iopub.status.busy": "2023-06-27T21:57:33.610429Z",
     "iopub.status.idle": "2023-06-27T21:57:34.804637Z",
     "shell.execute_reply": "2023-06-27T21:57:34.803671Z"
    },
    "id": "wHNXrAJY0H11",
    "outputId": "428df00c-b897-4e7a-ceeb-2ecc51dbb5e9",
    "papermill": {
     "duration": 1.219612,
     "end_time": "2023-06-27T21:57:34.806641",
     "exception": false,
     "start_time": "2023-06-27T21:57:33.587029",
     "status": "completed"
    },
    "tags": []
   },
   "outputs": [
    {
     "name": "stdout",
     "output_type": "stream",
     "text": [
      "0.8715083798882681\n"
     ]
    }
   ],
   "source": [
    "lgbm = LGBMClassifier(learning_rate= 0.02, n_estimators= 300, num_leaves= 16, random_state= 0)\n",
    "lgbm.fit(x_train,y_train)\n",
    "x_test_pred6 = lgbm.predict(x_test)\n",
    "print(accuracy_score(y_test,x_test_pred6))"
   ]
  },
  {
   "cell_type": "code",
   "execution_count": 72,
   "id": "205b71ec",
   "metadata": {
    "execution": {
     "iopub.execute_input": "2023-06-27T21:57:34.852657Z",
     "iopub.status.busy": "2023-06-27T21:57:34.852325Z",
     "iopub.status.idle": "2023-06-27T21:57:34.859334Z",
     "shell.execute_reply": "2023-06-27T21:57:34.857780Z"
    },
    "id": "L_AlAwYp0H11",
    "papermill": {
     "duration": 0.033498,
     "end_time": "2023-06-27T21:57:34.862185",
     "exception": false,
     "start_time": "2023-06-27T21:57:34.828687",
     "status": "completed"
    },
    "tags": []
   },
   "outputs": [],
   "source": [
    "stacking_model = StackingClassifier(estimators=[('GBoost', gradientboost),\n",
    "                                                ('XGBoost', xgboost),\n",
    "                                                ('LR', lr),\n",
    "                                                ('RF', randomforest)])"
   ]
  },
  {
   "cell_type": "code",
   "execution_count": 73,
   "id": "1f14b40c",
   "metadata": {
    "execution": {
     "iopub.execute_input": "2023-06-27T21:57:34.908353Z",
     "iopub.status.busy": "2023-06-27T21:57:34.908004Z",
     "iopub.status.idle": "2023-06-27T21:57:34.912957Z",
     "shell.execute_reply": "2023-06-27T21:57:34.911964Z"
    },
    "id": "HE-w-Y-T0H11",
    "papermill": {
     "duration": 0.030155,
     "end_time": "2023-06-27T21:57:34.914654",
     "exception": false,
     "start_time": "2023-06-27T21:57:34.884499",
     "status": "completed"
    },
    "tags": []
   },
   "outputs": [],
   "source": [
    "voter = estimators=[('GBoost', gradientboost),\n",
    "                    ('XGBoost', xgboost),\n",
    "                    ('LR', lr),\n",
    "                    ('RF', randomforest),\n",
    "                    ('bag' , BaggingClassifier(max_samples=0.25, n_estimators=300,random_state=0)),\n",
    "                    ('rcc' , RidgeClassifierCV())]"
   ]
  },
  {
   "cell_type": "code",
   "execution_count": 74,
   "id": "9121dce3",
   "metadata": {
    "execution": {
     "iopub.execute_input": "2023-06-27T21:57:34.960773Z",
     "iopub.status.busy": "2023-06-27T21:57:34.960445Z",
     "iopub.status.idle": "2023-06-27T21:57:34.966662Z",
     "shell.execute_reply": "2023-06-27T21:57:34.965570Z"
    },
    "id": "vJKfx2UQ0H11",
    "papermill": {
     "duration": 0.032622,
     "end_time": "2023-06-27T21:57:34.969441",
     "exception": false,
     "start_time": "2023-06-27T21:57:34.936819",
     "status": "completed"
    },
    "tags": []
   },
   "outputs": [],
   "source": [
    "vote_m = VotingClassifier(estimators = voter , voting = 'hard')"
   ]
  },
  {
   "cell_type": "code",
   "execution_count": 75,
   "id": "6f43a531",
   "metadata": {
    "_kg_hide-output": false,
    "execution": {
     "iopub.execute_input": "2023-06-27T21:57:35.015993Z",
     "iopub.status.busy": "2023-06-27T21:57:35.015682Z",
     "iopub.status.idle": "2023-06-27T21:57:36.151671Z",
     "shell.execute_reply": "2023-06-27T21:57:36.150690Z"
    },
    "id": "8ZVmHMd40H11",
    "papermill": {
     "duration": 1.1618,
     "end_time": "2023-06-27T21:57:36.153679",
     "exception": false,
     "start_time": "2023-06-27T21:57:34.991879",
     "status": "completed"
    },
    "scrolled": true,
    "tags": []
   },
   "outputs": [],
   "source": [
    "vote_m.fit(x_train,y_train)\n",
    "pred = vote_m.predict(x_test)"
   ]
  },
  {
   "cell_type": "code",
   "execution_count": 76,
   "id": "1897971e",
   "metadata": {
    "execution": {
     "iopub.execute_input": "2023-06-27T21:57:36.198086Z",
     "iopub.status.busy": "2023-06-27T21:57:36.197780Z",
     "iopub.status.idle": "2023-06-27T21:57:36.213415Z",
     "shell.execute_reply": "2023-06-27T21:57:36.212265Z"
    },
    "id": "GGYnfUPh0H11",
    "outputId": "258fade2-c02f-4ec0-ef64-818df583c1c2",
    "papermill": {
     "duration": 0.039813,
     "end_time": "2023-06-27T21:57:36.215262",
     "exception": false,
     "start_time": "2023-06-27T21:57:36.175449",
     "status": "completed"
    },
    "tags": []
   },
   "outputs": [
    {
     "name": "stdout",
     "output_type": "stream",
     "text": [
      "              precision    recall  f1-score   support\n",
      "\n",
      "           0       0.88      0.94      0.91       118\n",
      "           1       0.87      0.75      0.81        61\n",
      "\n",
      "    accuracy                           0.88       179\n",
      "   macro avg       0.87      0.85      0.86       179\n",
      "weighted avg       0.88      0.88      0.87       179\n",
      "\n",
      "[[111   7]\n",
      " [ 15  46]]\n"
     ]
    }
   ],
   "source": [
    "print(classification_report(y_test,pred))\n",
    "print(confusion_matrix(y_test,pred))"
   ]
  },
  {
   "cell_type": "code",
   "execution_count": 77,
   "id": "676cef7f",
   "metadata": {
    "execution": {
     "iopub.execute_input": "2023-06-27T21:57:36.262619Z",
     "iopub.status.busy": "2023-06-27T21:57:36.262321Z",
     "iopub.status.idle": "2023-06-27T21:57:36.266806Z",
     "shell.execute_reply": "2023-06-27T21:57:36.265674Z"
    },
    "id": "P-3OtBMV0H11",
    "papermill": {
     "duration": 0.029705,
     "end_time": "2023-06-27T21:57:36.268549",
     "exception": false,
     "start_time": "2023-06-27T21:57:36.238844",
     "status": "completed"
    },
    "tags": []
   },
   "outputs": [],
   "source": [
    "from sklearn.model_selection import cross_val_score"
   ]
  },
  {
   "cell_type": "code",
   "execution_count": 78,
   "id": "337f6450",
   "metadata": {
    "execution": {
     "iopub.execute_input": "2023-06-27T21:57:36.315007Z",
     "iopub.status.busy": "2023-06-27T21:57:36.314684Z",
     "iopub.status.idle": "2023-06-27T21:57:49.560575Z",
     "shell.execute_reply": "2023-06-27T21:57:49.559958Z"
    },
    "id": "nvEIniDP0H12",
    "outputId": "11eb726d-d785-4138-d643-3f148cdb39f4",
    "papermill": {
     "duration": 13.270754,
     "end_time": "2023-06-27T21:57:49.562596",
     "exception": false,
     "start_time": "2023-06-27T21:57:36.291842",
     "status": "completed"
    },
    "scrolled": true,
    "tags": []
   },
   "outputs": [
    {
     "name": "stdout",
     "output_type": "stream",
     "text": [
      "Accuracy:  81.93 %\n"
     ]
    }
   ],
   "source": [
    "mod_pred = cross_val_score(stacking_model,x,y,cv=5,verbose=0)\n",
    "print('Accuracy: ',round(mod_pred.mean()*100,2),'%')"
   ]
  },
  {
   "cell_type": "code",
   "execution_count": 79,
   "id": "6f075648",
   "metadata": {
    "execution": {
     "iopub.execute_input": "2023-06-27T21:57:49.610066Z",
     "iopub.status.busy": "2023-06-27T21:57:49.609339Z",
     "iopub.status.idle": "2023-06-27T21:57:52.219649Z",
     "shell.execute_reply": "2023-06-27T21:57:52.219035Z"
    },
    "id": "dN2XLbTx0H12",
    "outputId": "9d56e8a8-bd35-48f1-a329-f8aab48055cc",
    "papermill": {
     "duration": 2.636612,
     "end_time": "2023-06-27T21:57:52.222291",
     "exception": false,
     "start_time": "2023-06-27T21:57:49.585679",
     "status": "completed"
    },
    "scrolled": true,
    "tags": []
   },
   "outputs": [
    {
     "data": {
      "text/html": [
       "<style>#sk-container-id-1 {color: black;background-color: white;}#sk-container-id-1 pre{padding: 0;}#sk-container-id-1 div.sk-toggleable {background-color: white;}#sk-container-id-1 label.sk-toggleable__label {cursor: pointer;display: block;width: 100%;margin-bottom: 0;padding: 0.3em;box-sizing: border-box;text-align: center;}#sk-container-id-1 label.sk-toggleable__label-arrow:before {content: \"▸\";float: left;margin-right: 0.25em;color: #696969;}#sk-container-id-1 label.sk-toggleable__label-arrow:hover:before {color: black;}#sk-container-id-1 div.sk-estimator:hover label.sk-toggleable__label-arrow:before {color: black;}#sk-container-id-1 div.sk-toggleable__content {max-height: 0;max-width: 0;overflow: hidden;text-align: left;background-color: #f0f8ff;}#sk-container-id-1 div.sk-toggleable__content pre {margin: 0.2em;color: black;border-radius: 0.25em;background-color: #f0f8ff;}#sk-container-id-1 input.sk-toggleable__control:checked~div.sk-toggleable__content {max-height: 200px;max-width: 100%;overflow: auto;}#sk-container-id-1 input.sk-toggleable__control:checked~label.sk-toggleable__label-arrow:before {content: \"▾\";}#sk-container-id-1 div.sk-estimator input.sk-toggleable__control:checked~label.sk-toggleable__label {background-color: #d4ebff;}#sk-container-id-1 div.sk-label input.sk-toggleable__control:checked~label.sk-toggleable__label {background-color: #d4ebff;}#sk-container-id-1 input.sk-hidden--visually {border: 0;clip: rect(1px 1px 1px 1px);clip: rect(1px, 1px, 1px, 1px);height: 1px;margin: -1px;overflow: hidden;padding: 0;position: absolute;width: 1px;}#sk-container-id-1 div.sk-estimator {font-family: monospace;background-color: #f0f8ff;border: 1px dotted black;border-radius: 0.25em;box-sizing: border-box;margin-bottom: 0.5em;}#sk-container-id-1 div.sk-estimator:hover {background-color: #d4ebff;}#sk-container-id-1 div.sk-parallel-item::after {content: \"\";width: 100%;border-bottom: 1px solid gray;flex-grow: 1;}#sk-container-id-1 div.sk-label:hover label.sk-toggleable__label {background-color: #d4ebff;}#sk-container-id-1 div.sk-serial::before {content: \"\";position: absolute;border-left: 1px solid gray;box-sizing: border-box;top: 0;bottom: 0;left: 50%;z-index: 0;}#sk-container-id-1 div.sk-serial {display: flex;flex-direction: column;align-items: center;background-color: white;padding-right: 0.2em;padding-left: 0.2em;position: relative;}#sk-container-id-1 div.sk-item {position: relative;z-index: 1;}#sk-container-id-1 div.sk-parallel {display: flex;align-items: stretch;justify-content: center;background-color: white;position: relative;}#sk-container-id-1 div.sk-item::before, #sk-container-id-1 div.sk-parallel-item::before {content: \"\";position: absolute;border-left: 1px solid gray;box-sizing: border-box;top: 0;bottom: 0;left: 50%;z-index: -1;}#sk-container-id-1 div.sk-parallel-item {display: flex;flex-direction: column;z-index: 1;position: relative;background-color: white;}#sk-container-id-1 div.sk-parallel-item:first-child::after {align-self: flex-end;width: 50%;}#sk-container-id-1 div.sk-parallel-item:last-child::after {align-self: flex-start;width: 50%;}#sk-container-id-1 div.sk-parallel-item:only-child::after {width: 0;}#sk-container-id-1 div.sk-dashed-wrapped {border: 1px dashed gray;margin: 0 0.4em 0.5em 0.4em;box-sizing: border-box;padding-bottom: 0.4em;background-color: white;}#sk-container-id-1 div.sk-label label {font-family: monospace;font-weight: bold;display: inline-block;line-height: 1.2em;}#sk-container-id-1 div.sk-label-container {text-align: center;}#sk-container-id-1 div.sk-container {/* jupyter's `normalize.less` sets `[hidden] { display: none; }` but bootstrap.min.css set `[hidden] { display: none !important; }` so we also need the `!important` here to be able to override the default hidden behavior on the sphinx rendered scikit-learn.org. See: https://github.com/scikit-learn/scikit-learn/issues/21755 */display: inline-block !important;position: relative;}#sk-container-id-1 div.sk-text-repr-fallback {display: none;}</style><div id=\"sk-container-id-1\" class=\"sk-top-container\"><div class=\"sk-text-repr-fallback\"><pre>StackingClassifier(estimators=[(&#x27;GBoost&#x27;,\n",
       "                                GradientBoostingClassifier(max_depth=12,\n",
       "                                                           min_samples_leaf=6,\n",
       "                                                           min_samples_split=9)),\n",
       "                               (&#x27;XGBoost&#x27;,\n",
       "                                XGBClassifier(base_score=None, booster=None,\n",
       "                                              callbacks=None,\n",
       "                                              colsample_bylevel=None,\n",
       "                                              colsample_bynode=None,\n",
       "                                              colsample_bytree=None,\n",
       "                                              early_stopping_rounds=None,\n",
       "                                              enable_categorical=False,\n",
       "                                              eval_metric=None,\n",
       "                                              feature_types=None, gamm...\n",
       "                                              max_cat_threshold=None,\n",
       "                                              max_cat_to_onehot=None,\n",
       "                                              max_delta_step=None, max_depth=12,\n",
       "                                              max_leaves=None,\n",
       "                                              min_child_weight=None,\n",
       "                                              missing=nan,\n",
       "                                              monotone_constraints=None,\n",
       "                                              n_estimators=100, n_jobs=None,\n",
       "                                              num_parallel_tree=None,\n",
       "                                              predictor=None, random_state=None, ...)),\n",
       "                               (&#x27;LR&#x27;, LogisticRegression(C=1)),\n",
       "                               (&#x27;RF&#x27;,\n",
       "                                RandomForestClassifier(max_depth=12,\n",
       "                                                       min_samples_leaf=6,\n",
       "                                                       min_samples_split=9))])</pre><b>In a Jupyter environment, please rerun this cell to show the HTML representation or trust the notebook. <br />On GitHub, the HTML representation is unable to render, please try loading this page with nbviewer.org.</b></div><div class=\"sk-container\" hidden><div class=\"sk-item sk-dashed-wrapped\"><div class=\"sk-label-container\"><div class=\"sk-label sk-toggleable\"><input class=\"sk-toggleable__control sk-hidden--visually\" id=\"sk-estimator-id-1\" type=\"checkbox\" ><label for=\"sk-estimator-id-1\" class=\"sk-toggleable__label sk-toggleable__label-arrow\">StackingClassifier</label><div class=\"sk-toggleable__content\"><pre>StackingClassifier(estimators=[(&#x27;GBoost&#x27;,\n",
       "                                GradientBoostingClassifier(max_depth=12,\n",
       "                                                           min_samples_leaf=6,\n",
       "                                                           min_samples_split=9)),\n",
       "                               (&#x27;XGBoost&#x27;,\n",
       "                                XGBClassifier(base_score=None, booster=None,\n",
       "                                              callbacks=None,\n",
       "                                              colsample_bylevel=None,\n",
       "                                              colsample_bynode=None,\n",
       "                                              colsample_bytree=None,\n",
       "                                              early_stopping_rounds=None,\n",
       "                                              enable_categorical=False,\n",
       "                                              eval_metric=None,\n",
       "                                              feature_types=None, gamm...\n",
       "                                              max_cat_threshold=None,\n",
       "                                              max_cat_to_onehot=None,\n",
       "                                              max_delta_step=None, max_depth=12,\n",
       "                                              max_leaves=None,\n",
       "                                              min_child_weight=None,\n",
       "                                              missing=nan,\n",
       "                                              monotone_constraints=None,\n",
       "                                              n_estimators=100, n_jobs=None,\n",
       "                                              num_parallel_tree=None,\n",
       "                                              predictor=None, random_state=None, ...)),\n",
       "                               (&#x27;LR&#x27;, LogisticRegression(C=1)),\n",
       "                               (&#x27;RF&#x27;,\n",
       "                                RandomForestClassifier(max_depth=12,\n",
       "                                                       min_samples_leaf=6,\n",
       "                                                       min_samples_split=9))])</pre></div></div></div><div class=\"sk-serial\"><div class=\"sk-item\"><div class=\"sk-parallel\"><div class=\"sk-parallel-item\"><div class=\"sk-item\"><div class=\"sk-label-container\"><div class=\"sk-label sk-toggleable\"><label>GBoost</label></div></div><div class=\"sk-serial\"><div class=\"sk-item\"><div class=\"sk-estimator sk-toggleable\"><input class=\"sk-toggleable__control sk-hidden--visually\" id=\"sk-estimator-id-2\" type=\"checkbox\" ><label for=\"sk-estimator-id-2\" class=\"sk-toggleable__label sk-toggleable__label-arrow\">GradientBoostingClassifier</label><div class=\"sk-toggleable__content\"><pre>GradientBoostingClassifier(max_depth=12, min_samples_leaf=6,\n",
       "                           min_samples_split=9)</pre></div></div></div></div></div></div><div class=\"sk-parallel-item\"><div class=\"sk-item\"><div class=\"sk-label-container\"><div class=\"sk-label sk-toggleable\"><label>XGBoost</label></div></div><div class=\"sk-serial\"><div class=\"sk-item\"><div class=\"sk-estimator sk-toggleable\"><input class=\"sk-toggleable__control sk-hidden--visually\" id=\"sk-estimator-id-3\" type=\"checkbox\" ><label for=\"sk-estimator-id-3\" class=\"sk-toggleable__label sk-toggleable__label-arrow\">XGBClassifier</label><div class=\"sk-toggleable__content\"><pre>XGBClassifier(base_score=None, booster=None, callbacks=None,\n",
       "              colsample_bylevel=None, colsample_bynode=None,\n",
       "              colsample_bytree=None, early_stopping_rounds=None,\n",
       "              enable_categorical=False, eval_metric=None, feature_types=None,\n",
       "              gamma=None, gpu_id=None, grow_policy=None, importance_type=None,\n",
       "              interaction_constraints=None, learning_rate=None, max_bin=None,\n",
       "              max_cat_threshold=None, max_cat_to_onehot=None,\n",
       "              max_delta_step=None, max_depth=12, max_leaves=None,\n",
       "              min_child_weight=None, missing=nan, monotone_constraints=None,\n",
       "              n_estimators=100, n_jobs=None, num_parallel_tree=None,\n",
       "              predictor=None, random_state=None, ...)</pre></div></div></div></div></div></div><div class=\"sk-parallel-item\"><div class=\"sk-item\"><div class=\"sk-label-container\"><div class=\"sk-label sk-toggleable\"><label>LR</label></div></div><div class=\"sk-serial\"><div class=\"sk-item\"><div class=\"sk-estimator sk-toggleable\"><input class=\"sk-toggleable__control sk-hidden--visually\" id=\"sk-estimator-id-4\" type=\"checkbox\" ><label for=\"sk-estimator-id-4\" class=\"sk-toggleable__label sk-toggleable__label-arrow\">LogisticRegression</label><div class=\"sk-toggleable__content\"><pre>LogisticRegression(C=1)</pre></div></div></div></div></div></div><div class=\"sk-parallel-item\"><div class=\"sk-item\"><div class=\"sk-label-container\"><div class=\"sk-label sk-toggleable\"><label>RF</label></div></div><div class=\"sk-serial\"><div class=\"sk-item\"><div class=\"sk-estimator sk-toggleable\"><input class=\"sk-toggleable__control sk-hidden--visually\" id=\"sk-estimator-id-5\" type=\"checkbox\" ><label for=\"sk-estimator-id-5\" class=\"sk-toggleable__label sk-toggleable__label-arrow\">RandomForestClassifier</label><div class=\"sk-toggleable__content\"><pre>RandomForestClassifier(max_depth=12, min_samples_leaf=6, min_samples_split=9)</pre></div></div></div></div></div></div></div></div><div class=\"sk-item\"><div class=\"sk-parallel\"><div class=\"sk-parallel-item\"><div class=\"sk-item\"><div class=\"sk-label-container\"><div class=\"sk-label sk-toggleable\"><label>final_estimator</label></div></div><div class=\"sk-serial\"><div class=\"sk-item\"><div class=\"sk-estimator sk-toggleable\"><input class=\"sk-toggleable__control sk-hidden--visually\" id=\"sk-estimator-id-6\" type=\"checkbox\" ><label for=\"sk-estimator-id-6\" class=\"sk-toggleable__label sk-toggleable__label-arrow\">LogisticRegression</label><div class=\"sk-toggleable__content\"><pre>LogisticRegression()</pre></div></div></div></div></div></div></div></div></div></div></div></div>"
      ],
      "text/plain": [
       "StackingClassifier(estimators=[('GBoost',\n",
       "                                GradientBoostingClassifier(max_depth=12,\n",
       "                                                           min_samples_leaf=6,\n",
       "                                                           min_samples_split=9)),\n",
       "                               ('XGBoost',\n",
       "                                XGBClassifier(base_score=None, booster=None,\n",
       "                                              callbacks=None,\n",
       "                                              colsample_bylevel=None,\n",
       "                                              colsample_bynode=None,\n",
       "                                              colsample_bytree=None,\n",
       "                                              early_stopping_rounds=None,\n",
       "                                              enable_categorical=False,\n",
       "                                              eval_metric=None,\n",
       "                                              feature_types=None, gamm...\n",
       "                                              max_cat_threshold=None,\n",
       "                                              max_cat_to_onehot=None,\n",
       "                                              max_delta_step=None, max_depth=12,\n",
       "                                              max_leaves=None,\n",
       "                                              min_child_weight=None,\n",
       "                                              missing=nan,\n",
       "                                              monotone_constraints=None,\n",
       "                                              n_estimators=100, n_jobs=None,\n",
       "                                              num_parallel_tree=None,\n",
       "                                              predictor=None, random_state=None, ...)),\n",
       "                               ('LR', LogisticRegression(C=1)),\n",
       "                               ('RF',\n",
       "                                RandomForestClassifier(max_depth=12,\n",
       "                                                       min_samples_leaf=6,\n",
       "                                                       min_samples_split=9))])"
      ]
     },
     "execution_count": 79,
     "metadata": {},
     "output_type": "execute_result"
    }
   ],
   "source": [
    "stacking_model.fit(x_train, y_train)"
   ]
  },
  {
   "cell_type": "code",
   "execution_count": 80,
   "id": "87f6bbcc",
   "metadata": {
    "execution": {
     "iopub.execute_input": "2023-06-27T21:57:52.270750Z",
     "iopub.status.busy": "2023-06-27T21:57:52.270274Z",
     "iopub.status.idle": "2023-06-27T21:57:52.412454Z",
     "shell.execute_reply": "2023-06-27T21:57:52.411783Z"
    },
    "id": "6UTDphrR0H12",
    "outputId": "e45f95d3-1b7a-4eff-f4d1-1c2702486918",
    "papermill": {
     "duration": 0.169228,
     "end_time": "2023-06-27T21:57:52.414423",
     "exception": false,
     "start_time": "2023-06-27T21:57:52.245195",
     "status": "completed"
    },
    "tags": []
   },
   "outputs": [
    {
     "name": "stdout",
     "output_type": "stream",
     "text": [
      "Voting Classifier accuracy on Training Data is: 83.42696629213484\n",
      "Voting Classifier accuracy on Testing Data is: 87.70949720670392\n"
     ]
    }
   ],
   "source": [
    "# x_train_pred4 = stacking_model.predict(x_train)\n",
    "# x_test_pred4 = stacking_model.predict(x_test)\n",
    "# print(\"Stacking Model accuracy on Training Data is:\",accuracy_score(y_train,x_train_pred4)*100)\n",
    "# print(\"Stacking Model accuracy on Testing Data is:\",accuracy_score(y_test,x_test_pred4)*100)\n",
    "x_train_pred4 = vote_m.predict(x_train)\n",
    "x_test_pred4 = vote_m.predict(x_test)\n",
    "print(\"Voting Classifier accuracy on Training Data is:\",accuracy_score(y_train,x_train_pred4)*100)\n",
    "print(\"Voting Classifier accuracy on Testing Data is:\",accuracy_score(y_test,x_test_pred4)*100)"
   ]
  },
  {
   "cell_type": "code",
   "execution_count": 81,
   "id": "743e436e",
   "metadata": {
    "execution": {
     "iopub.execute_input": "2023-06-27T21:57:52.462312Z",
     "iopub.status.busy": "2023-06-27T21:57:52.461697Z",
     "iopub.status.idle": "2023-06-27T21:57:52.515824Z",
     "shell.execute_reply": "2023-06-27T21:57:52.515173Z"
    },
    "id": "DUrKmVZP0H12",
    "outputId": "4bd1320c-370c-4314-8667-9da9a27ec1a1",
    "papermill": {
     "duration": 0.080195,
     "end_time": "2023-06-27T21:57:52.517599",
     "exception": false,
     "start_time": "2023-06-27T21:57:52.437404",
     "status": "completed"
    },
    "tags": []
   },
   "outputs": [
    {
     "name": "stdout",
     "output_type": "stream",
     "text": [
      "Stacking Model accuracy on Training Data is: 82.7247191011236\n",
      "Stacking Model accuracy on Testing Data is: 88.26815642458101\n"
     ]
    }
   ],
   "source": [
    "x_train_pred5 = stacking_model.predict(x_train)\n",
    "x_test_pred5 = stacking_model.predict(x_test)\n",
    "print(\"Stacking Model accuracy on Training Data is:\",accuracy_score(y_train,x_train_pred5)*100)\n",
    "print(\"Stacking Model accuracy on Testing Data is:\",accuracy_score(y_test,x_test_pred5)*100)"
   ]
  },
  {
   "cell_type": "code",
   "execution_count": 82,
   "id": "08dcfdb5",
   "metadata": {
    "execution": {
     "iopub.execute_input": "2023-06-27T21:57:52.565166Z",
     "iopub.status.busy": "2023-06-27T21:57:52.564852Z",
     "iopub.status.idle": "2023-06-27T21:57:52.599016Z",
     "shell.execute_reply": "2023-06-27T21:57:52.598128Z"
    },
    "id": "BTL5O_JV0H12",
    "outputId": "afe865d8-b069-4570-a019-e0d9d73f42e5",
    "papermill": {
     "duration": 0.06039,
     "end_time": "2023-06-27T21:57:52.600935",
     "exception": false,
     "start_time": "2023-06-27T21:57:52.540545",
     "status": "completed"
    },
    "tags": []
   },
   "outputs": [
    {
     "data": {
      "text/html": [
       "<div>\n",
       "<style scoped>\n",
       "    .dataframe tbody tr th:only-of-type {\n",
       "        vertical-align: middle;\n",
       "    }\n",
       "\n",
       "    .dataframe tbody tr th {\n",
       "        vertical-align: top;\n",
       "    }\n",
       "\n",
       "    .dataframe thead th {\n",
       "        text-align: right;\n",
       "    }\n",
       "</style>\n",
       "<table border=\"1\" class=\"dataframe\">\n",
       "  <thead>\n",
       "    <tr style=\"text-align: right;\">\n",
       "      <th></th>\n",
       "      <th>PassengerId</th>\n",
       "      <th>Survived</th>\n",
       "    </tr>\n",
       "  </thead>\n",
       "  <tbody>\n",
       "    <tr>\n",
       "      <th>0</th>\n",
       "      <td>892</td>\n",
       "      <td>0</td>\n",
       "    </tr>\n",
       "    <tr>\n",
       "      <th>1</th>\n",
       "      <td>893</td>\n",
       "      <td>1</td>\n",
       "    </tr>\n",
       "    <tr>\n",
       "      <th>2</th>\n",
       "      <td>894</td>\n",
       "      <td>0</td>\n",
       "    </tr>\n",
       "    <tr>\n",
       "      <th>3</th>\n",
       "      <td>895</td>\n",
       "      <td>0</td>\n",
       "    </tr>\n",
       "    <tr>\n",
       "      <th>4</th>\n",
       "      <td>896</td>\n",
       "      <td>1</td>\n",
       "    </tr>\n",
       "    <tr>\n",
       "      <th>...</th>\n",
       "      <td>...</td>\n",
       "      <td>...</td>\n",
       "    </tr>\n",
       "    <tr>\n",
       "      <th>413</th>\n",
       "      <td>1305</td>\n",
       "      <td>0</td>\n",
       "    </tr>\n",
       "    <tr>\n",
       "      <th>414</th>\n",
       "      <td>1306</td>\n",
       "      <td>1</td>\n",
       "    </tr>\n",
       "    <tr>\n",
       "      <th>415</th>\n",
       "      <td>1307</td>\n",
       "      <td>0</td>\n",
       "    </tr>\n",
       "    <tr>\n",
       "      <th>416</th>\n",
       "      <td>1308</td>\n",
       "      <td>0</td>\n",
       "    </tr>\n",
       "    <tr>\n",
       "      <th>417</th>\n",
       "      <td>1309</td>\n",
       "      <td>1</td>\n",
       "    </tr>\n",
       "  </tbody>\n",
       "</table>\n",
       "<p>418 rows × 2 columns</p>\n",
       "</div>"
      ],
      "text/plain": [
       "     PassengerId  Survived\n",
       "0            892         0\n",
       "1            893         1\n",
       "2            894         0\n",
       "3            895         0\n",
       "4            896         1\n",
       "..           ...       ...\n",
       "413         1305         0\n",
       "414         1306         1\n",
       "415         1307         0\n",
       "416         1308         0\n",
       "417         1309         1\n",
       "\n",
       "[418 rows x 2 columns]"
      ]
     },
     "execution_count": 82,
     "metadata": {},
     "output_type": "execute_result"
    }
   ],
   "source": [
    "pred = stacking_model.predict(test)\n",
    "gs['Survived'] = pred\n",
    "gs"
   ]
  },
  {
   "cell_type": "code",
   "execution_count": 83,
   "id": "8b849f05",
   "metadata": {
    "execution": {
     "iopub.execute_input": "2023-06-27T21:57:52.648032Z",
     "iopub.status.busy": "2023-06-27T21:57:52.647750Z",
     "iopub.status.idle": "2023-06-27T21:57:52.656984Z",
     "shell.execute_reply": "2023-06-27T21:57:52.656035Z"
    },
    "id": "q0sboYni0H12",
    "papermill": {
     "duration": 0.035218,
     "end_time": "2023-06-27T21:57:52.658935",
     "exception": false,
     "start_time": "2023-06-27T21:57:52.623717",
     "status": "completed"
    },
    "tags": []
   },
   "outputs": [],
   "source": [
    "gs.to_csv('submission.csv',index=False)"
   ]
  },
  {
   "cell_type": "code",
   "execution_count": null,
   "id": "8dc81d5f",
   "metadata": {
    "id": "KCqtdlWE0H12",
    "papermill": {
     "duration": 0.023019,
     "end_time": "2023-06-27T21:57:52.705191",
     "exception": false,
     "start_time": "2023-06-27T21:57:52.682172",
     "status": "completed"
    },
    "tags": []
   },
   "outputs": [],
   "source": []
  }
 ],
 "metadata": {
  "kernelspec": {
   "display_name": "Python 3",
   "language": "python",
   "name": "python3"
  },
  "language_info": {
   "codemirror_mode": {
    "name": "ipython",
    "version": 3
   },
   "file_extension": ".py",
   "mimetype": "text/x-python",
   "name": "python",
   "nbconvert_exporter": "python",
   "pygments_lexer": "ipython3",
   "version": "3.10.10"
  },
  "papermill": {
   "default_parameters": {},
   "duration": 50.082178,
   "end_time": "2023-06-27T21:57:53.849622",
   "environment_variables": {},
   "exception": null,
   "input_path": "__notebook__.ipynb",
   "output_path": "__notebook__.ipynb",
   "parameters": {},
   "start_time": "2023-06-27T21:57:03.767444",
   "version": "2.4.0"
  }
 },
 "nbformat": 4,
 "nbformat_minor": 5
}
